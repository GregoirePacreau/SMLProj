{
 "cells": [
  {
   "cell_type": "markdown",
   "metadata": {},
   "source": [
    "# Compare and study influence of representation, parameter and learning method \n",
    "with scikit-learn and nltk\n"
   ]
  },
  {
   "cell_type": "markdown",
   "metadata": {},
   "source": [
    "## Possibilities\n",
    "\n",
    "(at least 3 methods) choices on this task\n",
    "\n",
    "### text representations\n",
    "text to vertor of numbers\n",
    "\n",
    "- bag of words\n",
    "- word2vec http://kavita-ganesan.com/gensim-word2vec-tutorial-starter-code/ https://radimrehurek.com/gensim/models/word2vec.html\n",
    "\n",
    "### learning methods/algorithms\n",
    "classify vectors of numbers\n",
    "\n",
    "- random forest\n",
    "- KNN\n",
    "- neural network\n"
   ]
  },
  {
   "cell_type": "code",
   "execution_count": 1,
   "metadata": {},
   "outputs": [],
   "source": [
    "from plot_confusion_matrix import plot_confusion_matrix\n",
    "from sklearn import metrics\n",
    "\n",
    "def compute_model_perf(cont, truth, pred, name=\"unnamed\", fit_dur=None, predict_dur=None):\n",
    "    tmp = {\n",
    "        'fit_duration': fit_dur,\n",
    "        'predict_duration': predict_dur,\n",
    "        'accuracy': metrics.accuracy_score(truth, pred),\n",
    "        'recall': metrics.recall_score(truth, pred)}\n",
    "    cont[name]=tmp\n",
    "    return tmp\n",
    "\n",
    "\n",
    "import pylab as plot\n",
    "params = {'legend.fontsize': 20,\n",
    "          'legend.handlelength': 2}\n",
    "plot.rcParams.update(params)"
   ]
  },
  {
   "cell_type": "markdown",
   "metadata": {},
   "source": [
    "## Datasets\n",
    "\n",
    "### polarity\n",
    "\n",
    "review -> positive/negative rating"
   ]
  },
  {
   "cell_type": "code",
   "execution_count": 2,
   "metadata": {},
   "outputs": [
    {
     "name": "stdout",
     "output_type": "stream",
     "text": [
      "number of positives:  1000\n",
      "number of negatives:  1000\n"
     ]
    }
   ],
   "source": [
    "from glob import glob\n",
    "polarity_files = glob(\"data/review_polarity/txt_sentoken/*/*\")\n",
    "polarity_files_pos = glob(\"data/review_polarity/txt_sentoken/pos/*\")\n",
    "polarity_files_neg = glob(\"data/review_polarity/txt_sentoken/neg/*\")\n",
    "print(\"number of positives: \", len(polarity_files_pos))\n",
    "print(\"number of negatives: \", len(polarity_files_neg))"
   ]
  },
  {
   "cell_type": "code",
   "execution_count": 3,
   "metadata": {},
   "outputs": [
    {
     "data": {
      "text/html": [
       "<div>\n",
       "<style scoped>\n",
       "    .dataframe tbody tr th:only-of-type {\n",
       "        vertical-align: middle;\n",
       "    }\n",
       "\n",
       "    .dataframe tbody tr th {\n",
       "        vertical-align: top;\n",
       "    }\n",
       "\n",
       "    .dataframe thead th {\n",
       "        text-align: right;\n",
       "    }\n",
       "</style>\n",
       "<table border=\"1\" class=\"dataframe\">\n",
       "  <thead>\n",
       "    <tr style=\"text-align: right;\">\n",
       "      <th></th>\n",
       "      <th>label</th>\n",
       "      <th>file</th>\n",
       "      <th>label_num</th>\n",
       "    </tr>\n",
       "  </thead>\n",
       "  <tbody>\n",
       "    <tr>\n",
       "      <th>1207</th>\n",
       "      <td>neg</td>\n",
       "      <td>data/review_polarity/txt_sentoken/neg/cv200_29...</td>\n",
       "      <td>0</td>\n",
       "    </tr>\n",
       "    <tr>\n",
       "      <th>1724</th>\n",
       "      <td>neg</td>\n",
       "      <td>data/review_polarity/txt_sentoken/neg/cv730_10...</td>\n",
       "      <td>0</td>\n",
       "    </tr>\n",
       "    <tr>\n",
       "      <th>633</th>\n",
       "      <td>pos</td>\n",
       "      <td>data/review_polarity/txt_sentoken/pos/cv634_11...</td>\n",
       "      <td>1</td>\n",
       "    </tr>\n",
       "    <tr>\n",
       "      <th>718</th>\n",
       "      <td>pos</td>\n",
       "      <td>data/review_polarity/txt_sentoken/pos/cv724_13...</td>\n",
       "      <td>1</td>\n",
       "    </tr>\n",
       "    <tr>\n",
       "      <th>393</th>\n",
       "      <td>pos</td>\n",
       "      <td>data/review_polarity/txt_sentoken/pos/cv397_29...</td>\n",
       "      <td>1</td>\n",
       "    </tr>\n",
       "    <tr>\n",
       "      <th>1467</th>\n",
       "      <td>neg</td>\n",
       "      <td>data/review_polarity/txt_sentoken/neg/cv475_22...</td>\n",
       "      <td>0</td>\n",
       "    </tr>\n",
       "    <tr>\n",
       "      <th>661</th>\n",
       "      <td>pos</td>\n",
       "      <td>data/review_polarity/txt_sentoken/pos/cv663_13...</td>\n",
       "      <td>1</td>\n",
       "    </tr>\n",
       "    <tr>\n",
       "      <th>1209</th>\n",
       "      <td>neg</td>\n",
       "      <td>data/review_polarity/txt_sentoken/neg/cv202_11...</td>\n",
       "      <td>0</td>\n",
       "    </tr>\n",
       "    <tr>\n",
       "      <th>1512</th>\n",
       "      <td>neg</td>\n",
       "      <td>data/review_polarity/txt_sentoken/neg/cv523_18...</td>\n",
       "      <td>0</td>\n",
       "    </tr>\n",
       "    <tr>\n",
       "      <th>396</th>\n",
       "      <td>pos</td>\n",
       "      <td>data/review_polarity/txt_sentoken/pos/cv400_19...</td>\n",
       "      <td>1</td>\n",
       "    </tr>\n",
       "  </tbody>\n",
       "</table>\n",
       "</div>"
      ],
      "text/plain": [
       "     label                                               file  label_num\n",
       "1207   neg  data/review_polarity/txt_sentoken/neg/cv200_29...          0\n",
       "1724   neg  data/review_polarity/txt_sentoken/neg/cv730_10...          0\n",
       "633    pos  data/review_polarity/txt_sentoken/pos/cv634_11...          1\n",
       "718    pos  data/review_polarity/txt_sentoken/pos/cv724_13...          1\n",
       "393    pos  data/review_polarity/txt_sentoken/pos/cv397_29...          1\n",
       "1467   neg  data/review_polarity/txt_sentoken/neg/cv475_22...          0\n",
       "661    pos  data/review_polarity/txt_sentoken/pos/cv663_13...          1\n",
       "1209   neg  data/review_polarity/txt_sentoken/neg/cv202_11...          0\n",
       "1512   neg  data/review_polarity/txt_sentoken/neg/cv523_18...          0\n",
       "396    pos  data/review_polarity/txt_sentoken/pos/cv400_19...          1"
      ]
     },
     "execution_count": 3,
     "metadata": {},
     "output_type": "execute_result"
    }
   ],
   "source": [
    "import pandas as pd\n",
    "polarity_files_df = pd.DataFrame({'pos':polarity_files_pos,'neg':polarity_files_neg})\n",
    "polarity_files_df = pd.melt(polarity_files_df, value_vars=['pos','neg'],value_name=\"file\",var_name=\"label\")\n",
    "polarity_files_df[\"label_num\"] = polarity_files_df.label.map({\"neg\":0, \"pos\":1})\n",
    "polarity_files_df.sample(10)"
   ]
  },
  {
   "cell_type": "code",
   "execution_count": 4,
   "metadata": {},
   "outputs": [],
   "source": [
    "from sklearn.model_selection import train_test_split\n",
    "import numpy as np\n",
    "sample = polarity_files_df #.sample(200)\n",
    "polarity_X = np.array([open(e).read() for e in sample[\"file\"]])\n",
    "polarity_Y = sample[\"label_num\"]\n",
    "polarity_train_X, polarity_test_X, polarity_train_Y, polarity_test_Y = train_test_split(polarity_X, polarity_Y, random_state=1)"
   ]
  },
  {
   "cell_type": "markdown",
   "metadata": {},
   "source": [
    "#### sklearn - CountVectorizer"
   ]
  },
  {
   "cell_type": "code",
   "execution_count": 5,
   "metadata": {},
   "outputs": [
    {
     "data": {
      "text/plain": [
       "CountVectorizer(analyzer='word', binary=False, decode_error='strict',\n",
       "        dtype=<class 'numpy.int64'>, encoding='utf-8', input='content',\n",
       "        lowercase=True, max_df=1.0, max_features=None, min_df=1,\n",
       "        ngram_range=(1, 1), preprocessor=None, stop_words=None,\n",
       "        strip_accents=None, token_pattern='(?u)\\\\b\\\\w\\\\w+\\\\b',\n",
       "        tokenizer=None, vocabulary=None)"
      ]
     },
     "execution_count": 5,
     "metadata": {},
     "output_type": "execute_result"
    }
   ],
   "source": [
    "from sklearn.feature_extraction.text import CountVectorizer\n",
    "vect = CountVectorizer()\n",
    "vect.fit(polarity_train_X)"
   ]
  },
  {
   "cell_type": "code",
   "execution_count": 6,
   "metadata": {
    "scrolled": false
   },
   "outputs": [
    {
     "data": {
      "text/plain": [
       "['00',\n",
       " '000',\n",
       " '0009f',\n",
       " '007',\n",
       " '00s',\n",
       " '03',\n",
       " '04',\n",
       " '05',\n",
       " '05425',\n",
       " '10',\n",
       " '100',\n",
       " '1000',\n",
       " '10000',\n",
       " '100m',\n",
       " '101',\n",
       " '102',\n",
       " '103',\n",
       " '104',\n",
       " '105',\n",
       " '106']"
      ]
     },
     "execution_count": 6,
     "metadata": {},
     "output_type": "execute_result"
    }
   ],
   "source": [
    "# examine the fitted vocabulary\n",
    "vect.get_feature_names()[:20]"
   ]
  },
  {
   "cell_type": "code",
   "execution_count": 7,
   "metadata": {},
   "outputs": [
    {
     "data": {
      "text/plain": [
       "<1500x35363 sparse matrix of type '<class 'numpy.int64'>'\n",
       "\twith 500561 stored elements in Compressed Sparse Row format>"
      ]
     },
     "execution_count": 7,
     "metadata": {},
     "output_type": "execute_result"
    }
   ],
   "source": [
    "# transform training data into a \"document-term matrix'\n",
    "polarity_train_dtm = vect.transform(polarity_train_X)\n",
    "polarity_train_dtm"
   ]
  },
  {
   "cell_type": "code",
   "execution_count": 8,
   "metadata": {},
   "outputs": [
    {
     "data": {
      "text/plain": [
       "<500x35363 sparse matrix of type '<class 'numpy.int64'>'\n",
       "\twith 161480 stored elements in Compressed Sparse Row format>"
      ]
     },
     "execution_count": 8,
     "metadata": {},
     "output_type": "execute_result"
    }
   ],
   "source": [
    "# transform training data into a \"document-term matrix'\n",
    "polarity_test_dtm = vect.transform(polarity_test_X)\n",
    "polarity_test_dtm"
   ]
  },
  {
   "cell_type": "code",
   "execution_count": 9,
   "metadata": {},
   "outputs": [
    {
     "data": {
      "text/plain": [
       "array([[0, 0, 0, ..., 0, 0, 0],\n",
       "       [0, 0, 0, ..., 0, 0, 0],\n",
       "       [0, 1, 0, ..., 0, 0, 0],\n",
       "       ...,\n",
       "       [0, 0, 0, ..., 0, 0, 0],\n",
       "       [0, 0, 0, ..., 0, 0, 0],\n",
       "       [0, 0, 0, ..., 0, 0, 0]])"
      ]
     },
     "execution_count": 9,
     "metadata": {},
     "output_type": "execute_result"
    }
   ],
   "source": [
    "# convert sparse matrix to a dense matrix\n",
    "polarity_train_dtm.toarray()"
   ]
  },
  {
   "cell_type": "code",
   "execution_count": 10,
   "metadata": {
    "scrolled": false
   },
   "outputs": [
    {
     "data": {
      "text/html": [
       "<div>\n",
       "<style scoped>\n",
       "    .dataframe tbody tr th:only-of-type {\n",
       "        vertical-align: middle;\n",
       "    }\n",
       "\n",
       "    .dataframe tbody tr th {\n",
       "        vertical-align: top;\n",
       "    }\n",
       "\n",
       "    .dataframe thead th {\n",
       "        text-align: right;\n",
       "    }\n",
       "</style>\n",
       "<table border=\"1\" class=\"dataframe\">\n",
       "  <thead>\n",
       "    <tr style=\"text-align: right;\">\n",
       "      <th></th>\n",
       "      <th>00</th>\n",
       "      <th>000</th>\n",
       "      <th>0009f</th>\n",
       "      <th>007</th>\n",
       "      <th>00s</th>\n",
       "      <th>03</th>\n",
       "      <th>04</th>\n",
       "      <th>05</th>\n",
       "      <th>05425</th>\n",
       "      <th>10</th>\n",
       "      <th>...</th>\n",
       "      <th>zukovsky</th>\n",
       "      <th>zulu</th>\n",
       "      <th>zundel</th>\n",
       "      <th>zurg</th>\n",
       "      <th>zus</th>\n",
       "      <th>zweibel</th>\n",
       "      <th>zwick</th>\n",
       "      <th>zwigoff</th>\n",
       "      <th>zycie</th>\n",
       "      <th>zzzzzzz</th>\n",
       "    </tr>\n",
       "  </thead>\n",
       "  <tbody>\n",
       "    <tr>\n",
       "      <th>1336</th>\n",
       "      <td>0</td>\n",
       "      <td>0</td>\n",
       "      <td>0</td>\n",
       "      <td>0</td>\n",
       "      <td>0</td>\n",
       "      <td>0</td>\n",
       "      <td>0</td>\n",
       "      <td>0</td>\n",
       "      <td>0</td>\n",
       "      <td>0</td>\n",
       "      <td>...</td>\n",
       "      <td>0</td>\n",
       "      <td>0</td>\n",
       "      <td>0</td>\n",
       "      <td>0</td>\n",
       "      <td>0</td>\n",
       "      <td>0</td>\n",
       "      <td>0</td>\n",
       "      <td>0</td>\n",
       "      <td>0</td>\n",
       "      <td>0</td>\n",
       "    </tr>\n",
       "    <tr>\n",
       "      <th>215</th>\n",
       "      <td>0</td>\n",
       "      <td>0</td>\n",
       "      <td>0</td>\n",
       "      <td>0</td>\n",
       "      <td>0</td>\n",
       "      <td>0</td>\n",
       "      <td>0</td>\n",
       "      <td>0</td>\n",
       "      <td>0</td>\n",
       "      <td>0</td>\n",
       "      <td>...</td>\n",
       "      <td>0</td>\n",
       "      <td>0</td>\n",
       "      <td>0</td>\n",
       "      <td>0</td>\n",
       "      <td>0</td>\n",
       "      <td>0</td>\n",
       "      <td>0</td>\n",
       "      <td>0</td>\n",
       "      <td>0</td>\n",
       "      <td>0</td>\n",
       "    </tr>\n",
       "    <tr>\n",
       "      <th>1292</th>\n",
       "      <td>0</td>\n",
       "      <td>0</td>\n",
       "      <td>0</td>\n",
       "      <td>0</td>\n",
       "      <td>0</td>\n",
       "      <td>0</td>\n",
       "      <td>0</td>\n",
       "      <td>0</td>\n",
       "      <td>0</td>\n",
       "      <td>0</td>\n",
       "      <td>...</td>\n",
       "      <td>0</td>\n",
       "      <td>0</td>\n",
       "      <td>0</td>\n",
       "      <td>0</td>\n",
       "      <td>0</td>\n",
       "      <td>0</td>\n",
       "      <td>0</td>\n",
       "      <td>0</td>\n",
       "      <td>0</td>\n",
       "      <td>0</td>\n",
       "    </tr>\n",
       "    <tr>\n",
       "      <th>1430</th>\n",
       "      <td>0</td>\n",
       "      <td>0</td>\n",
       "      <td>0</td>\n",
       "      <td>0</td>\n",
       "      <td>0</td>\n",
       "      <td>0</td>\n",
       "      <td>0</td>\n",
       "      <td>0</td>\n",
       "      <td>0</td>\n",
       "      <td>0</td>\n",
       "      <td>...</td>\n",
       "      <td>0</td>\n",
       "      <td>0</td>\n",
       "      <td>0</td>\n",
       "      <td>0</td>\n",
       "      <td>0</td>\n",
       "      <td>0</td>\n",
       "      <td>0</td>\n",
       "      <td>0</td>\n",
       "      <td>0</td>\n",
       "      <td>0</td>\n",
       "    </tr>\n",
       "    <tr>\n",
       "      <th>1497</th>\n",
       "      <td>0</td>\n",
       "      <td>0</td>\n",
       "      <td>0</td>\n",
       "      <td>0</td>\n",
       "      <td>0</td>\n",
       "      <td>0</td>\n",
       "      <td>0</td>\n",
       "      <td>0</td>\n",
       "      <td>0</td>\n",
       "      <td>0</td>\n",
       "      <td>...</td>\n",
       "      <td>0</td>\n",
       "      <td>0</td>\n",
       "      <td>0</td>\n",
       "      <td>0</td>\n",
       "      <td>0</td>\n",
       "      <td>0</td>\n",
       "      <td>0</td>\n",
       "      <td>0</td>\n",
       "      <td>0</td>\n",
       "      <td>0</td>\n",
       "    </tr>\n",
       "    <tr>\n",
       "      <th>490</th>\n",
       "      <td>0</td>\n",
       "      <td>0</td>\n",
       "      <td>0</td>\n",
       "      <td>0</td>\n",
       "      <td>0</td>\n",
       "      <td>0</td>\n",
       "      <td>0</td>\n",
       "      <td>0</td>\n",
       "      <td>0</td>\n",
       "      <td>0</td>\n",
       "      <td>...</td>\n",
       "      <td>0</td>\n",
       "      <td>0</td>\n",
       "      <td>0</td>\n",
       "      <td>0</td>\n",
       "      <td>0</td>\n",
       "      <td>0</td>\n",
       "      <td>0</td>\n",
       "      <td>0</td>\n",
       "      <td>0</td>\n",
       "      <td>0</td>\n",
       "    </tr>\n",
       "    <tr>\n",
       "      <th>1053</th>\n",
       "      <td>0</td>\n",
       "      <td>0</td>\n",
       "      <td>0</td>\n",
       "      <td>0</td>\n",
       "      <td>0</td>\n",
       "      <td>0</td>\n",
       "      <td>0</td>\n",
       "      <td>0</td>\n",
       "      <td>0</td>\n",
       "      <td>0</td>\n",
       "      <td>...</td>\n",
       "      <td>0</td>\n",
       "      <td>0</td>\n",
       "      <td>0</td>\n",
       "      <td>0</td>\n",
       "      <td>0</td>\n",
       "      <td>0</td>\n",
       "      <td>0</td>\n",
       "      <td>0</td>\n",
       "      <td>0</td>\n",
       "      <td>0</td>\n",
       "    </tr>\n",
       "    <tr>\n",
       "      <th>1164</th>\n",
       "      <td>0</td>\n",
       "      <td>0</td>\n",
       "      <td>0</td>\n",
       "      <td>0</td>\n",
       "      <td>0</td>\n",
       "      <td>0</td>\n",
       "      <td>0</td>\n",
       "      <td>0</td>\n",
       "      <td>0</td>\n",
       "      <td>0</td>\n",
       "      <td>...</td>\n",
       "      <td>0</td>\n",
       "      <td>0</td>\n",
       "      <td>0</td>\n",
       "      <td>0</td>\n",
       "      <td>0</td>\n",
       "      <td>0</td>\n",
       "      <td>0</td>\n",
       "      <td>0</td>\n",
       "      <td>0</td>\n",
       "      <td>0</td>\n",
       "    </tr>\n",
       "    <tr>\n",
       "      <th>778</th>\n",
       "      <td>0</td>\n",
       "      <td>0</td>\n",
       "      <td>0</td>\n",
       "      <td>0</td>\n",
       "      <td>0</td>\n",
       "      <td>0</td>\n",
       "      <td>0</td>\n",
       "      <td>0</td>\n",
       "      <td>0</td>\n",
       "      <td>0</td>\n",
       "      <td>...</td>\n",
       "      <td>0</td>\n",
       "      <td>0</td>\n",
       "      <td>0</td>\n",
       "      <td>0</td>\n",
       "      <td>0</td>\n",
       "      <td>0</td>\n",
       "      <td>0</td>\n",
       "      <td>0</td>\n",
       "      <td>0</td>\n",
       "      <td>0</td>\n",
       "    </tr>\n",
       "    <tr>\n",
       "      <th>932</th>\n",
       "      <td>0</td>\n",
       "      <td>0</td>\n",
       "      <td>0</td>\n",
       "      <td>0</td>\n",
       "      <td>0</td>\n",
       "      <td>0</td>\n",
       "      <td>0</td>\n",
       "      <td>0</td>\n",
       "      <td>0</td>\n",
       "      <td>0</td>\n",
       "      <td>...</td>\n",
       "      <td>0</td>\n",
       "      <td>0</td>\n",
       "      <td>0</td>\n",
       "      <td>0</td>\n",
       "      <td>0</td>\n",
       "      <td>0</td>\n",
       "      <td>0</td>\n",
       "      <td>0</td>\n",
       "      <td>0</td>\n",
       "      <td>0</td>\n",
       "    </tr>\n",
       "  </tbody>\n",
       "</table>\n",
       "<p>10 rows × 35363 columns</p>\n",
       "</div>"
      ],
      "text/plain": [
       "      00  000  0009f  007  00s  03  04  05  05425  10   ...     zukovsky  \\\n",
       "1336   0    0      0    0    0   0   0   0      0   0   ...            0   \n",
       "215    0    0      0    0    0   0   0   0      0   0   ...            0   \n",
       "1292   0    0      0    0    0   0   0   0      0   0   ...            0   \n",
       "1430   0    0      0    0    0   0   0   0      0   0   ...            0   \n",
       "1497   0    0      0    0    0   0   0   0      0   0   ...            0   \n",
       "490    0    0      0    0    0   0   0   0      0   0   ...            0   \n",
       "1053   0    0      0    0    0   0   0   0      0   0   ...            0   \n",
       "1164   0    0      0    0    0   0   0   0      0   0   ...            0   \n",
       "778    0    0      0    0    0   0   0   0      0   0   ...            0   \n",
       "932    0    0      0    0    0   0   0   0      0   0   ...            0   \n",
       "\n",
       "      zulu  zundel  zurg  zus  zweibel  zwick  zwigoff  zycie  zzzzzzz  \n",
       "1336     0       0     0    0        0      0        0      0        0  \n",
       "215      0       0     0    0        0      0        0      0        0  \n",
       "1292     0       0     0    0        0      0        0      0        0  \n",
       "1430     0       0     0    0        0      0        0      0        0  \n",
       "1497     0       0     0    0        0      0        0      0        0  \n",
       "490      0       0     0    0        0      0        0      0        0  \n",
       "1053     0       0     0    0        0      0        0      0        0  \n",
       "1164     0       0     0    0        0      0        0      0        0  \n",
       "778      0       0     0    0        0      0        0      0        0  \n",
       "932      0       0     0    0        0      0        0      0        0  \n",
       "\n",
       "[10 rows x 35363 columns]"
      ]
     },
     "execution_count": 10,
     "metadata": {},
     "output_type": "execute_result"
    }
   ],
   "source": [
    "# examine the vocabulary and document-term matrix together\n",
    "pd.DataFrame(polarity_train_dtm.toarray(), columns=vect.get_feature_names()).sample(10)"
   ]
  },
  {
   "cell_type": "code",
   "execution_count": 11,
   "metadata": {},
   "outputs": [],
   "source": [
    "polarity_mperf_accu_cv = {}"
   ]
  },
  {
   "cell_type": "markdown",
   "metadata": {},
   "source": [
    "#### sklearn - MultinomialNB using CountVectorizer"
   ]
  },
  {
   "cell_type": "code",
   "execution_count": 223,
   "metadata": {},
   "outputs": [],
   "source": [
    "# import and instantiate a Multinomial Naive Bayes model\n",
    "from sklearn.naive_bayes import MultinomialNB\n",
    "name = \"MultinomialNB\"\n",
    "nb = MultinomialNB()"
   ]
  },
  {
   "cell_type": "code",
   "execution_count": 224,
   "metadata": {
    "scrolled": true
   },
   "outputs": [
    {
     "name": "stdout",
     "output_type": "stream",
     "text": [
      "\n",
      "    Naive Bayes classifier for multinomial models\n",
      "\n",
      "    The multinomial Naive Bayes classifier is suitable for classification with\n",
      "    discrete features (e.g., word counts for text classification). The\n",
      "    multinomial distribution normally requires integer feature counts. However,\n",
      "    in practice, fractional counts such as tf-idf may also work.\n",
      "\n",
      "    Read more in the :ref:`User Guide <multinomial_naive_bayes>`.\n",
      "\n",
      "    Parameters\n",
      "    ----------\n",
      "    alpha : float, optional (default=1.0)\n",
      "        Additive (Laplace/Lidstone) smoothing parameter\n",
      "        (0 for no smoothing).\n",
      "\n",
      "    fit_prior : boolean, optional (default=True)\n",
      "        Whether to learn class prior probabilities or not.\n",
      "        If false, a uniform prior will be used.\n",
      "\n",
      "    class_prior : array-like, size (n_classes,), optional (default=None)\n",
      "        Prior probabilities of the classes. If specified the priors are not\n",
      "        adjusted according to the data.\n",
      "\n",
      "    Attributes\n",
      "    ----------\n",
      "    class_log_prior_ : array, shape (n_classes, )\n",
      "        Smoothed empirical log probability for each class.\n",
      "\n",
      "    intercept_ : array, shape (n_classes, )\n",
      "        Mirrors ``class_log_prior_`` for interpreting MultinomialNB\n",
      "        as a linear model.\n",
      "\n",
      "    feature_log_prob_ : array, shape (n_classes, n_features)\n",
      "        Empirical log probability of features\n",
      "        given a class, ``P(x_i|y)``.\n",
      "\n",
      "    coef_ : array, shape (n_classes, n_features)\n",
      "        Mirrors ``feature_log_prob_`` for interpreting MultinomialNB\n",
      "        as a linear model.\n",
      "\n",
      "    class_count_ : array, shape (n_classes,)\n",
      "        Number of samples encountered for each class during fitting. This\n",
      "        value is weighted by the sample weight when provided.\n",
      "\n",
      "    feature_count_ : array, shape (n_classes, n_features)\n",
      "        Number of samples encountered for each (class, feature)\n",
      "        during fitting. This value is weighted by the sample weight when\n",
      "        provided.\n",
      "\n",
      "    Examples\n",
      "    --------\n",
      "    >>> import numpy as np\n",
      "    >>> X = np.random.randint(5, size=(6, 100))\n",
      "    >>> y = np.array([1, 2, 3, 4, 5, 6])\n",
      "    >>> from sklearn.naive_bayes import MultinomialNB\n",
      "    >>> clf = MultinomialNB()\n",
      "    >>> clf.fit(X, y)\n",
      "    MultinomialNB(alpha=1.0, class_prior=None, fit_prior=True)\n",
      "    >>> print(clf.predict(X[2:3]))\n",
      "    [3]\n",
      "\n",
      "    Notes\n",
      "    -----\n",
      "    For the rationale behind the names `coef_` and `intercept_`, i.e.\n",
      "    naive Bayes as a linear classifier, see J. Rennie et al. (2003),\n",
      "    Tackling the poor assumptions of naive Bayes text classifiers, ICML.\n",
      "\n",
      "    References\n",
      "    ----------\n",
      "    C.D. Manning, P. Raghavan and H. Schuetze (2008). Introduction to\n",
      "    Information Retrieval. Cambridge University Press, pp. 234-265.\n",
      "    http://nlp.stanford.edu/IR-book/html/htmledition/naive-bayes-text-classification-1.html\n",
      "    \n"
     ]
    }
   ],
   "source": [
    "print(nb.__doc__)"
   ]
  },
  {
   "cell_type": "code",
   "execution_count": 13,
   "metadata": {
    "scrolled": true
   },
   "outputs": [
    {
     "name": "stdout",
     "output_type": "stream",
     "text": [
      "7.88 ms ± 0 ns per loop (mean ± std. dev. of 1 run, 1 loop each)\n"
     ]
    }
   ],
   "source": [
    "result = %timeit -r 1 -n 1 -o nb.fit(polarity_train_dtm, polarity_train_Y)\n",
    "fit_dur=result.average"
   ]
  },
  {
   "cell_type": "code",
   "execution_count": 14,
   "metadata": {},
   "outputs": [
    {
     "name": "stdout",
     "output_type": "stream",
     "text": [
      "1.78 ms ± 0 ns per loop (mean ± std. dev. of 1 run, 1 loop each)\n"
     ]
    },
    {
     "data": {
      "text/plain": [
       "array([1, 0, 0, 1, 0, 0, 1, 1, 0, 0, 0, 0, 1, 0, 1, 0, 1, 1, 1, 0, 1, 0,\n",
       "       0, 1, 1, 1, 0, 1, 1, 1, 0, 0, 0, 1, 1, 1, 1, 0, 1, 0, 1, 1, 0, 0,\n",
       "       0, 0, 1, 0, 0, 0, 0, 0, 1, 0, 1, 1, 1, 0, 0, 0, 1, 1, 0, 0, 0, 1,\n",
       "       0, 1, 1, 0, 0, 0, 0, 0, 0, 0, 0, 0, 0, 0, 1, 1, 0, 1, 1, 1, 1, 1,\n",
       "       0, 0, 0, 0, 0, 0, 0, 1, 0, 1, 1, 1, 0, 0, 0, 1, 1, 0, 0, 0, 1, 0,\n",
       "       1, 1, 0, 0, 0, 0, 1, 0, 0, 0, 1, 0, 0, 0, 1, 0, 0, 0, 0, 1, 0, 1,\n",
       "       1, 1, 1, 1, 1, 1, 1, 1, 1, 0, 0, 0, 1, 0, 1, 0, 1, 0, 1, 0, 0, 0,\n",
       "       1, 0, 0, 1, 1, 1, 0, 0, 1, 1, 0, 0, 1, 1, 0, 1, 0, 0, 1, 0, 1, 1,\n",
       "       0, 1, 1, 0, 1, 0, 1, 0, 0, 0, 0, 0, 1, 0, 1, 1, 0, 0, 1, 0, 0, 1,\n",
       "       1, 0, 1, 1, 0, 0, 0, 1, 0, 0, 0, 0, 0, 0, 1, 1, 1, 1, 1, 0, 0, 1,\n",
       "       1, 1, 0, 1, 0, 1, 1, 1, 0, 0, 1, 0, 0, 0, 1, 0, 1, 0, 1, 0, 0, 1,\n",
       "       1, 0, 1, 0, 0, 1, 0, 0, 1, 1, 0, 0, 1, 0, 0, 1, 1, 0, 0, 0, 1, 0,\n",
       "       1, 0, 1, 1, 0, 0, 1, 0, 1, 0, 0, 1, 1, 0, 1, 1, 1, 0, 1, 0, 0, 0,\n",
       "       0, 0, 0, 0, 0, 1, 0, 1, 0, 1, 1, 1, 0, 1, 1, 0, 0, 0, 1, 0, 1, 1,\n",
       "       0, 0, 0, 1, 0, 0, 0, 0, 1, 1, 1, 1, 1, 0, 0, 0, 0, 0, 1, 0, 1, 1,\n",
       "       1, 1, 0, 1, 0, 1, 1, 1, 0, 1, 1, 1, 1, 0, 0, 1, 1, 1, 0, 0, 0, 0,\n",
       "       0, 1, 1, 1, 1, 1, 1, 1, 1, 1, 0, 0, 1, 1, 1, 0, 1, 1, 0, 1, 0, 1,\n",
       "       0, 1, 0, 0, 1, 1, 1, 1, 0, 0, 0, 0, 0, 1, 0, 0, 1, 1, 1, 0, 0, 1,\n",
       "       1, 1, 0, 0, 0, 0, 1, 1, 0, 0, 1, 1, 1, 1, 0, 1, 1, 1, 1, 1, 0, 0,\n",
       "       1, 0, 0, 1, 0, 1, 1, 1, 0, 0, 1, 1, 0, 0, 1, 1, 1, 0, 0, 1, 0, 0,\n",
       "       0, 0, 0, 1, 0, 0, 1, 0, 0, 1, 1, 0, 1, 1, 0, 0, 1, 1, 1, 0, 1, 1,\n",
       "       0, 0, 1, 1, 1, 0, 0, 1, 1, 1, 0, 1, 0, 0, 0, 1, 0, 1, 1, 1, 1, 1,\n",
       "       0, 1, 1, 1, 1, 0, 1, 1, 0, 0, 1, 1, 1, 0, 1, 1])"
      ]
     },
     "execution_count": 14,
     "metadata": {},
     "output_type": "execute_result"
    }
   ],
   "source": [
    "result = %timeit -r 1 -n 1 -o nb.predict(polarity_test_dtm)\n",
    "predict_dur=result.average\n",
    "y_pred_class = nb.predict(polarity_test_dtm)\n",
    "y_pred_class"
   ]
  },
  {
   "cell_type": "code",
   "execution_count": 15,
   "metadata": {},
   "outputs": [
    {
     "name": "stdout",
     "output_type": "stream",
     "text": [
      "[ True False False  True False False  True  True False False False False\n",
      "  True False  True False  True  True  True False  True False False  True\n",
      "  True  True False  True  True  True False False False  True  True  True\n",
      "  True False  True False  True  True False False False False  True False\n",
      " False False False False  True False  True  True  True False False False\n",
      "  True  True False False False  True False  True  True False False False\n",
      " False False False False False False False False  True  True False  True\n",
      "  True  True  True  True False False False False False False False  True\n",
      " False  True  True  True False False False  True  True False False False\n",
      "  True False  True  True False False False False  True False False False\n",
      "  True False False False  True False False False False  True False  True\n",
      "  True  True  True  True  True  True  True  True  True False False False\n",
      "  True False  True False  True False  True False False False  True False\n",
      " False  True  True  True False False  True  True False False  True  True\n",
      " False  True False False  True False  True  True False  True  True False\n",
      "  True False  True False False False False False  True False  True  True\n",
      " False False  True False False  True  True False  True  True False False\n",
      " False  True False False False False False False  True  True  True  True\n",
      "  True False False  True  True  True False  True False  True  True  True\n",
      " False False  True False False False  True False  True False  True False\n",
      " False  True  True False  True False False  True False False  True  True\n",
      " False False  True False False  True  True False False False  True False\n",
      "  True False  True  True False False  True False  True False False  True\n",
      "  True False  True  True  True False  True False False False False False\n",
      " False False False  True False  True False  True  True  True False  True\n",
      "  True False False False  True False  True  True False False False  True\n",
      " False False False False  True  True  True  True  True False False False\n",
      " False False  True False  True  True  True  True False  True False  True\n",
      "  True  True False  True  True  True  True False False  True  True  True\n",
      " False False False False False  True  True  True  True  True  True  True\n",
      "  True  True False False  True  True  True False  True  True False  True\n",
      " False  True False  True False False  True  True  True  True False False\n",
      " False False False  True False False  True  True  True False False  True\n",
      "  True  True False False False False  True  True False False  True  True\n",
      "  True  True False  True  True  True  True  True False False  True False\n",
      " False  True False  True  True  True False False  True  True False False\n",
      "  True  True  True False False  True False False False False False  True\n",
      " False False  True False False  True  True False  True  True False False\n",
      "  True  True  True False  True  True False False  True  True  True False\n",
      " False  True  True  True False  True False False False  True False  True\n",
      "  True  True  True  True False  True  True  True  True False  True  True\n",
      " False False  True  True  True False  True  True]\n"
     ]
    }
   ],
   "source": [
    "# tranformation into a boolean array\n",
    "print(y_pred_class==1)"
   ]
  },
  {
   "cell_type": "code",
   "execution_count": 16,
   "metadata": {},
   "outputs": [
    {
     "data": {
      "text/html": [
       "<div>\n",
       "<style scoped>\n",
       "    .dataframe tbody tr th:only-of-type {\n",
       "        vertical-align: middle;\n",
       "    }\n",
       "\n",
       "    .dataframe tbody tr th {\n",
       "        vertical-align: top;\n",
       "    }\n",
       "\n",
       "    .dataframe thead th {\n",
       "        text-align: right;\n",
       "    }\n",
       "</style>\n",
       "<table border=\"1\" class=\"dataframe\">\n",
       "  <thead>\n",
       "    <tr style=\"text-align: right;\">\n",
       "      <th></th>\n",
       "      <th>0</th>\n",
       "    </tr>\n",
       "  </thead>\n",
       "  <tbody>\n",
       "    <tr>\n",
       "      <th>7</th>\n",
       "      <td>i have never been a \" star trek \" fan , and , ...</td>\n",
       "    </tr>\n",
       "    <tr>\n",
       "      <th>39</th>\n",
       "      <td>when _star wars_ came out some twenty years ag...</td>\n",
       "    </tr>\n",
       "    <tr>\n",
       "      <th>80</th>\n",
       "      <td>it stands as a moment one will not soon forget...</td>\n",
       "    </tr>\n",
       "    <tr>\n",
       "      <th>74</th>\n",
       "      <td>the dream team is a thoroughly entertaining co...</td>\n",
       "    </tr>\n",
       "    <tr>\n",
       "      <th>119</th>\n",
       "      <td>this is a good year if you want plenty of sci-...</td>\n",
       "    </tr>\n",
       "    <tr>\n",
       "      <th>128</th>\n",
       "      <td>oh god how many john grisham lawyer films we h...</td>\n",
       "    </tr>\n",
       "    <tr>\n",
       "      <th>72</th>\n",
       "      <td>there are certain people in the world who have...</td>\n",
       "    </tr>\n",
       "    <tr>\n",
       "      <th>163</th>\n",
       "      <td>although many people have compared this new ga...</td>\n",
       "    </tr>\n",
       "    <tr>\n",
       "      <th>19</th>\n",
       "      <td>for this review and more , visit clear illusio...</td>\n",
       "    </tr>\n",
       "    <tr>\n",
       "      <th>86</th>\n",
       "      <td>curdled is a deliciously dark and witty black ...</td>\n",
       "    </tr>\n",
       "    <tr>\n",
       "      <th>85</th>\n",
       "      <td>there's no reason to doubt that donnie brasco ...</td>\n",
       "    </tr>\n",
       "    <tr>\n",
       "      <th>146</th>\n",
       "      <td>as i walked out of crouching tiger , hidden dr...</td>\n",
       "    </tr>\n",
       "    <tr>\n",
       "      <th>46</th>\n",
       "      <td>mary norton's children's book series , the bor...</td>\n",
       "    </tr>\n",
       "    <tr>\n",
       "      <th>153</th>\n",
       "      <td>titanic is , without a doubt , the best movie ...</td>\n",
       "    </tr>\n",
       "    <tr>\n",
       "      <th>67</th>\n",
       "      <td>a standoff . \\na man holds a woman , a diploma...</td>\n",
       "    </tr>\n",
       "    <tr>\n",
       "      <th>219</th>\n",
       "      <td>the question isn't why has grease been reissue...</td>\n",
       "    </tr>\n",
       "    <tr>\n",
       "      <th>53</th>\n",
       "      <td>you've probably heard the one about the priest...</td>\n",
       "    </tr>\n",
       "    <tr>\n",
       "      <th>152</th>\n",
       "      <td>uncompromising french director robert bresson'...</td>\n",
       "    </tr>\n",
       "    <tr>\n",
       "      <th>156</th>\n",
       "      <td>by now i figured i'd seen every alfred hitchco...</td>\n",
       "    </tr>\n",
       "    <tr>\n",
       "      <th>3</th>\n",
       "      <td>it was easy to fear the worst . \\nbegin with a...</td>\n",
       "    </tr>\n",
       "  </tbody>\n",
       "</table>\n",
       "</div>"
      ],
      "text/plain": [
       "                                                     0\n",
       "7    i have never been a \" star trek \" fan , and , ...\n",
       "39   when _star wars_ came out some twenty years ag...\n",
       "80   it stands as a moment one will not soon forget...\n",
       "74   the dream team is a thoroughly entertaining co...\n",
       "119  this is a good year if you want plenty of sci-...\n",
       "128  oh god how many john grisham lawyer films we h...\n",
       "72   there are certain people in the world who have...\n",
       "163  although many people have compared this new ga...\n",
       "19   for this review and more , visit clear illusio...\n",
       "86   curdled is a deliciously dark and witty black ...\n",
       "85   there's no reason to doubt that donnie brasco ...\n",
       "146  as i walked out of crouching tiger , hidden dr...\n",
       "46   mary norton's children's book series , the bor...\n",
       "153  titanic is , without a doubt , the best movie ...\n",
       "67   a standoff . \\na man holds a woman , a diploma...\n",
       "219  the question isn't why has grease been reissue...\n",
       "53   you've probably heard the one about the priest...\n",
       "152  uncompromising french director robert bresson'...\n",
       "156  by now i figured i'd seen every alfred hitchco...\n",
       "3    it was easy to fear the worst . \\nbegin with a..."
      ]
     },
     "execution_count": 16,
     "metadata": {},
     "output_type": "execute_result"
    }
   ],
   "source": [
    "# some film predicted as good\n",
    "pd.DataFrame(polarity_test_X[y_pred_class==1]).sample(20)"
   ]
  },
  {
   "cell_type": "code",
   "execution_count": 17,
   "metadata": {},
   "outputs": [
    {
     "data": {
      "text/plain": [
       "{'fit_duration': 0.007883319000001165,\n",
       " 'predict_duration': 0.0017828899999869918,\n",
       " 'accuracy': 0.81,\n",
       " 'recall': 0.796078431372549}"
      ]
     },
     "execution_count": 17,
     "metadata": {},
     "output_type": "execute_result"
    }
   ],
   "source": [
    "compute_model_perf(polarity_mperf_accu_cv,polarity_test_Y, y_pred_class,name,fit_dur,predict_dur)"
   ]
  },
  {
   "cell_type": "code",
   "execution_count": 18,
   "metadata": {
    "scrolled": false
   },
   "outputs": [
    {
     "data": {
      "image/png": "[encoded data removed]",
      "text/plain": [
       "<Figure size 576x432 with 2 Axes>"
      ]
     },
     "metadata": {
      "needs_background": "light"
     },
     "output_type": "display_data"
    }
   ],
   "source": [
    "# print the confusion matrix\n",
    "plot_confusion_matrix(metrics.confusion_matrix(polarity_test_Y, y_pred_class),['good','bad'],name)"
   ]
  },
  {
   "cell_type": "markdown",
   "metadata": {},
   "source": [
    "#### sklearn - Perceptron using CountVectorizer"
   ]
  },
  {
   "cell_type": "code",
   "execution_count": 221,
   "metadata": {},
   "outputs": [],
   "source": [
    "from sklearn.linear_model import Perceptron\n",
    "name = \"Perceptron\"\n",
    "nb = Perceptron(tol=1e-3)"
   ]
  },
  {
   "cell_type": "code",
   "execution_count": 222,
   "metadata": {},
   "outputs": [
    {
     "name": "stdout",
     "output_type": "stream",
     "text": [
      "Perceptron\n",
      "\n",
      "    Read more in the :ref:`User Guide <perceptron>`.\n",
      "\n",
      "    Parameters\n",
      "    ----------\n",
      "\n",
      "    penalty : None, 'l2' or 'l1' or 'elasticnet'\n",
      "        The penalty (aka regularization term) to be used. Defaults to None.\n",
      "\n",
      "    alpha : float\n",
      "        Constant that multiplies the regularization term if regularization is\n",
      "        used. Defaults to 0.0001\n",
      "\n",
      "    fit_intercept : bool\n",
      "        Whether the intercept should be estimated or not. If False, the\n",
      "        data is assumed to be already centered. Defaults to True.\n",
      "\n",
      "    max_iter : int, optional\n",
      "        The maximum number of passes over the training data (aka epochs).\n",
      "        It only impacts the behavior in the ``fit`` method, and not the\n",
      "        `partial_fit`.\n",
      "        Defaults to 5. Defaults to 1000 from 0.21, or if tol is not None.\n",
      "\n",
      "        .. versionadded:: 0.19\n",
      "\n",
      "    tol : float or None, optional\n",
      "        The stopping criterion. If it is not None, the iterations will stop\n",
      "        when (loss > previous_loss - tol). Defaults to None.\n",
      "        Defaults to 1e-3 from 0.21.\n",
      "\n",
      "        .. versionadded:: 0.19\n",
      "\n",
      "    shuffle : bool, optional, default True\n",
      "        Whether or not the training data should be shuffled after each epoch.\n",
      "\n",
      "    verbose : integer, optional\n",
      "        The verbosity level\n",
      "\n",
      "    eta0 : double\n",
      "        Constant by which the updates are multiplied. Defaults to 1.\n",
      "\n",
      "    n_jobs : int or None, optional (default=None)\n",
      "        The number of CPUs to use to do the OVA (One Versus All, for\n",
      "        multi-class problems) computation.\n",
      "        ``None`` means 1 unless in a :obj:`joblib.parallel_backend` context.\n",
      "        ``-1`` means using all processors. See :term:`Glossary <n_jobs>`\n",
      "        for more details.\n",
      "\n",
      "    random_state : int, RandomState instance or None, optional, default None\n",
      "        The seed of the pseudo random number generator to use when shuffling\n",
      "        the data.  If int, random_state is the seed used by the random number\n",
      "        generator; If RandomState instance, random_state is the random number\n",
      "        generator; If None, the random number generator is the RandomState\n",
      "        instance used by `np.random`.\n",
      "\n",
      "    early_stopping : bool, default=False\n",
      "        Whether to use early stopping to terminate training when validation.\n",
      "        score is not improving. If set to True, it will automatically set aside\n",
      "        a fraction of training data as validation and terminate training when\n",
      "        validation score is not improving by at least tol for\n",
      "        n_iter_no_change consecutive epochs.\n",
      "\n",
      "        .. versionadded:: 0.20\n",
      "\n",
      "    validation_fraction : float, default=0.1\n",
      "        The proportion of training data to set aside as validation set for\n",
      "        early stopping. Must be between 0 and 1.\n",
      "        Only used if early_stopping is True.\n",
      "\n",
      "        .. versionadded:: 0.20\n",
      "\n",
      "    n_iter_no_change : int, default=5\n",
      "        Number of iterations with no improvement to wait before early stopping.\n",
      "\n",
      "        .. versionadded:: 0.20\n",
      "\n",
      "    class_weight : dict, {class_label: weight} or \"balanced\" or None, optional\n",
      "        Preset for the class_weight fit parameter.\n",
      "\n",
      "        Weights associated with classes. If not given, all classes\n",
      "        are supposed to have weight one.\n",
      "\n",
      "        The \"balanced\" mode uses the values of y to automatically adjust\n",
      "        weights inversely proportional to class frequencies in the input data\n",
      "        as ``n_samples / (n_classes * np.bincount(y))``\n",
      "\n",
      "    warm_start : bool, optional\n",
      "        When set to True, reuse the solution of the previous call to fit as\n",
      "        initialization, otherwise, just erase the previous solution. See\n",
      "        :term:`the Glossary <warm_start>`.\n",
      "\n",
      "    n_iter : int, optional\n",
      "        The number of passes over the training data (aka epochs).\n",
      "        Defaults to None. Deprecated, will be removed in 0.21.\n",
      "\n",
      "        .. versionchanged:: 0.19\n",
      "            Deprecated\n",
      "\n",
      "    Attributes\n",
      "    ----------\n",
      "    coef_ : array, shape = [1, n_features] if n_classes == 2 else [n_classes,            n_features]\n",
      "        Weights assigned to the features.\n",
      "\n",
      "    intercept_ : array, shape = [1] if n_classes == 2 else [n_classes]\n",
      "        Constants in decision function.\n",
      "\n",
      "    n_iter_ : int\n",
      "        The actual number of iterations to reach the stopping criterion.\n",
      "        For multiclass fits, it is the maximum over every binary fit.\n",
      "\n",
      "    Notes\n",
      "    -----\n",
      "\n",
      "    ``Perceptron`` is a classification algorithm which shares the same\n",
      "    underlying implementation with ``SGDClassifier``. In fact,\n",
      "    ``Perceptron()`` is equivalent to `SGDClassifier(loss=\"perceptron\",\n",
      "    eta0=1, learning_rate=\"constant\", penalty=None)`.\n",
      "\n",
      "    Examples\n",
      "    --------\n",
      "    >>> from sklearn.datasets import load_digits\n",
      "    >>> from sklearn.linear_model import Perceptron\n",
      "    >>> X, y = load_digits(return_X_y=True)\n",
      "    >>> clf = Perceptron(tol=1e-3, random_state=0)\n",
      "    >>> clf.fit(X, y)\n",
      "    Perceptron(alpha=0.0001, class_weight=None, early_stopping=False, eta0=1.0,\n",
      "          fit_intercept=True, max_iter=None, n_iter=None, n_iter_no_change=5,\n",
      "          n_jobs=None, penalty=None, random_state=0, shuffle=True, tol=0.001,\n",
      "          validation_fraction=0.1, verbose=0, warm_start=False)\n",
      "    >>> clf.score(X, y) # doctest: +ELLIPSIS\n",
      "    0.946...\n",
      "\n",
      "    See also\n",
      "    --------\n",
      "\n",
      "    SGDClassifier\n",
      "\n",
      "    References\n",
      "    ----------\n",
      "\n",
      "    https://en.wikipedia.org/wiki/Perceptron and references therein.\n",
      "    \n"
     ]
    }
   ],
   "source": [
    "print(nb.__doc__)"
   ]
  },
  {
   "cell_type": "code",
   "execution_count": 20,
   "metadata": {
    "scrolled": false
   },
   "outputs": [
    {
     "name": "stdout",
     "output_type": "stream",
     "text": [
      "30 ms ± 0 ns per loop (mean ± std. dev. of 1 run, 1 loop each)\n"
     ]
    }
   ],
   "source": [
    "result = %timeit -r 1 -n 1 -o nb.fit(polarity_train_dtm, polarity_train_Y)\n",
    "fit_dur=result.average"
   ]
  },
  {
   "cell_type": "code",
   "execution_count": 21,
   "metadata": {},
   "outputs": [
    {
     "name": "stdout",
     "output_type": "stream",
     "text": [
      "1.24 ms ± 0 ns per loop (mean ± std. dev. of 1 run, 1 loop each)\n"
     ]
    }
   ],
   "source": [
    "result = %timeit -r 1 -n 1 -o nb.predict(polarity_test_dtm)\n",
    "y_pred_class = nb.predict(polarity_test_dtm)\n",
    "predict_dur=result.average"
   ]
  },
  {
   "cell_type": "code",
   "execution_count": 22,
   "metadata": {},
   "outputs": [
    {
     "data": {
      "text/plain": [
       "{'fit_duration': 0.02996558499998514,\n",
       " 'predict_duration': 0.001244726999999557,\n",
       " 'accuracy': 0.832,\n",
       " 'recall': 0.9372549019607843}"
      ]
     },
     "execution_count": 22,
     "metadata": {},
     "output_type": "execute_result"
    }
   ],
   "source": [
    "compute_model_perf(polarity_mperf_accu_cv,polarity_test_Y, y_pred_class,name,fit_dur,predict_dur)"
   ]
  },
  {
   "cell_type": "code",
   "execution_count": 23,
   "metadata": {
    "scrolled": false
   },
   "outputs": [
    {
     "data": {
      "image/png": "[encoded data removed]",
      "text/plain": [
       "<Figure size 576x432 with 2 Axes>"
      ]
     },
     "metadata": {
      "needs_background": "light"
     },
     "output_type": "display_data"
    }
   ],
   "source": [
    "# print the confusion matrix\n",
    "plot_confusion_matrix(metrics.confusion_matrix(polarity_test_Y, y_pred_class),['good','bad'],name)"
   ]
  },
  {
   "cell_type": "markdown",
   "metadata": {},
   "source": [
    "#### sklearn - Random Forest using CountVectorizer"
   ]
  },
  {
   "cell_type": "code",
   "execution_count": 219,
   "metadata": {},
   "outputs": [],
   "source": [
    "from sklearn.ensemble import RandomForestClassifier\n",
    "name = \"RandomForestClassifier\"\n",
    "nb = RandomForestClassifier(max_depth=20, n_estimators=20, max_features=\"auto\")"
   ]
  },
  {
   "cell_type": "code",
   "execution_count": 220,
   "metadata": {},
   "outputs": [
    {
     "name": "stdout",
     "output_type": "stream",
     "text": [
      "A random forest classifier.\n",
      "\n",
      "    A random forest is a meta estimator that fits a number of decision tree\n",
      "    classifiers on various sub-samples of the dataset and uses averaging to\n",
      "    improve the predictive accuracy and control over-fitting.\n",
      "    The sub-sample size is always the same as the original\n",
      "    input sample size but the samples are drawn with replacement if\n",
      "    `bootstrap=True` (default).\n",
      "\n",
      "    Read more in the :ref:`User Guide <forest>`.\n",
      "\n",
      "    Parameters\n",
      "    ----------\n",
      "    n_estimators : integer, optional (default=10)\n",
      "        The number of trees in the forest.\n",
      "\n",
      "        .. versionchanged:: 0.20\n",
      "           The default value of ``n_estimators`` will change from 10 in\n",
      "           version 0.20 to 100 in version 0.22.\n",
      "\n",
      "    criterion : string, optional (default=\"gini\")\n",
      "        The function to measure the quality of a split. Supported criteria are\n",
      "        \"gini\" for the Gini impurity and \"entropy\" for the information gain.\n",
      "        Note: this parameter is tree-specific.\n",
      "\n",
      "    max_depth : integer or None, optional (default=None)\n",
      "        The maximum depth of the tree. If None, then nodes are expanded until\n",
      "        all leaves are pure or until all leaves contain less than\n",
      "        min_samples_split samples.\n",
      "\n",
      "    min_samples_split : int, float, optional (default=2)\n",
      "        The minimum number of samples required to split an internal node:\n",
      "\n",
      "        - If int, then consider `min_samples_split` as the minimum number.\n",
      "        - If float, then `min_samples_split` is a fraction and\n",
      "          `ceil(min_samples_split * n_samples)` are the minimum\n",
      "          number of samples for each split.\n",
      "\n",
      "        .. versionchanged:: 0.18\n",
      "           Added float values for fractions.\n",
      "\n",
      "    min_samples_leaf : int, float, optional (default=1)\n",
      "        The minimum number of samples required to be at a leaf node.\n",
      "        A split point at any depth will only be considered if it leaves at\n",
      "        least ``min_samples_leaf`` training samples in each of the left and\n",
      "        right branches.  This may have the effect of smoothing the model,\n",
      "        especially in regression.\n",
      "\n",
      "        - If int, then consider `min_samples_leaf` as the minimum number.\n",
      "        - If float, then `min_samples_leaf` is a fraction and\n",
      "          `ceil(min_samples_leaf * n_samples)` are the minimum\n",
      "          number of samples for each node.\n",
      "\n",
      "        .. versionchanged:: 0.18\n",
      "           Added float values for fractions.\n",
      "\n",
      "    min_weight_fraction_leaf : float, optional (default=0.)\n",
      "        The minimum weighted fraction of the sum total of weights (of all\n",
      "        the input samples) required to be at a leaf node. Samples have\n",
      "        equal weight when sample_weight is not provided.\n",
      "\n",
      "    max_features : int, float, string or None, optional (default=\"auto\")\n",
      "        The number of features to consider when looking for the best split:\n",
      "\n",
      "        - If int, then consider `max_features` features at each split.\n",
      "        - If float, then `max_features` is a fraction and\n",
      "          `int(max_features * n_features)` features are considered at each\n",
      "          split.\n",
      "        - If \"auto\", then `max_features=sqrt(n_features)`.\n",
      "        - If \"sqrt\", then `max_features=sqrt(n_features)` (same as \"auto\").\n",
      "        - If \"log2\", then `max_features=log2(n_features)`.\n",
      "        - If None, then `max_features=n_features`.\n",
      "\n",
      "        Note: the search for a split does not stop until at least one\n",
      "        valid partition of the node samples is found, even if it requires to\n",
      "        effectively inspect more than ``max_features`` features.\n",
      "\n",
      "    max_leaf_nodes : int or None, optional (default=None)\n",
      "        Grow trees with ``max_leaf_nodes`` in best-first fashion.\n",
      "        Best nodes are defined as relative reduction in impurity.\n",
      "        If None then unlimited number of leaf nodes.\n",
      "\n",
      "    min_impurity_decrease : float, optional (default=0.)\n",
      "        A node will be split if this split induces a decrease of the impurity\n",
      "        greater than or equal to this value.\n",
      "\n",
      "        The weighted impurity decrease equation is the following::\n",
      "\n",
      "            N_t / N * (impurity - N_t_R / N_t * right_impurity\n",
      "                                - N_t_L / N_t * left_impurity)\n",
      "\n",
      "        where ``N`` is the total number of samples, ``N_t`` is the number of\n",
      "        samples at the current node, ``N_t_L`` is the number of samples in the\n",
      "        left child, and ``N_t_R`` is the number of samples in the right child.\n",
      "\n",
      "        ``N``, ``N_t``, ``N_t_R`` and ``N_t_L`` all refer to the weighted sum,\n",
      "        if ``sample_weight`` is passed.\n",
      "\n",
      "        .. versionadded:: 0.19\n",
      "\n",
      "    min_impurity_split : float,\n",
      "        Threshold for early stopping in tree growth. A node will split\n",
      "        if its impurity is above the threshold, otherwise it is a leaf.\n",
      "\n",
      "        .. deprecated:: 0.19\n",
      "           ``min_impurity_split`` has been deprecated in favor of\n",
      "           ``min_impurity_decrease`` in 0.19 and will be removed in 0.21.\n",
      "           Use ``min_impurity_decrease`` instead.\n",
      "\n",
      "    bootstrap : boolean, optional (default=True)\n",
      "        Whether bootstrap samples are used when building trees.\n",
      "\n",
      "    oob_score : bool (default=False)\n",
      "        Whether to use out-of-bag samples to estimate\n",
      "        the generalization accuracy.\n",
      "\n",
      "    n_jobs : int or None, optional (default=None)\n",
      "        The number of jobs to run in parallel for both `fit` and `predict`.\n",
      "        ``None`` means 1 unless in a :obj:`joblib.parallel_backend` context.\n",
      "        ``-1`` means using all processors. See :term:`Glossary <n_jobs>`\n",
      "        for more details.\n",
      "\n",
      "    random_state : int, RandomState instance or None, optional (default=None)\n",
      "        If int, random_state is the seed used by the random number generator;\n",
      "        If RandomState instance, random_state is the random number generator;\n",
      "        If None, the random number generator is the RandomState instance used\n",
      "        by `np.random`.\n",
      "\n",
      "    verbose : int, optional (default=0)\n",
      "        Controls the verbosity when fitting and predicting.\n",
      "\n",
      "    warm_start : bool, optional (default=False)\n",
      "        When set to ``True``, reuse the solution of the previous call to fit\n",
      "        and add more estimators to the ensemble, otherwise, just fit a whole\n",
      "        new forest. See :term:`the Glossary <warm_start>`.\n",
      "\n",
      "    class_weight : dict, list of dicts, \"balanced\", \"balanced_subsample\" or     None, optional (default=None)\n",
      "        Weights associated with classes in the form ``{class_label: weight}``.\n",
      "        If not given, all classes are supposed to have weight one. For\n",
      "        multi-output problems, a list of dicts can be provided in the same\n",
      "        order as the columns of y.\n",
      "\n",
      "        Note that for multioutput (including multilabel) weights should be\n",
      "        defined for each class of every column in its own dict. For example,\n",
      "        for four-class multilabel classification weights should be\n",
      "        [{0: 1, 1: 1}, {0: 1, 1: 5}, {0: 1, 1: 1}, {0: 1, 1: 1}] instead of\n",
      "        [{1:1}, {2:5}, {3:1}, {4:1}].\n",
      "\n",
      "        The \"balanced\" mode uses the values of y to automatically adjust\n",
      "        weights inversely proportional to class frequencies in the input data\n",
      "        as ``n_samples / (n_classes * np.bincount(y))``\n",
      "\n",
      "        The \"balanced_subsample\" mode is the same as \"balanced\" except that\n",
      "        weights are computed based on the bootstrap sample for every tree\n",
      "        grown.\n",
      "\n",
      "        For multi-output, the weights of each column of y will be multiplied.\n",
      "\n",
      "        Note that these weights will be multiplied with sample_weight (passed\n",
      "        through the fit method) if sample_weight is specified.\n",
      "\n",
      "    Attributes\n",
      "    ----------\n",
      "    estimators_ : list of DecisionTreeClassifier\n",
      "        The collection of fitted sub-estimators.\n",
      "\n",
      "    classes_ : array of shape = [n_classes] or a list of such arrays\n",
      "        The classes labels (single output problem), or a list of arrays of\n",
      "        class labels (multi-output problem).\n",
      "\n",
      "    n_classes_ : int or list\n",
      "        The number of classes (single output problem), or a list containing the\n",
      "        number of classes for each output (multi-output problem).\n",
      "\n",
      "    n_features_ : int\n",
      "        The number of features when ``fit`` is performed.\n",
      "\n",
      "    n_outputs_ : int\n",
      "        The number of outputs when ``fit`` is performed.\n",
      "\n",
      "    feature_importances_ : array of shape = [n_features]\n",
      "        The feature importances (the higher, the more important the feature).\n",
      "\n",
      "    oob_score_ : float\n",
      "        Score of the training dataset obtained using an out-of-bag estimate.\n",
      "\n",
      "    oob_decision_function_ : array of shape = [n_samples, n_classes]\n",
      "        Decision function computed with out-of-bag estimate on the training\n",
      "        set. If n_estimators is small it might be possible that a data point\n",
      "        was never left out during the bootstrap. In this case,\n",
      "        `oob_decision_function_` might contain NaN.\n",
      "\n",
      "    Examples\n",
      "    --------\n",
      "    >>> from sklearn.ensemble import RandomForestClassifier\n",
      "    >>> from sklearn.datasets import make_classification\n",
      "    >>>\n",
      "    >>> X, y = make_classification(n_samples=1000, n_features=4,\n",
      "    ...                            n_informative=2, n_redundant=0,\n",
      "    ...                            random_state=0, shuffle=False)\n",
      "    >>> clf = RandomForestClassifier(n_estimators=100, max_depth=2,\n",
      "    ...                              random_state=0)\n",
      "    >>> clf.fit(X, y)\n",
      "    RandomForestClassifier(bootstrap=True, class_weight=None, criterion='gini',\n",
      "                max_depth=2, max_features='auto', max_leaf_nodes=None,\n",
      "                min_impurity_decrease=0.0, min_impurity_split=None,\n",
      "                min_samples_leaf=1, min_samples_split=2,\n",
      "                min_weight_fraction_leaf=0.0, n_estimators=100, n_jobs=None,\n",
      "                oob_score=False, random_state=0, verbose=0, warm_start=False)\n",
      "    >>> print(clf.feature_importances_)\n",
      "    [0.14205973 0.76664038 0.0282433  0.06305659]\n",
      "    >>> print(clf.predict([[0, 0, 0, 0]]))\n",
      "    [1]\n",
      "\n",
      "    Notes\n",
      "    -----\n",
      "    The default values for the parameters controlling the size of the trees\n",
      "    (e.g. ``max_depth``, ``min_samples_leaf``, etc.) lead to fully grown and\n",
      "    unpruned trees which can potentially be very large on some data sets. To\n",
      "    reduce memory consumption, the complexity and size of the trees should be\n",
      "    controlled by setting those parameter values.\n",
      "\n",
      "    The features are always randomly permuted at each split. Therefore,\n",
      "    the best found split may vary, even with the same training data,\n",
      "    ``max_features=n_features`` and ``bootstrap=False``, if the improvement\n",
      "    of the criterion is identical for several splits enumerated during the\n",
      "    search of the best split. To obtain a deterministic behaviour during\n",
      "    fitting, ``random_state`` has to be fixed.\n",
      "\n",
      "    References\n",
      "    ----------\n",
      "\n",
      "    .. [1] L. Breiman, \"Random Forests\", Machine Learning, 45(1), 5-32, 2001.\n",
      "\n",
      "    See also\n",
      "    --------\n",
      "    DecisionTreeClassifier, ExtraTreesClassifier\n",
      "    \n"
     ]
    }
   ],
   "source": [
    "print(nb.__doc__)"
   ]
  },
  {
   "cell_type": "code",
   "execution_count": 25,
   "metadata": {
    "scrolled": false
   },
   "outputs": [
    {
     "name": "stdout",
     "output_type": "stream",
     "text": [
      "132 ms ± 0 ns per loop (mean ± std. dev. of 1 run, 1 loop each)\n"
     ]
    }
   ],
   "source": [
    "result = %timeit -r 1 -n 1 -o nb.fit(polarity_train_dtm, polarity_train_Y)\n",
    "fit_dur=result.average"
   ]
  },
  {
   "cell_type": "code",
   "execution_count": 26,
   "metadata": {},
   "outputs": [
    {
     "name": "stdout",
     "output_type": "stream",
     "text": [
      "18.7 ms ± 0 ns per loop (mean ± std. dev. of 1 run, 1 loop each)\n"
     ]
    }
   ],
   "source": [
    "result = %timeit -r 1 -n 1 -o nb.predict(polarity_test_dtm)\n",
    "y_pred_class = nb.predict(polarity_test_dtm)\n",
    "predict_dur=result.average"
   ]
  },
  {
   "cell_type": "code",
   "execution_count": 27,
   "metadata": {},
   "outputs": [
    {
     "data": {
      "text/plain": [
       "{'fit_duration': 0.13237941600002046,\n",
       " 'predict_duration': 0.018701948000000357,\n",
       " 'accuracy': 0.754,\n",
       " 'recall': 0.7176470588235294}"
      ]
     },
     "execution_count": 27,
     "metadata": {},
     "output_type": "execute_result"
    }
   ],
   "source": [
    "compute_model_perf(polarity_mperf_accu_cv,polarity_test_Y, y_pred_class,name,fit_dur,predict_dur)"
   ]
  },
  {
   "cell_type": "code",
   "execution_count": 28,
   "metadata": {
    "scrolled": true
   },
   "outputs": [
    {
     "data": {
      "image/png": "[encoded data removed]",
      "text/plain": [
       "<Figure size 576x432 with 2 Axes>"
      ]
     },
     "metadata": {
      "needs_background": "light"
     },
     "output_type": "display_data"
    }
   ],
   "source": [
    "# print the confusion matrix\n",
    "plot_confusion_matrix(metrics.confusion_matrix(polarity_test_Y, y_pred_class),['good','bad'],name)"
   ]
  },
  {
   "cell_type": "markdown",
   "metadata": {},
   "source": [
    "#### sklearn - AdaBoost using CountVectorizer"
   ]
  },
  {
   "cell_type": "code",
   "execution_count": 29,
   "metadata": {},
   "outputs": [],
   "source": [
    "from sklearn.ensemble import AdaBoostClassifier\n",
    "name = \"AdaBoostClassifier\"\n",
    "nb = AdaBoostClassifier()"
   ]
  },
  {
   "cell_type": "code",
   "execution_count": 30,
   "metadata": {
    "scrolled": false
   },
   "outputs": [
    {
     "name": "stdout",
     "output_type": "stream",
     "text": [
      "1.14 s ± 0 ns per loop (mean ± std. dev. of 1 run, 1 loop each)\n"
     ]
    }
   ],
   "source": [
    "result = %timeit -r 1 -n 1 -o nb.fit(polarity_train_dtm, polarity_train_Y)\n",
    "fit_dur=result.average"
   ]
  },
  {
   "cell_type": "code",
   "execution_count": 31,
   "metadata": {},
   "outputs": [
    {
     "name": "stdout",
     "output_type": "stream",
     "text": [
      "44.7 ms ± 0 ns per loop (mean ± std. dev. of 1 run, 1 loop each)\n"
     ]
    }
   ],
   "source": [
    "result = %timeit -r 1 -n 1 -o nb.predict(polarity_test_dtm)\n",
    "y_pred_class = nb.predict(polarity_test_dtm)\n",
    "predict_dur=result.average"
   ]
  },
  {
   "cell_type": "code",
   "execution_count": 32,
   "metadata": {},
   "outputs": [
    {
     "data": {
      "text/plain": [
       "{'fit_duration': 1.142169406999983,\n",
       " 'predict_duration': 0.04473128600000109,\n",
       " 'accuracy': 0.782,\n",
       " 'recall': 0.792156862745098}"
      ]
     },
     "execution_count": 32,
     "metadata": {},
     "output_type": "execute_result"
    }
   ],
   "source": [
    "compute_model_perf(polarity_mperf_accu_cv,polarity_test_Y, y_pred_class,name,fit_dur,predict_dur)"
   ]
  },
  {
   "cell_type": "code",
   "execution_count": 33,
   "metadata": {
    "scrolled": true
   },
   "outputs": [
    {
     "data": {
      "image/png": "[encoded data removed]",
      "text/plain": [
       "<Figure size 576x432 with 2 Axes>"
      ]
     },
     "metadata": {
      "needs_background": "light"
     },
     "output_type": "display_data"
    }
   ],
   "source": [
    "# print the confusion matrix\n",
    "plot_confusion_matrix(metrics.confusion_matrix(polarity_test_Y, y_pred_class),['good','bad'],name)"
   ]
  },
  {
   "cell_type": "markdown",
   "metadata": {},
   "source": [
    "#### sklearn - Linear SVM using CountVectorizer"
   ]
  },
  {
   "cell_type": "code",
   "execution_count": 209,
   "metadata": {},
   "outputs": [],
   "source": [
    "from sklearn.svm import SVC\n",
    "name = \"LinearSVM\"\n",
    "nb = SVC(kernel=\"linear\", C=0.025)"
   ]
  },
  {
   "cell_type": "code",
   "execution_count": 218,
   "metadata": {},
   "outputs": [
    {
     "name": "stdout",
     "output_type": "stream",
     "text": [
      "C-Support Vector Classification.\n",
      "\n",
      "    The implementation is based on libsvm. The fit time complexity\n",
      "    is more than quadratic with the number of samples which makes it hard\n",
      "    to scale to dataset with more than a couple of 10000 samples.\n",
      "\n",
      "    The multiclass support is handled according to a one-vs-one scheme.\n",
      "\n",
      "    For details on the precise mathematical formulation of the provided\n",
      "    kernel functions and how `gamma`, `coef0` and `degree` affect each\n",
      "    other, see the corresponding section in the narrative documentation:\n",
      "    :ref:`svm_kernels`.\n",
      "\n",
      "    Read more in the :ref:`User Guide <svm_classification>`.\n",
      "\n",
      "    Parameters\n",
      "    ----------\n",
      "    C : float, optional (default=1.0)\n",
      "        Penalty parameter C of the error term.\n",
      "\n",
      "    kernel : string, optional (default='rbf')\n",
      "        Specifies the kernel type to be used in the algorithm.\n",
      "        It must be one of 'linear', 'poly', 'rbf', 'sigmoid', 'precomputed' or\n",
      "        a callable.\n",
      "        If none is given, 'rbf' will be used. If a callable is given it is\n",
      "        used to pre-compute the kernel matrix from data matrices; that matrix\n",
      "        should be an array of shape ``(n_samples, n_samples)``.\n",
      "\n",
      "    degree : int, optional (default=3)\n",
      "        Degree of the polynomial kernel function ('poly').\n",
      "        Ignored by all other kernels.\n",
      "\n",
      "    gamma : float, optional (default='auto')\n",
      "        Kernel coefficient for 'rbf', 'poly' and 'sigmoid'.\n",
      "\n",
      "        Current default is 'auto' which uses 1 / n_features,\n",
      "        if ``gamma='scale'`` is passed then it uses 1 / (n_features * X.std())\n",
      "        as value of gamma. The current default of gamma, 'auto', will change\n",
      "        to 'scale' in version 0.22. 'auto_deprecated', a deprecated version of\n",
      "        'auto' is used as a default indicating that no explicit value of gamma\n",
      "        was passed.\n",
      "\n",
      "    coef0 : float, optional (default=0.0)\n",
      "        Independent term in kernel function.\n",
      "        It is only significant in 'poly' and 'sigmoid'.\n",
      "\n",
      "    shrinking : boolean, optional (default=True)\n",
      "        Whether to use the shrinking heuristic.\n",
      "\n",
      "    probability : boolean, optional (default=False)\n",
      "        Whether to enable probability estimates. This must be enabled prior\n",
      "        to calling `fit`, and will slow down that method.\n",
      "\n",
      "    tol : float, optional (default=1e-3)\n",
      "        Tolerance for stopping criterion.\n",
      "\n",
      "    cache_size : float, optional\n",
      "        Specify the size of the kernel cache (in MB).\n",
      "\n",
      "    class_weight : {dict, 'balanced'}, optional\n",
      "        Set the parameter C of class i to class_weight[i]*C for\n",
      "        SVC. If not given, all classes are supposed to have\n",
      "        weight one.\n",
      "        The \"balanced\" mode uses the values of y to automatically adjust\n",
      "        weights inversely proportional to class frequencies in the input data\n",
      "        as ``n_samples / (n_classes * np.bincount(y))``\n",
      "\n",
      "    verbose : bool, default: False\n",
      "        Enable verbose output. Note that this setting takes advantage of a\n",
      "        per-process runtime setting in libsvm that, if enabled, may not work\n",
      "        properly in a multithreaded context.\n",
      "\n",
      "    max_iter : int, optional (default=-1)\n",
      "        Hard limit on iterations within solver, or -1 for no limit.\n",
      "\n",
      "    decision_function_shape : 'ovo', 'ovr', default='ovr'\n",
      "        Whether to return a one-vs-rest ('ovr') decision function of shape\n",
      "        (n_samples, n_classes) as all other classifiers, or the original\n",
      "        one-vs-one ('ovo') decision function of libsvm which has shape\n",
      "        (n_samples, n_classes * (n_classes - 1) / 2). However, one-vs-one\n",
      "        ('ovo') is always used as multi-class strategy.\n",
      "\n",
      "        .. versionchanged:: 0.19\n",
      "            decision_function_shape is 'ovr' by default.\n",
      "\n",
      "        .. versionadded:: 0.17\n",
      "           *decision_function_shape='ovr'* is recommended.\n",
      "\n",
      "        .. versionchanged:: 0.17\n",
      "           Deprecated *decision_function_shape='ovo' and None*.\n",
      "\n",
      "    random_state : int, RandomState instance or None, optional (default=None)\n",
      "        The seed of the pseudo random number generator used when shuffling\n",
      "        the data for probability estimates. If int, random_state is the\n",
      "        seed used by the random number generator; If RandomState instance,\n",
      "        random_state is the random number generator; If None, the random\n",
      "        number generator is the RandomState instance used by `np.random`.\n",
      "\n",
      "    Attributes\n",
      "    ----------\n",
      "    support_ : array-like, shape = [n_SV]\n",
      "        Indices of support vectors.\n",
      "\n",
      "    support_vectors_ : array-like, shape = [n_SV, n_features]\n",
      "        Support vectors.\n",
      "\n",
      "    n_support_ : array-like, dtype=int32, shape = [n_class]\n",
      "        Number of support vectors for each class.\n",
      "\n",
      "    dual_coef_ : array, shape = [n_class-1, n_SV]\n",
      "        Coefficients of the support vector in the decision function.\n",
      "        For multiclass, coefficient for all 1-vs-1 classifiers.\n",
      "        The layout of the coefficients in the multiclass case is somewhat\n",
      "        non-trivial. See the section about multi-class classification in the\n",
      "        SVM section of the User Guide for details.\n",
      "\n",
      "    coef_ : array, shape = [n_class * (n_class-1) / 2, n_features]\n",
      "        Weights assigned to the features (coefficients in the primal\n",
      "        problem). This is only available in the case of a linear kernel.\n",
      "\n",
      "        `coef_` is a readonly property derived from `dual_coef_` and\n",
      "        `support_vectors_`.\n",
      "\n",
      "    intercept_ : array, shape = [n_class * (n_class-1) / 2]\n",
      "        Constants in decision function.\n",
      "\n",
      "    Examples\n",
      "    --------\n",
      "    >>> import numpy as np\n",
      "    >>> X = np.array([[-1, -1], [-2, -1], [1, 1], [2, 1]])\n",
      "    >>> y = np.array([1, 1, 2, 2])\n",
      "    >>> from sklearn.svm import SVC\n",
      "    >>> clf = SVC(gamma='auto')\n",
      "    >>> clf.fit(X, y) #doctest: +NORMALIZE_WHITESPACE\n",
      "    SVC(C=1.0, cache_size=200, class_weight=None, coef0=0.0,\n",
      "        decision_function_shape='ovr', degree=3, gamma='auto', kernel='rbf',\n",
      "        max_iter=-1, probability=False, random_state=None, shrinking=True,\n",
      "        tol=0.001, verbose=False)\n",
      "    >>> print(clf.predict([[-0.8, -1]]))\n",
      "    [1]\n",
      "\n",
      "    See also\n",
      "    --------\n",
      "    SVR\n",
      "        Support Vector Machine for Regression implemented using libsvm.\n",
      "\n",
      "    LinearSVC\n",
      "        Scalable Linear Support Vector Machine for classification\n",
      "        implemented using liblinear. Check the See also section of\n",
      "        LinearSVC for more comparison element.\n",
      "\n",
      "    \n"
     ]
    }
   ],
   "source": [
    "print(nb.__doc__)"
   ]
  },
  {
   "cell_type": "code",
   "execution_count": 205,
   "metadata": {
    "scrolled": false
   },
   "outputs": [
    {
     "name": "stdout",
     "output_type": "stream",
     "text": [
      "5.24 s ± 0 ns per loop (mean ± std. dev. of 1 run, 1 loop each)\n"
     ]
    }
   ],
   "source": [
    "result = %timeit -r 1 -n 1 -o nb.fit(polarity_train_dtm, polarity_train_Y)\n",
    "fit_dur=result.average"
   ]
  },
  {
   "cell_type": "code",
   "execution_count": 206,
   "metadata": {},
   "outputs": [
    {
     "name": "stdout",
     "output_type": "stream",
     "text": [
      "1.18 s ± 0 ns per loop (mean ± std. dev. of 1 run, 1 loop each)\n"
     ]
    }
   ],
   "source": [
    "result = %timeit -r 1 -n 1 -o nb.predict(polarity_test_dtm)\n",
    "y_pred_class = nb.predict(polarity_test_dtm)\n",
    "predict_dur=result.average"
   ]
  },
  {
   "cell_type": "code",
   "execution_count": 207,
   "metadata": {},
   "outputs": [
    {
     "data": {
      "text/plain": [
       "{'fit_duration': 5.238058186999751,\n",
       " 'predict_duration': 1.175372581999909,\n",
       " 'accuracy': 0.844,\n",
       " 'recall': 0.8274509803921568}"
      ]
     },
     "execution_count": 207,
     "metadata": {},
     "output_type": "execute_result"
    }
   ],
   "source": [
    "# calculate accuracy of class predictions\n",
    "from sklearn import metrics\n",
    "compute_model_perf(polarity_mperf_accu_cv,polarity_test_Y, y_pred_class,name,fit_dur,predict_dur)"
   ]
  },
  {
   "cell_type": "code",
   "execution_count": 208,
   "metadata": {
    "scrolled": false
   },
   "outputs": [
    {
     "data": {
      "image/png": "[encoded data removed]",
      "text/plain": [
       "<Figure size 576x432 with 2 Axes>"
      ]
     },
     "metadata": {
      "needs_background": "light"
     },
     "output_type": "display_data"
    }
   ],
   "source": [
    "# print the confusion matrix\n",
    "plot_confusion_matrix(metrics.confusion_matrix(polarity_test_Y, y_pred_class),['good','bad'],name)"
   ]
  },
  {
   "cell_type": "markdown",
   "metadata": {},
   "source": [
    "#### sklearn - RBF SVM using CountVectorizer"
   ]
  },
  {
   "cell_type": "code",
   "execution_count": 227,
   "metadata": {},
   "outputs": [],
   "source": [
    "from sklearn.svm import SVC\n",
    "name = \"SVM\"\n",
    "nb = SVC(gamma=5, C=3)\n",
    "# http://scikit-learn.org/stable/modules/svm.html#svm-kernels"
   ]
  },
  {
   "cell_type": "code",
   "execution_count": 228,
   "metadata": {},
   "outputs": [
    {
     "name": "stdout",
     "output_type": "stream",
     "text": [
      "C-Support Vector Classification.\n",
      "\n",
      "    The implementation is based on libsvm. The fit time complexity\n",
      "    is more than quadratic with the number of samples which makes it hard\n",
      "    to scale to dataset with more than a couple of 10000 samples.\n",
      "\n",
      "    The multiclass support is handled according to a one-vs-one scheme.\n",
      "\n",
      "    For details on the precise mathematical formulation of the provided\n",
      "    kernel functions and how `gamma`, `coef0` and `degree` affect each\n",
      "    other, see the corresponding section in the narrative documentation:\n",
      "    :ref:`svm_kernels`.\n",
      "\n",
      "    Read more in the :ref:`User Guide <svm_classification>`.\n",
      "\n",
      "    Parameters\n",
      "    ----------\n",
      "    C : float, optional (default=1.0)\n",
      "        Penalty parameter C of the error term.\n",
      "\n",
      "    kernel : string, optional (default='rbf')\n",
      "        Specifies the kernel type to be used in the algorithm.\n",
      "        It must be one of 'linear', 'poly', 'rbf', 'sigmoid', 'precomputed' or\n",
      "        a callable.\n",
      "        If none is given, 'rbf' will be used. If a callable is given it is\n",
      "        used to pre-compute the kernel matrix from data matrices; that matrix\n",
      "        should be an array of shape ``(n_samples, n_samples)``.\n",
      "\n",
      "    degree : int, optional (default=3)\n",
      "        Degree of the polynomial kernel function ('poly').\n",
      "        Ignored by all other kernels.\n",
      "\n",
      "    gamma : float, optional (default='auto')\n",
      "        Kernel coefficient for 'rbf', 'poly' and 'sigmoid'.\n",
      "\n",
      "        Current default is 'auto' which uses 1 / n_features,\n",
      "        if ``gamma='scale'`` is passed then it uses 1 / (n_features * X.std())\n",
      "        as value of gamma. The current default of gamma, 'auto', will change\n",
      "        to 'scale' in version 0.22. 'auto_deprecated', a deprecated version of\n",
      "        'auto' is used as a default indicating that no explicit value of gamma\n",
      "        was passed.\n",
      "\n",
      "    coef0 : float, optional (default=0.0)\n",
      "        Independent term in kernel function.\n",
      "        It is only significant in 'poly' and 'sigmoid'.\n",
      "\n",
      "    shrinking : boolean, optional (default=True)\n",
      "        Whether to use the shrinking heuristic.\n",
      "\n",
      "    probability : boolean, optional (default=False)\n",
      "        Whether to enable probability estimates. This must be enabled prior\n",
      "        to calling `fit`, and will slow down that method.\n",
      "\n",
      "    tol : float, optional (default=1e-3)\n",
      "        Tolerance for stopping criterion.\n",
      "\n",
      "    cache_size : float, optional\n",
      "        Specify the size of the kernel cache (in MB).\n",
      "\n",
      "    class_weight : {dict, 'balanced'}, optional\n",
      "        Set the parameter C of class i to class_weight[i]*C for\n",
      "        SVC. If not given, all classes are supposed to have\n",
      "        weight one.\n",
      "        The \"balanced\" mode uses the values of y to automatically adjust\n",
      "        weights inversely proportional to class frequencies in the input data\n",
      "        as ``n_samples / (n_classes * np.bincount(y))``\n",
      "\n",
      "    verbose : bool, default: False\n",
      "        Enable verbose output. Note that this setting takes advantage of a\n",
      "        per-process runtime setting in libsvm that, if enabled, may not work\n",
      "        properly in a multithreaded context.\n",
      "\n",
      "    max_iter : int, optional (default=-1)\n",
      "        Hard limit on iterations within solver, or -1 for no limit.\n",
      "\n",
      "    decision_function_shape : 'ovo', 'ovr', default='ovr'\n",
      "        Whether to return a one-vs-rest ('ovr') decision function of shape\n",
      "        (n_samples, n_classes) as all other classifiers, or the original\n",
      "        one-vs-one ('ovo') decision function of libsvm which has shape\n",
      "        (n_samples, n_classes * (n_classes - 1) / 2). However, one-vs-one\n",
      "        ('ovo') is always used as multi-class strategy.\n",
      "\n",
      "        .. versionchanged:: 0.19\n",
      "            decision_function_shape is 'ovr' by default.\n",
      "\n",
      "        .. versionadded:: 0.17\n",
      "           *decision_function_shape='ovr'* is recommended.\n",
      "\n",
      "        .. versionchanged:: 0.17\n",
      "           Deprecated *decision_function_shape='ovo' and None*.\n",
      "\n",
      "    random_state : int, RandomState instance or None, optional (default=None)\n",
      "        The seed of the pseudo random number generator used when shuffling\n",
      "        the data for probability estimates. If int, random_state is the\n",
      "        seed used by the random number generator; If RandomState instance,\n",
      "        random_state is the random number generator; If None, the random\n",
      "        number generator is the RandomState instance used by `np.random`.\n",
      "\n",
      "    Attributes\n",
      "    ----------\n",
      "    support_ : array-like, shape = [n_SV]\n",
      "        Indices of support vectors.\n",
      "\n",
      "    support_vectors_ : array-like, shape = [n_SV, n_features]\n",
      "        Support vectors.\n",
      "\n",
      "    n_support_ : array-like, dtype=int32, shape = [n_class]\n",
      "        Number of support vectors for each class.\n",
      "\n",
      "    dual_coef_ : array, shape = [n_class-1, n_SV]\n",
      "        Coefficients of the support vector in the decision function.\n",
      "        For multiclass, coefficient for all 1-vs-1 classifiers.\n",
      "        The layout of the coefficients in the multiclass case is somewhat\n",
      "        non-trivial. See the section about multi-class classification in the\n",
      "        SVM section of the User Guide for details.\n",
      "\n",
      "    coef_ : array, shape = [n_class * (n_class-1) / 2, n_features]\n",
      "        Weights assigned to the features (coefficients in the primal\n",
      "        problem). This is only available in the case of a linear kernel.\n",
      "\n",
      "        `coef_` is a readonly property derived from `dual_coef_` and\n",
      "        `support_vectors_`.\n",
      "\n",
      "    intercept_ : array, shape = [n_class * (n_class-1) / 2]\n",
      "        Constants in decision function.\n",
      "\n",
      "    Examples\n",
      "    --------\n",
      "    >>> import numpy as np\n",
      "    >>> X = np.array([[-1, -1], [-2, -1], [1, 1], [2, 1]])\n",
      "    >>> y = np.array([1, 1, 2, 2])\n",
      "    >>> from sklearn.svm import SVC\n",
      "    >>> clf = SVC(gamma='auto')\n",
      "    >>> clf.fit(X, y) #doctest: +NORMALIZE_WHITESPACE\n",
      "    SVC(C=1.0, cache_size=200, class_weight=None, coef0=0.0,\n",
      "        decision_function_shape='ovr', degree=3, gamma='auto', kernel='rbf',\n",
      "        max_iter=-1, probability=False, random_state=None, shrinking=True,\n",
      "        tol=0.001, verbose=False)\n",
      "    >>> print(clf.predict([[-0.8, -1]]))\n",
      "    [1]\n",
      "\n",
      "    See also\n",
      "    --------\n",
      "    SVR\n",
      "        Support Vector Machine for Regression implemented using libsvm.\n",
      "\n",
      "    LinearSVC\n",
      "        Scalable Linear Support Vector Machine for classification\n",
      "        implemented using liblinear. Check the See also section of\n",
      "        LinearSVC for more comparison element.\n",
      "\n",
      "    \n"
     ]
    }
   ],
   "source": [
    "print(nb.__doc__)"
   ]
  },
  {
   "cell_type": "code",
   "execution_count": 200,
   "metadata": {
    "scrolled": false
   },
   "outputs": [
    {
     "name": "stdout",
     "output_type": "stream",
     "text": [
      "6.28 s ± 0 ns per loop (mean ± std. dev. of 1 run, 1 loop each)\n"
     ]
    }
   ],
   "source": [
    "result = %timeit -r 1 -n 1 -o nb.fit(polarity_train_dtm, polarity_train_Y)\n",
    "fit_dur=result.average"
   ]
  },
  {
   "cell_type": "code",
   "execution_count": 201,
   "metadata": {},
   "outputs": [
    {
     "name": "stdout",
     "output_type": "stream",
     "text": [
      "1.99 s ± 0 ns per loop (mean ± std. dev. of 1 run, 1 loop each)\n"
     ]
    }
   ],
   "source": [
    "result = %timeit -r 1 -n 1 -o nb.predict(polarity_test_dtm)\n",
    "y_pred_class = nb.predict(polarity_test_dtm)\n",
    "predict_dur=result.average"
   ]
  },
  {
   "cell_type": "code",
   "execution_count": 202,
   "metadata": {},
   "outputs": [
    {
     "data": {
      "text/plain": [
       "{'fit_duration': 6.28115175999983,\n",
       " 'predict_duration': 1.9860186910000266,\n",
       " 'accuracy': 0.49,\n",
       " 'recall': 0.0}"
      ]
     },
     "execution_count": 202,
     "metadata": {},
     "output_type": "execute_result"
    }
   ],
   "source": [
    "# calculate accuracy of class predictions\n",
    "from sklearn import metrics\n",
    "compute_model_perf(polarity_mperf_accu_cv,polarity_test_Y, y_pred_class,name,fit_dur,predict_dur)"
   ]
  },
  {
   "cell_type": "code",
   "execution_count": 203,
   "metadata": {
    "scrolled": false
   },
   "outputs": [
    {
     "data": {
      "image/png": "[encoded data removed]",
      "text/plain": [
       "<Figure size 576x432 with 2 Axes>"
      ]
     },
     "metadata": {
      "needs_background": "light"
     },
     "output_type": "display_data"
    }
   ],
   "source": [
    "# print the confusion matrix\n",
    "plot_confusion_matrix(metrics.confusion_matrix(polarity_test_Y, y_pred_class),['good','bad'],name)"
   ]
  },
  {
   "cell_type": "markdown",
   "metadata": {},
   "source": [
    "#### sklearn - KNN using CountVectorizer"
   ]
  },
  {
   "cell_type": "code",
   "execution_count": 229,
   "metadata": {},
   "outputs": [],
   "source": [
    "from sklearn.neighbors import KNeighborsClassifier\n",
    "name = \"KNN\"\n",
    "nb = KNeighborsClassifier(5)"
   ]
  },
  {
   "cell_type": "code",
   "execution_count": 230,
   "metadata": {},
   "outputs": [
    {
     "name": "stdout",
     "output_type": "stream",
     "text": [
      "Classifier implementing the k-nearest neighbors vote.\n",
      "\n",
      "    Read more in the :ref:`User Guide <classification>`.\n",
      "\n",
      "    Parameters\n",
      "    ----------\n",
      "    n_neighbors : int, optional (default = 5)\n",
      "        Number of neighbors to use by default for :meth:`kneighbors` queries.\n",
      "\n",
      "    weights : str or callable, optional (default = 'uniform')\n",
      "        weight function used in prediction.  Possible values:\n",
      "\n",
      "        - 'uniform' : uniform weights.  All points in each neighborhood\n",
      "          are weighted equally.\n",
      "        - 'distance' : weight points by the inverse of their distance.\n",
      "          in this case, closer neighbors of a query point will have a\n",
      "          greater influence than neighbors which are further away.\n",
      "        - [callable] : a user-defined function which accepts an\n",
      "          array of distances, and returns an array of the same shape\n",
      "          containing the weights.\n",
      "\n",
      "    algorithm : {'auto', 'ball_tree', 'kd_tree', 'brute'}, optional\n",
      "        Algorithm used to compute the nearest neighbors:\n",
      "\n",
      "        - 'ball_tree' will use :class:`BallTree`\n",
      "        - 'kd_tree' will use :class:`KDTree`\n",
      "        - 'brute' will use a brute-force search.\n",
      "        - 'auto' will attempt to decide the most appropriate algorithm\n",
      "          based on the values passed to :meth:`fit` method.\n",
      "\n",
      "        Note: fitting on sparse input will override the setting of\n",
      "        this parameter, using brute force.\n",
      "\n",
      "    leaf_size : int, optional (default = 30)\n",
      "        Leaf size passed to BallTree or KDTree.  This can affect the\n",
      "        speed of the construction and query, as well as the memory\n",
      "        required to store the tree.  The optimal value depends on the\n",
      "        nature of the problem.\n",
      "\n",
      "    p : integer, optional (default = 2)\n",
      "        Power parameter for the Minkowski metric. When p = 1, this is\n",
      "        equivalent to using manhattan_distance (l1), and euclidean_distance\n",
      "        (l2) for p = 2. For arbitrary p, minkowski_distance (l_p) is used.\n",
      "\n",
      "    metric : string or callable, default 'minkowski'\n",
      "        the distance metric to use for the tree.  The default metric is\n",
      "        minkowski, and with p=2 is equivalent to the standard Euclidean\n",
      "        metric. See the documentation of the DistanceMetric class for a\n",
      "        list of available metrics.\n",
      "\n",
      "    metric_params : dict, optional (default = None)\n",
      "        Additional keyword arguments for the metric function.\n",
      "\n",
      "    n_jobs : int or None, optional (default=None)\n",
      "        The number of parallel jobs to run for neighbors search.\n",
      "        ``None`` means 1 unless in a :obj:`joblib.parallel_backend` context.\n",
      "        ``-1`` means using all processors. See :term:`Glossary <n_jobs>`\n",
      "        for more details.\n",
      "        Doesn't affect :meth:`fit` method.\n",
      "\n",
      "    Examples\n",
      "    --------\n",
      "    >>> X = [[0], [1], [2], [3]]\n",
      "    >>> y = [0, 0, 1, 1]\n",
      "    >>> from sklearn.neighbors import KNeighborsClassifier\n",
      "    >>> neigh = KNeighborsClassifier(n_neighbors=3)\n",
      "    >>> neigh.fit(X, y) # doctest: +ELLIPSIS\n",
      "    KNeighborsClassifier(...)\n",
      "    >>> print(neigh.predict([[1.1]]))\n",
      "    [0]\n",
      "    >>> print(neigh.predict_proba([[0.9]]))\n",
      "    [[0.66666667 0.33333333]]\n",
      "\n",
      "    See also\n",
      "    --------\n",
      "    RadiusNeighborsClassifier\n",
      "    KNeighborsRegressor\n",
      "    RadiusNeighborsRegressor\n",
      "    NearestNeighbors\n",
      "\n",
      "    Notes\n",
      "    -----\n",
      "    See :ref:`Nearest Neighbors <neighbors>` in the online documentation\n",
      "    for a discussion of the choice of ``algorithm`` and ``leaf_size``.\n",
      "\n",
      "    .. warning::\n",
      "\n",
      "       Regarding the Nearest Neighbors algorithms, if it is found that two\n",
      "       neighbors, neighbor `k+1` and `k`, have identical distances\n",
      "       but different labels, the results will depend on the ordering of the\n",
      "       training data.\n",
      "\n",
      "    https://en.wikipedia.org/wiki/K-nearest_neighbor_algorithm\n",
      "    \n"
     ]
    }
   ],
   "source": [
    "print(nb.__doc__)\n",
    "# http://scikit-learn.org/stable/modules/neighbors.html#classification"
   ]
  },
  {
   "cell_type": "code",
   "execution_count": 45,
   "metadata": {
    "scrolled": false
   },
   "outputs": [
    {
     "name": "stdout",
     "output_type": "stream",
     "text": [
      "2.84 ms ± 0 ns per loop (mean ± std. dev. of 1 run, 1 loop each)\n"
     ]
    }
   ],
   "source": [
    "result = %timeit -r 1 -n 1 -o nb.fit(polarity_train_dtm, polarity_train_Y)\n",
    "fit_dur=result.average"
   ]
  },
  {
   "cell_type": "code",
   "execution_count": 46,
   "metadata": {},
   "outputs": [
    {
     "name": "stdout",
     "output_type": "stream",
     "text": [
      "194 ms ± 0 ns per loop (mean ± std. dev. of 1 run, 1 loop each)\n"
     ]
    }
   ],
   "source": [
    "result = %timeit -r 1 -n 1 -o nb.predict(polarity_test_dtm)\n",
    "y_pred_class = nb.predict(polarity_test_dtm)\n",
    "predict_dur=result.average"
   ]
  },
  {
   "cell_type": "code",
   "execution_count": 47,
   "metadata": {},
   "outputs": [
    {
     "data": {
      "text/plain": [
       "{'fit_duration': 0.0028357639999967432,\n",
       " 'predict_duration': 0.1936632659999873,\n",
       " 'accuracy': 0.63,\n",
       " 'recall': 0.611764705882353}"
      ]
     },
     "execution_count": 47,
     "metadata": {},
     "output_type": "execute_result"
    }
   ],
   "source": [
    "# calculate accuracy of class predictions\n",
    "from sklearn import metrics\n",
    "compute_model_perf(polarity_mperf_accu_cv,polarity_test_Y, y_pred_class,name,fit_dur,predict_dur)"
   ]
  },
  {
   "cell_type": "code",
   "execution_count": 48,
   "metadata": {
    "scrolled": false
   },
   "outputs": [
    {
     "data": {
      "image/png": "[encoded data removed]",
      "text/plain": [
       "<Figure size 576x432 with 2 Axes>"
      ]
     },
     "metadata": {
      "needs_background": "light"
     },
     "output_type": "display_data"
    }
   ],
   "source": [
    "# print the confusion matrix\n",
    "plot_confusion_matrix(metrics.confusion_matrix(polarity_test_Y, y_pred_class),['good','bad'],name)"
   ]
  },
  {
   "cell_type": "markdown",
   "metadata": {},
   "source": [
    "#### sklearn - NN using CountVectorizer"
   ]
  },
  {
   "cell_type": "code",
   "execution_count": 233,
   "metadata": {},
   "outputs": [],
   "source": [
    "from sklearn.neural_network import MLPClassifier\n",
    "name = \"NN\"\n",
    "nb = MLPClassifier(alpha=1,learning_rate='adaptive')"
   ]
  },
  {
   "cell_type": "code",
   "execution_count": 234,
   "metadata": {},
   "outputs": [
    {
     "name": "stdout",
     "output_type": "stream",
     "text": [
      "Multi-layer Perceptron classifier.\n",
      "\n",
      "    This model optimizes the log-loss function using LBFGS or stochastic\n",
      "    gradient descent.\n",
      "\n",
      "    .. versionadded:: 0.18\n",
      "\n",
      "    Parameters\n",
      "    ----------\n",
      "    hidden_layer_sizes : tuple, length = n_layers - 2, default (100,)\n",
      "        The ith element represents the number of neurons in the ith\n",
      "        hidden layer.\n",
      "\n",
      "    activation : {'identity', 'logistic', 'tanh', 'relu'}, default 'relu'\n",
      "        Activation function for the hidden layer.\n",
      "\n",
      "        - 'identity', no-op activation, useful to implement linear bottleneck,\n",
      "          returns f(x) = x\n",
      "\n",
      "        - 'logistic', the logistic sigmoid function,\n",
      "          returns f(x) = 1 / (1 + exp(-x)).\n",
      "\n",
      "        - 'tanh', the hyperbolic tan function,\n",
      "          returns f(x) = tanh(x).\n",
      "\n",
      "        - 'relu', the rectified linear unit function,\n",
      "          returns f(x) = max(0, x)\n",
      "\n",
      "    solver : {'lbfgs', 'sgd', 'adam'}, default 'adam'\n",
      "        The solver for weight optimization.\n",
      "\n",
      "        - 'lbfgs' is an optimizer in the family of quasi-Newton methods.\n",
      "\n",
      "        - 'sgd' refers to stochastic gradient descent.\n",
      "\n",
      "        - 'adam' refers to a stochastic gradient-based optimizer proposed\n",
      "          by Kingma, Diederik, and Jimmy Ba\n",
      "\n",
      "        Note: The default solver 'adam' works pretty well on relatively\n",
      "        large datasets (with thousands of training samples or more) in terms of\n",
      "        both training time and validation score.\n",
      "        For small datasets, however, 'lbfgs' can converge faster and perform\n",
      "        better.\n",
      "\n",
      "    alpha : float, optional, default 0.0001\n",
      "        L2 penalty (regularization term) parameter.\n",
      "\n",
      "    batch_size : int, optional, default 'auto'\n",
      "        Size of minibatches for stochastic optimizers.\n",
      "        If the solver is 'lbfgs', the classifier will not use minibatch.\n",
      "        When set to \"auto\", `batch_size=min(200, n_samples)`\n",
      "\n",
      "    learning_rate : {'constant', 'invscaling', 'adaptive'}, default 'constant'\n",
      "        Learning rate schedule for weight updates.\n",
      "\n",
      "        - 'constant' is a constant learning rate given by\n",
      "          'learning_rate_init'.\n",
      "\n",
      "        - 'invscaling' gradually decreases the learning rate ``learning_rate_``\n",
      "          at each time step 't' using an inverse scaling exponent of 'power_t'.\n",
      "          effective_learning_rate = learning_rate_init / pow(t, power_t)\n",
      "\n",
      "        - 'adaptive' keeps the learning rate constant to\n",
      "          'learning_rate_init' as long as training loss keeps decreasing.\n",
      "          Each time two consecutive epochs fail to decrease training loss by at\n",
      "          least tol, or fail to increase validation score by at least tol if\n",
      "          'early_stopping' is on, the current learning rate is divided by 5.\n",
      "\n",
      "        Only used when ``solver='sgd'``.\n",
      "\n",
      "    learning_rate_init : double, optional, default 0.001\n",
      "        The initial learning rate used. It controls the step-size\n",
      "        in updating the weights. Only used when solver='sgd' or 'adam'.\n",
      "\n",
      "    power_t : double, optional, default 0.5\n",
      "        The exponent for inverse scaling learning rate.\n",
      "        It is used in updating effective learning rate when the learning_rate\n",
      "        is set to 'invscaling'. Only used when solver='sgd'.\n",
      "\n",
      "    max_iter : int, optional, default 200\n",
      "        Maximum number of iterations. The solver iterates until convergence\n",
      "        (determined by 'tol') or this number of iterations. For stochastic\n",
      "        solvers ('sgd', 'adam'), note that this determines the number of epochs\n",
      "        (how many times each data point will be used), not the number of\n",
      "        gradient steps.\n",
      "\n",
      "    shuffle : bool, optional, default True\n",
      "        Whether to shuffle samples in each iteration. Only used when\n",
      "        solver='sgd' or 'adam'.\n",
      "\n",
      "    random_state : int, RandomState instance or None, optional, default None\n",
      "        If int, random_state is the seed used by the random number generator;\n",
      "        If RandomState instance, random_state is the random number generator;\n",
      "        If None, the random number generator is the RandomState instance used\n",
      "        by `np.random`.\n",
      "\n",
      "    tol : float, optional, default 1e-4\n",
      "        Tolerance for the optimization. When the loss or score is not improving\n",
      "        by at least ``tol`` for ``n_iter_no_change`` consecutive iterations,\n",
      "        unless ``learning_rate`` is set to 'adaptive', convergence is\n",
      "        considered to be reached and training stops.\n",
      "\n",
      "    verbose : bool, optional, default False\n",
      "        Whether to print progress messages to stdout.\n",
      "\n",
      "    warm_start : bool, optional, default False\n",
      "        When set to True, reuse the solution of the previous\n",
      "        call to fit as initialization, otherwise, just erase the\n",
      "        previous solution. See :term:`the Glossary <warm_start>`.\n",
      "\n",
      "    momentum : float, default 0.9\n",
      "        Momentum for gradient descent update. Should be between 0 and 1. Only\n",
      "        used when solver='sgd'.\n",
      "\n",
      "    nesterovs_momentum : boolean, default True\n",
      "        Whether to use Nesterov's momentum. Only used when solver='sgd' and\n",
      "        momentum > 0.\n",
      "\n",
      "    early_stopping : bool, default False\n",
      "        Whether to use early stopping to terminate training when validation\n",
      "        score is not improving. If set to true, it will automatically set\n",
      "        aside 10% of training data as validation and terminate training when\n",
      "        validation score is not improving by at least tol for\n",
      "        ``n_iter_no_change`` consecutive epochs.\n",
      "        Only effective when solver='sgd' or 'adam'\n",
      "\n",
      "    validation_fraction : float, optional, default 0.1\n",
      "        The proportion of training data to set aside as validation set for\n",
      "        early stopping. Must be between 0 and 1.\n",
      "        Only used if early_stopping is True\n",
      "\n",
      "    beta_1 : float, optional, default 0.9\n",
      "        Exponential decay rate for estimates of first moment vector in adam,\n",
      "        should be in [0, 1). Only used when solver='adam'\n",
      "\n",
      "    beta_2 : float, optional, default 0.999\n",
      "        Exponential decay rate for estimates of second moment vector in adam,\n",
      "        should be in [0, 1). Only used when solver='adam'\n",
      "\n",
      "    epsilon : float, optional, default 1e-8\n",
      "        Value for numerical stability in adam. Only used when solver='adam'\n",
      "\n",
      "    n_iter_no_change : int, optional, default 10\n",
      "        Maximum number of epochs to not meet ``tol`` improvement.\n",
      "        Only effective when solver='sgd' or 'adam'\n",
      "\n",
      "        .. versionadded:: 0.20\n",
      "\n",
      "    Attributes\n",
      "    ----------\n",
      "    classes_ : array or list of array of shape (n_classes,)\n",
      "        Class labels for each output.\n",
      "\n",
      "    loss_ : float\n",
      "        The current loss computed with the loss function.\n",
      "\n",
      "    coefs_ : list, length n_layers - 1\n",
      "        The ith element in the list represents the weight matrix corresponding\n",
      "        to layer i.\n",
      "\n",
      "    intercepts_ : list, length n_layers - 1\n",
      "        The ith element in the list represents the bias vector corresponding to\n",
      "        layer i + 1.\n",
      "\n",
      "    n_iter_ : int,\n",
      "        The number of iterations the solver has ran.\n",
      "\n",
      "    n_layers_ : int\n",
      "        Number of layers.\n",
      "\n",
      "    n_outputs_ : int\n",
      "        Number of outputs.\n",
      "\n",
      "    out_activation_ : string\n",
      "        Name of the output activation function.\n",
      "\n",
      "    Notes\n",
      "    -----\n",
      "    MLPClassifier trains iteratively since at each time step\n",
      "    the partial derivatives of the loss function with respect to the model\n",
      "    parameters are computed to update the parameters.\n",
      "\n",
      "    It can also have a regularization term added to the loss function\n",
      "    that shrinks model parameters to prevent overfitting.\n",
      "\n",
      "    This implementation works with data represented as dense numpy arrays or\n",
      "    sparse scipy arrays of floating point values.\n",
      "\n",
      "    References\n",
      "    ----------\n",
      "    Hinton, Geoffrey E.\n",
      "        \"Connectionist learning procedures.\" Artificial intelligence 40.1\n",
      "        (1989): 185-234.\n",
      "\n",
      "    Glorot, Xavier, and Yoshua Bengio. \"Understanding the difficulty of\n",
      "        training deep feedforward neural networks.\" International Conference\n",
      "        on Artificial Intelligence and Statistics. 2010.\n",
      "\n",
      "    He, Kaiming, et al. \"Delving deep into rectifiers: Surpassing human-level\n",
      "        performance on imagenet classification.\" arXiv preprint\n",
      "        arXiv:1502.01852 (2015).\n",
      "\n",
      "    Kingma, Diederik, and Jimmy Ba. \"Adam: A method for stochastic\n",
      "        optimization.\" arXiv preprint arXiv:1412.6980 (2014).\n",
      "    \n"
     ]
    }
   ],
   "source": [
    "print(nb.__doc__)"
   ]
  },
  {
   "cell_type": "code",
   "execution_count": 235,
   "metadata": {
    "scrolled": false
   },
   "outputs": [
    {
     "name": "stdout",
     "output_type": "stream",
     "text": [
      "1min 26s ± 0 ns per loop (mean ± std. dev. of 1 run, 1 loop each)\n"
     ]
    }
   ],
   "source": [
    "result = %timeit -r 1 -n 1 -o nb.fit(polarity_train_dtm, polarity_train_Y)\n",
    "fit_dur=result.average"
   ]
  },
  {
   "cell_type": "code",
   "execution_count": 236,
   "metadata": {},
   "outputs": [
    {
     "name": "stdout",
     "output_type": "stream",
     "text": [
      "36.3 ms ± 0 ns per loop (mean ± std. dev. of 1 run, 1 loop each)\n"
     ]
    }
   ],
   "source": [
    "result = %timeit -r 1 -n 1 -o nb.predict(polarity_test_dtm)\n",
    "y_pred_class = nb.predict(polarity_test_dtm)\n",
    "predict_dur=result.average"
   ]
  },
  {
   "cell_type": "code",
   "execution_count": 237,
   "metadata": {},
   "outputs": [
    {
     "data": {
      "text/plain": [
       "{'fit_duration': 86.68555009899956,\n",
       " 'predict_duration': 0.03633681300016178,\n",
       " 'accuracy': 0.844,\n",
       " 'recall': 0.8470588235294118}"
      ]
     },
     "execution_count": 237,
     "metadata": {},
     "output_type": "execute_result"
    }
   ],
   "source": [
    "# calculate accuracy of class predictions\n",
    "from sklearn import metrics\n",
    "compute_model_perf(polarity_mperf_accu_cv,polarity_test_Y, y_pred_class,name,fit_dur,predict_dur)"
   ]
  },
  {
   "cell_type": "code",
   "execution_count": 238,
   "metadata": {
    "scrolled": true
   },
   "outputs": [
    {
     "data": {
      "image/png": "[encoded data removed]",
      "text/plain": [
       "<Figure size 576x432 with 2 Axes>"
      ]
     },
     "metadata": {
      "needs_background": "light"
     },
     "output_type": "display_data"
    }
   ],
   "source": [
    "# print the confusion matrix\n",
    "plot_confusion_matrix(metrics.confusion_matrix(polarity_test_Y, y_pred_class),['good','bad'],name)"
   ]
  },
  {
   "cell_type": "markdown",
   "metadata": {},
   "source": [
    "####  sklearn Logisitic Regression using CountVectorizer"
   ]
  },
  {
   "cell_type": "code",
   "execution_count": 243,
   "metadata": {},
   "outputs": [],
   "source": [
    "# import and instantiate a logistic regression model \n",
    "from sklearn.linear_model import LogisticRegression\n",
    "name = \"LogisticRegression\"\n",
    "logreg = LogisticRegression()"
   ]
  },
  {
   "cell_type": "code",
   "execution_count": 244,
   "metadata": {},
   "outputs": [
    {
     "name": "stdout",
     "output_type": "stream",
     "text": [
      "Multi-layer Perceptron classifier.\n",
      "\n",
      "    This model optimizes the log-loss function using LBFGS or stochastic\n",
      "    gradient descent.\n",
      "\n",
      "    .. versionadded:: 0.18\n",
      "\n",
      "    Parameters\n",
      "    ----------\n",
      "    hidden_layer_sizes : tuple, length = n_layers - 2, default (100,)\n",
      "        The ith element represents the number of neurons in the ith\n",
      "        hidden layer.\n",
      "\n",
      "    activation : {'identity', 'logistic', 'tanh', 'relu'}, default 'relu'\n",
      "        Activation function for the hidden layer.\n",
      "\n",
      "        - 'identity', no-op activation, useful to implement linear bottleneck,\n",
      "          returns f(x) = x\n",
      "\n",
      "        - 'logistic', the logistic sigmoid function,\n",
      "          returns f(x) = 1 / (1 + exp(-x)).\n",
      "\n",
      "        - 'tanh', the hyperbolic tan function,\n",
      "          returns f(x) = tanh(x).\n",
      "\n",
      "        - 'relu', the rectified linear unit function,\n",
      "          returns f(x) = max(0, x)\n",
      "\n",
      "    solver : {'lbfgs', 'sgd', 'adam'}, default 'adam'\n",
      "        The solver for weight optimization.\n",
      "\n",
      "        - 'lbfgs' is an optimizer in the family of quasi-Newton methods.\n",
      "\n",
      "        - 'sgd' refers to stochastic gradient descent.\n",
      "\n",
      "        - 'adam' refers to a stochastic gradient-based optimizer proposed\n",
      "          by Kingma, Diederik, and Jimmy Ba\n",
      "\n",
      "        Note: The default solver 'adam' works pretty well on relatively\n",
      "        large datasets (with thousands of training samples or more) in terms of\n",
      "        both training time and validation score.\n",
      "        For small datasets, however, 'lbfgs' can converge faster and perform\n",
      "        better.\n",
      "\n",
      "    alpha : float, optional, default 0.0001\n",
      "        L2 penalty (regularization term) parameter.\n",
      "\n",
      "    batch_size : int, optional, default 'auto'\n",
      "        Size of minibatches for stochastic optimizers.\n",
      "        If the solver is 'lbfgs', the classifier will not use minibatch.\n",
      "        When set to \"auto\", `batch_size=min(200, n_samples)`\n",
      "\n",
      "    learning_rate : {'constant', 'invscaling', 'adaptive'}, default 'constant'\n",
      "        Learning rate schedule for weight updates.\n",
      "\n",
      "        - 'constant' is a constant learning rate given by\n",
      "          'learning_rate_init'.\n",
      "\n",
      "        - 'invscaling' gradually decreases the learning rate ``learning_rate_``\n",
      "          at each time step 't' using an inverse scaling exponent of 'power_t'.\n",
      "          effective_learning_rate = learning_rate_init / pow(t, power_t)\n",
      "\n",
      "        - 'adaptive' keeps the learning rate constant to\n",
      "          'learning_rate_init' as long as training loss keeps decreasing.\n",
      "          Each time two consecutive epochs fail to decrease training loss by at\n",
      "          least tol, or fail to increase validation score by at least tol if\n",
      "          'early_stopping' is on, the current learning rate is divided by 5.\n",
      "\n",
      "        Only used when ``solver='sgd'``.\n",
      "\n",
      "    learning_rate_init : double, optional, default 0.001\n",
      "        The initial learning rate used. It controls the step-size\n",
      "        in updating the weights. Only used when solver='sgd' or 'adam'.\n",
      "\n",
      "    power_t : double, optional, default 0.5\n",
      "        The exponent for inverse scaling learning rate.\n",
      "        It is used in updating effective learning rate when the learning_rate\n",
      "        is set to 'invscaling'. Only used when solver='sgd'.\n",
      "\n",
      "    max_iter : int, optional, default 200\n",
      "        Maximum number of iterations. The solver iterates until convergence\n",
      "        (determined by 'tol') or this number of iterations. For stochastic\n",
      "        solvers ('sgd', 'adam'), note that this determines the number of epochs\n",
      "        (how many times each data point will be used), not the number of\n",
      "        gradient steps.\n",
      "\n",
      "    shuffle : bool, optional, default True\n",
      "        Whether to shuffle samples in each iteration. Only used when\n",
      "        solver='sgd' or 'adam'.\n",
      "\n",
      "    random_state : int, RandomState instance or None, optional, default None\n",
      "        If int, random_state is the seed used by the random number generator;\n",
      "        If RandomState instance, random_state is the random number generator;\n",
      "        If None, the random number generator is the RandomState instance used\n",
      "        by `np.random`.\n",
      "\n",
      "    tol : float, optional, default 1e-4\n",
      "        Tolerance for the optimization. When the loss or score is not improving\n",
      "        by at least ``tol`` for ``n_iter_no_change`` consecutive iterations,\n",
      "        unless ``learning_rate`` is set to 'adaptive', convergence is\n",
      "        considered to be reached and training stops.\n",
      "\n",
      "    verbose : bool, optional, default False\n",
      "        Whether to print progress messages to stdout.\n",
      "\n",
      "    warm_start : bool, optional, default False\n",
      "        When set to True, reuse the solution of the previous\n",
      "        call to fit as initialization, otherwise, just erase the\n",
      "        previous solution. See :term:`the Glossary <warm_start>`.\n",
      "\n",
      "    momentum : float, default 0.9\n",
      "        Momentum for gradient descent update. Should be between 0 and 1. Only\n",
      "        used when solver='sgd'.\n",
      "\n",
      "    nesterovs_momentum : boolean, default True\n",
      "        Whether to use Nesterov's momentum. Only used when solver='sgd' and\n",
      "        momentum > 0.\n",
      "\n",
      "    early_stopping : bool, default False\n",
      "        Whether to use early stopping to terminate training when validation\n",
      "        score is not improving. If set to true, it will automatically set\n",
      "        aside 10% of training data as validation and terminate training when\n",
      "        validation score is not improving by at least tol for\n",
      "        ``n_iter_no_change`` consecutive epochs.\n",
      "        Only effective when solver='sgd' or 'adam'\n",
      "\n",
      "    validation_fraction : float, optional, default 0.1\n",
      "        The proportion of training data to set aside as validation set for\n",
      "        early stopping. Must be between 0 and 1.\n",
      "        Only used if early_stopping is True\n",
      "\n",
      "    beta_1 : float, optional, default 0.9\n",
      "        Exponential decay rate for estimates of first moment vector in adam,\n",
      "        should be in [0, 1). Only used when solver='adam'\n",
      "\n",
      "    beta_2 : float, optional, default 0.999\n",
      "        Exponential decay rate for estimates of second moment vector in adam,\n",
      "        should be in [0, 1). Only used when solver='adam'\n",
      "\n",
      "    epsilon : float, optional, default 1e-8\n",
      "        Value for numerical stability in adam. Only used when solver='adam'\n",
      "\n",
      "    n_iter_no_change : int, optional, default 10\n",
      "        Maximum number of epochs to not meet ``tol`` improvement.\n",
      "        Only effective when solver='sgd' or 'adam'\n",
      "\n",
      "        .. versionadded:: 0.20\n",
      "\n",
      "    Attributes\n",
      "    ----------\n",
      "    classes_ : array or list of array of shape (n_classes,)\n",
      "        Class labels for each output.\n",
      "\n",
      "    loss_ : float\n",
      "        The current loss computed with the loss function.\n",
      "\n",
      "    coefs_ : list, length n_layers - 1\n",
      "        The ith element in the list represents the weight matrix corresponding\n",
      "        to layer i.\n",
      "\n",
      "    intercepts_ : list, length n_layers - 1\n",
      "        The ith element in the list represents the bias vector corresponding to\n",
      "        layer i + 1.\n",
      "\n",
      "    n_iter_ : int,\n",
      "        The number of iterations the solver has ran.\n",
      "\n",
      "    n_layers_ : int\n",
      "        Number of layers.\n",
      "\n",
      "    n_outputs_ : int\n",
      "        Number of outputs.\n",
      "\n",
      "    out_activation_ : string\n",
      "        Name of the output activation function.\n",
      "\n",
      "    Notes\n",
      "    -----\n",
      "    MLPClassifier trains iteratively since at each time step\n",
      "    the partial derivatives of the loss function with respect to the model\n",
      "    parameters are computed to update the parameters.\n",
      "\n",
      "    It can also have a regularization term added to the loss function\n",
      "    that shrinks model parameters to prevent overfitting.\n",
      "\n",
      "    This implementation works with data represented as dense numpy arrays or\n",
      "    sparse scipy arrays of floating point values.\n",
      "\n",
      "    References\n",
      "    ----------\n",
      "    Hinton, Geoffrey E.\n",
      "        \"Connectionist learning procedures.\" Artificial intelligence 40.1\n",
      "        (1989): 185-234.\n",
      "\n",
      "    Glorot, Xavier, and Yoshua Bengio. \"Understanding the difficulty of\n",
      "        training deep feedforward neural networks.\" International Conference\n",
      "        on Artificial Intelligence and Statistics. 2010.\n",
      "\n",
      "    He, Kaiming, et al. \"Delving deep into rectifiers: Surpassing human-level\n",
      "        performance on imagenet classification.\" arXiv preprint\n",
      "        arXiv:1502.01852 (2015).\n",
      "\n",
      "    Kingma, Diederik, and Jimmy Ba. \"Adam: A method for stochastic\n",
      "        optimization.\" arXiv preprint arXiv:1412.6980 (2014).\n",
      "    \n"
     ]
    }
   ],
   "source": [
    "print(nb.__doc__)"
   ]
  },
  {
   "cell_type": "code",
   "execution_count": 245,
   "metadata": {
    "scrolled": false
   },
   "outputs": [
    {
     "name": "stderr",
     "output_type": "stream",
     "text": [
      "/usr/lib/python3.7/site-packages/sklearn/linear_model/logistic.py:432: FutureWarning: Default solver will be changed to 'lbfgs' in 0.22. Specify a solver to silence this warning.\n",
      "  FutureWarning)\n"
     ]
    },
    {
     "name": "stdout",
     "output_type": "stream",
     "text": [
      "383 ms ± 0 ns per loop (mean ± std. dev. of 1 run, 1 loop each)\n"
     ]
    }
   ],
   "source": [
    "result = %timeit -r 1 -n 1 -o logreg.fit(polarity_train_dtm, polarity_train_Y)\n",
    "fit_dur=result.average"
   ]
  },
  {
   "cell_type": "code",
   "execution_count": 246,
   "metadata": {},
   "outputs": [
    {
     "name": "stdout",
     "output_type": "stream",
     "text": [
      "1.66 ms ± 0 ns per loop (mean ± std. dev. of 1 run, 1 loop each)\n"
     ]
    }
   ],
   "source": [
    "result = %timeit -r 1 -n 1 -o y_pred_class = logreg.predict(polarity_test_dtm)\n",
    "predict_dur=result.average"
   ]
  },
  {
   "cell_type": "code",
   "execution_count": 247,
   "metadata": {},
   "outputs": [
    {
     "data": {
      "text/plain": [
       "array([9.99970911e-01, 3.67974916e-02, 1.42223380e-02, 6.72115169e-05,\n",
       "       3.07171731e-01, 1.39045514e-02, 9.92254245e-01, 4.37335095e-01,\n",
       "       1.61400634e-02, 9.60968813e-01, 2.08208332e-01, 1.17965356e-01,\n",
       "       6.18423630e-01, 1.68714588e-04, 9.97893977e-01, 5.84498830e-01,\n",
       "       9.57262067e-01, 4.24748132e-02, 7.82725139e-01, 1.79191980e-04,\n",
       "       9.98910932e-01, 3.15910512e-01, 1.63339948e-01, 9.90426624e-01,\n",
       "       9.98917585e-01, 9.99129109e-01, 1.51064173e-03, 9.99936973e-01,\n",
       "       9.96450633e-01, 2.80188472e-01, 1.96188950e-03, 9.99901585e-01,\n",
       "       4.00933940e-04, 9.99915433e-01, 9.93428424e-01, 9.94652816e-01,\n",
       "       9.99980111e-01, 1.15967447e-01, 8.46350210e-01, 8.95695229e-02,\n",
       "       9.99425074e-01, 9.90706373e-01, 2.86345206e-01, 8.07141034e-02,\n",
       "       7.81713761e-01, 1.88377873e-01, 9.99896499e-01, 2.82580492e-05,\n",
       "       6.75715014e-04, 6.09468107e-03, 1.54523330e-01, 7.52975955e-02,\n",
       "       9.98108120e-01, 4.74492207e-01, 9.74575570e-01, 9.99955891e-01,\n",
       "       9.99627589e-01, 3.06760680e-01, 1.79241685e-01, 3.24700708e-05,\n",
       "       2.59828826e-01, 5.09100247e-01, 9.27397714e-05, 1.73111827e-02,\n",
       "       2.27148930e-03, 9.98442546e-01, 4.60323813e-01, 8.67593438e-01,\n",
       "       9.66242662e-01, 2.24354162e-04, 4.79904155e-01, 1.86118087e-05,\n",
       "       2.87505744e-04, 1.64750056e-01, 1.39200319e-02, 5.89420774e-02,\n",
       "       7.94815834e-06, 2.44428724e-04, 9.82695538e-03, 5.30199847e-01,\n",
       "       9.94961143e-01, 9.93595177e-01, 7.42637980e-01, 9.53912698e-01,\n",
       "       2.03173238e-01, 6.38765616e-01, 9.99380136e-01, 9.98818134e-01,\n",
       "       1.65581314e-02, 9.15593219e-01, 9.75460040e-01, 1.04703216e-01,\n",
       "       7.27960283e-01, 1.51660685e-03, 1.36670982e-05, 9.99682432e-01,\n",
       "       7.70553742e-04, 9.87214613e-01, 9.99842148e-01, 9.99992351e-01,\n",
       "       2.52824872e-03, 8.19903081e-01, 9.83945596e-01, 9.99845166e-01,\n",
       "       9.98276589e-01, 1.71244138e-01, 5.79608095e-02, 3.56253481e-01,\n",
       "       9.99500491e-01, 2.77888301e-01, 7.66480333e-01, 9.89652022e-01,\n",
       "       6.61543566e-04, 7.97374689e-03, 2.29213428e-02, 5.57571817e-01,\n",
       "       9.99999989e-01, 5.28469617e-02, 9.90505125e-01, 6.49325916e-04,\n",
       "       1.26475113e-01, 2.40986846e-03, 1.98725458e-05, 1.18634579e-05,\n",
       "       9.99996391e-01, 1.57116226e-03, 8.98063993e-02, 1.27525921e-02,\n",
       "       5.35682256e-03, 9.96339508e-01, 4.43729144e-05, 9.99855475e-01,\n",
       "       9.99999945e-01, 1.72995395e-01, 5.58514305e-01, 5.14633708e-01,\n",
       "       9.96186782e-01, 9.88268055e-01, 8.43106788e-01, 4.05500465e-01,\n",
       "       9.96957129e-01, 6.19551461e-02, 4.60060991e-03, 3.35637790e-02,\n",
       "       9.81857040e-01, 2.30469557e-04, 3.47243805e-02, 1.55950986e-02,\n",
       "       4.45436760e-01, 1.05635863e-03, 9.26985102e-01, 9.88925445e-01,\n",
       "       5.27631760e-05, 1.15606895e-04, 9.89597595e-01, 2.58312175e-04,\n",
       "       3.88483455e-03, 1.02713628e-01, 9.55899377e-01, 1.01057240e-01,\n",
       "       2.00525037e-04, 2.44312387e-04, 3.40290599e-01, 9.99867933e-01,\n",
       "       1.88253070e-01, 1.56413170e-01, 9.98544000e-01, 9.98377298e-01,\n",
       "       1.12080252e-01, 8.81239510e-01, 3.16994558e-01, 2.15204450e-01,\n",
       "       9.99970242e-01, 4.43164697e-03, 5.96755593e-02, 4.43391018e-01,\n",
       "       6.35228276e-01, 5.74983624e-01, 9.99992680e-01, 7.35580908e-04,\n",
       "       9.86730344e-01, 1.90541421e-02, 9.99999468e-01, 1.73695988e-02,\n",
       "       7.76063722e-01, 4.32756059e-03, 4.60127483e-01, 3.51108012e-02,\n",
       "       9.98025301e-01, 7.36962294e-01, 1.32716903e-01, 3.18719354e-01,\n",
       "       8.80663919e-03, 9.83216372e-02, 1.94419047e-01, 9.93428199e-01,\n",
       "       5.97128070e-01, 9.99199910e-01, 9.70144046e-01, 5.46887657e-01,\n",
       "       9.99999423e-01, 8.76646967e-01, 1.84838393e-05, 5.04358681e-01,\n",
       "       6.08249674e-05, 9.98154713e-01, 3.27471149e-03, 2.73865753e-05,\n",
       "       5.51014008e-03, 9.09953876e-01, 2.31906736e-06, 9.25028702e-03,\n",
       "       9.98256957e-01, 9.97541301e-01, 9.99172542e-01, 9.84577606e-01,\n",
       "       9.79934304e-01, 5.08632614e-01, 4.07046936e-04, 9.99695932e-01,\n",
       "       1.17320401e-03, 4.21778370e-04, 2.67417083e-04, 9.95804614e-01,\n",
       "       1.05411686e-02, 9.96388624e-01, 9.99252941e-01, 2.83371437e-01,\n",
       "       7.60127559e-01, 6.60464890e-03, 8.65581715e-02, 9.52934661e-03,\n",
       "       5.94190215e-01, 8.24693300e-01, 6.24058636e-01, 3.17849437e-01,\n",
       "       9.47275325e-01, 1.67642649e-02, 3.10140848e-02, 7.09065579e-04,\n",
       "       4.11391357e-03, 9.95621692e-01, 9.90230814e-01, 2.64550168e-01,\n",
       "       9.95826221e-01, 6.08846974e-01, 2.61698629e-02, 9.99999286e-01,\n",
       "       9.03644343e-04, 9.59596305e-01, 2.55144375e-01, 9.57390761e-01,\n",
       "       5.67974127e-04, 1.69531671e-04, 1.80607630e-02, 3.44741172e-03,\n",
       "       1.75997970e-03, 7.66258833e-01, 1.28131682e-01, 1.72636096e-01,\n",
       "       1.13211717e-03, 6.52089384e-04, 9.99705052e-01, 1.91204016e-03,\n",
       "       7.16572034e-03, 1.48683808e-01, 9.99668993e-01, 9.84938797e-01,\n",
       "       1.20604582e-05, 2.39566174e-03, 2.86736351e-01, 7.18436354e-01,\n",
       "       9.77033151e-01, 8.45789955e-02, 3.08509517e-01, 1.38961209e-01,\n",
       "       8.73339669e-01, 8.07337392e-01, 9.99999759e-01, 7.60618580e-01,\n",
       "       9.99999782e-01, 9.81953825e-03, 9.99999999e-01, 1.57259759e-03,\n",
       "       1.75663802e-01, 1.97654941e-02, 2.34041957e-03, 7.88271429e-01,\n",
       "       2.06641430e-02, 3.01912259e-02, 3.46945131e-02, 9.99577068e-01,\n",
       "       2.95799681e-01, 9.98585631e-01, 2.39584867e-14, 4.42354475e-01,\n",
       "       9.99457147e-01, 9.99998441e-01, 1.25771695e-05, 9.47221912e-01,\n",
       "       8.71733159e-01, 1.08869110e-01, 8.10731549e-04, 4.39709435e-04,\n",
       "       9.62406999e-01, 1.64942785e-02, 1.07735335e-04, 9.99672934e-01,\n",
       "       3.22414363e-06, 7.09083098e-04, 5.70711108e-03, 9.69979647e-01,\n",
       "       6.51370455e-02, 1.26522276e-02, 6.17940391e-03, 2.32577426e-02,\n",
       "       9.80099702e-01, 9.98058247e-01, 9.95108294e-01, 9.99992591e-01,\n",
       "       2.61147259e-01, 6.27402531e-01, 7.83605540e-01, 2.87456391e-01,\n",
       "       1.60489623e-02, 4.58933282e-05, 9.48466148e-01, 4.60194429e-02,\n",
       "       9.97882257e-01, 5.67059205e-01, 9.89938606e-01, 9.27682759e-03,\n",
       "       4.34290332e-01, 9.99279371e-01, 1.06265201e-01, 6.00447915e-01,\n",
       "       7.30096303e-01, 9.99701844e-01, 6.51016370e-01, 8.51491117e-01,\n",
       "       9.98560905e-01, 9.97500991e-01, 9.97183242e-01, 2.66932375e-02,\n",
       "       1.81187463e-04, 9.98822966e-01, 9.99987467e-01, 1.11486999e-01,\n",
       "       3.64832268e-01, 2.02694067e-04, 9.50321615e-01, 4.55146538e-01,\n",
       "       9.92431683e-05, 9.12110623e-01, 9.99087395e-01, 9.94666772e-01,\n",
       "       9.99327023e-01, 9.61944780e-01, 6.14274163e-01, 5.96343818e-02,\n",
       "       7.91570294e-01, 9.99986135e-01, 5.68389161e-03, 1.26652220e-02,\n",
       "       7.92522136e-01, 9.93823969e-01, 7.59481486e-01, 2.67092240e-03,\n",
       "       9.98694170e-01, 9.99975687e-01, 1.99747730e-02, 7.79278034e-01,\n",
       "       7.37580964e-01, 9.99987091e-01, 4.31260369e-01, 6.77669739e-01,\n",
       "       7.72934862e-01, 3.02617108e-04, 1.34978977e-01, 3.82841639e-01,\n",
       "       9.93834241e-01, 9.98192820e-01, 9.99882829e-01, 9.57481335e-01,\n",
       "       8.34168330e-01, 9.71678981e-01, 7.17566846e-04, 9.97711516e-01,\n",
       "       3.68392295e-01, 1.34599222e-01, 9.99529412e-01, 8.32617060e-01,\n",
       "       9.99972907e-01, 6.43016756e-01, 1.01148699e-03, 4.01352889e-01,\n",
       "       9.99999999e-01, 9.23708953e-01, 1.43251475e-02, 2.41986878e-02,\n",
       "       9.77444688e-01, 2.20934148e-01, 9.99977896e-01, 9.81816406e-01,\n",
       "       9.21451692e-01, 1.15585186e-01, 9.41272259e-01, 5.92737819e-01,\n",
       "       9.99250213e-01, 3.17722178e-01, 5.87775674e-03, 5.36161830e-03,\n",
       "       7.05460599e-03, 9.97841333e-01, 9.98693634e-01, 9.87095211e-01,\n",
       "       2.61844010e-02, 5.89080989e-02, 8.18616500e-01, 5.44109214e-04,\n",
       "       2.52899388e-04, 9.99961133e-01, 2.98589428e-01, 9.99802780e-01,\n",
       "       9.30927074e-01, 9.52166024e-01, 1.32443268e-01, 1.61331339e-03,\n",
       "       9.27019052e-01, 9.99502561e-01, 6.70296008e-01, 4.14729312e-04,\n",
       "       6.43481453e-01, 9.99616856e-01, 9.96774116e-01, 6.98535104e-01,\n",
       "       1.01785500e-02, 9.99121830e-01, 5.34610174e-03, 9.41169675e-01,\n",
       "       1.00024154e-01, 3.98810155e-02, 2.05340856e-01, 3.16231422e-01,\n",
       "       1.00674515e-01, 1.96538151e-01, 9.97929696e-01, 3.64440605e-01,\n",
       "       2.79811819e-02, 9.99570982e-01, 9.99731403e-01, 6.25015725e-02,\n",
       "       9.99832888e-01, 9.99516130e-01, 3.72653822e-03, 9.96679708e-01,\n",
       "       9.78974948e-01, 8.98939994e-01, 8.44067297e-01, 8.29670064e-01,\n",
       "       9.93570964e-01, 1.35410821e-02, 1.29972273e-01, 8.05629696e-01,\n",
       "       9.97918851e-01, 9.64432649e-01, 8.93057490e-01, 3.15957409e-04,\n",
       "       2.57768767e-05, 8.23497359e-01, 9.50779895e-01, 9.95586032e-01,\n",
       "       3.97026243e-04, 3.06719207e-01, 1.13934106e-03, 1.74061424e-02,\n",
       "       6.53466493e-05, 9.93238540e-01, 3.42793726e-03, 9.94288062e-01,\n",
       "       9.92223429e-01, 9.99937523e-01, 9.59782494e-01, 9.93275529e-01,\n",
       "       2.25105925e-02, 5.93868260e-01, 9.89775227e-01, 9.99997648e-01,\n",
       "       9.99796354e-01, 9.47366258e-01, 8.24722139e-01, 9.99718174e-01,\n",
       "       7.33178281e-02, 3.41194194e-05, 9.96122677e-01, 9.91534392e-01,\n",
       "       9.72787930e-02, 7.29858045e-05, 9.99980524e-01, 9.66258944e-01])"
      ]
     },
     "execution_count": 247,
     "metadata": {},
     "output_type": "execute_result"
    }
   ],
   "source": [
    "# calculate predicted probabilities for X_test_dtm (well calibrated)\n",
    "y_pred_prob = logreg.predict_proba(polarity_test_dtm)[:, 1]\n",
    "y_pred_prob"
   ]
  },
  {
   "cell_type": "code",
   "execution_count": 58,
   "metadata": {},
   "outputs": [
    {
     "data": {
      "text/plain": [
       "Text(0.5, 1.0, '2-class Precision-Recall curve: AP=0.80')"
      ]
     },
     "execution_count": 58,
     "metadata": {},
     "output_type": "execute_result"
    },
    {
     "data": {
      "image/png": "[encoded data removed]",
      "text/plain": [
       "<Figure size 432x288 with 1 Axes>"
      ]
     },
     "metadata": {
      "needs_background": "light"
     },
     "output_type": "display_data"
    }
   ],
   "source": [
    "# calculate accuracy\n",
    "average_precision = metrics.average_precision_score(polarity_test_Y, y_pred_class)\n",
    "precision, recall, _ = metrics.precision_recall_curve(polarity_test_Y, y_pred_class)\n",
    "from sklearn.metrics import precision_recall_curve\n",
    "import matplotlib.pyplot as plt\n",
    "from sklearn.utils.fixes import signature\n",
    "\n",
    "# In matplotlib < 1.5, plt.fill_between does not have a 'step' argument\n",
    "step_kwargs = ({'step': 'post'}\n",
    "               if 'step' in signature(plt.fill_between).parameters\n",
    "               else {})\n",
    "plt.step(recall, precision, color='b', alpha=0.2,\n",
    "         where='post')\n",
    "plt.fill_between(recall, precision, alpha=0.2, color='b', **step_kwargs)\n",
    "\n",
    "plt.xlabel('Recall')\n",
    "plt.ylabel('Precision')\n",
    "plt.title('2-class Precision-Recall curve: AP={0:0.2f}'.format(\n",
    "          average_precision))"
   ]
  },
  {
   "cell_type": "code",
   "execution_count": 59,
   "metadata": {},
   "outputs": [
    {
     "data": {
      "text/plain": [
       "{'fit_duration': 0.39269512200002055,\n",
       " 'predict_duration': 0.0013861449999978959,\n",
       " 'accuracy': 0.852,\n",
       " 'recall': 0.8549019607843137}"
      ]
     },
     "execution_count": 59,
     "metadata": {},
     "output_type": "execute_result"
    }
   ],
   "source": [
    "compute_model_perf(polarity_mperf_accu_cv,polarity_test_Y, y_pred_class,name,fit_dur,predict_dur)"
   ]
  },
  {
   "cell_type": "code",
   "execution_count": 60,
   "metadata": {
    "scrolled": true
   },
   "outputs": [
    {
     "data": {
      "image/png": "[encoded data removed]",
      "text/plain": [
       "<Figure size 576x432 with 2 Axes>"
      ]
     },
     "metadata": {
      "needs_background": "light"
     },
     "output_type": "display_data"
    }
   ],
   "source": [
    "# print the confusion matrix\n",
    "plot_confusion_matrix(metrics.confusion_matrix(polarity_test_Y, y_pred_class),['good','bad'],name)"
   ]
  },
  {
   "cell_type": "code",
   "execution_count": 61,
   "metadata": {
    "scrolled": true
   },
   "outputs": [
    {
     "data": {
      "text/plain": [
       "0.9332212885154062"
      ]
     },
     "execution_count": 61,
     "metadata": {},
     "output_type": "execute_result"
    }
   ],
   "source": [
    "# calculate AUC\n",
    "metrics.roc_auc_score(polarity_test_Y, y_pred_prob)"
   ]
  },
  {
   "cell_type": "markdown",
   "metadata": {},
   "source": [
    "#### TF-IDF weighting\n",
    "\n",
    "From the [scikit-learn documentation](http://scikit-learn.org/stable/tutorial/text_analytics/working_with_text_data.html):\n",
    "\n",
    "> Occurrence count is a good start but there is an issue: longer documents will have higher average count values than shorter documents, even though they might talk about the same topics.\n",
    "\n",
    "> To avoid these potential discrepancies it suffices to divide the number of occurrences of each word in a document by the total number of words in the document: these new features are called tf for Term Frequencies.\n",
    "\n",
    "> Another refinement on top of tf is to downscale weights for words that occur in many documents in the corpus and are therefore less informative than those that occur only in a smaller portion of the corpus.\n",
    "\n",
    "> This downscaling is called tf–idf for “Term Frequency times Inverse Document Frequency”."
   ]
  },
  {
   "cell_type": "code",
   "execution_count": 62,
   "metadata": {},
   "outputs": [
    {
     "data": {
      "text/plain": [
       "TfidfTransformer(norm='l2', smooth_idf=True, sublinear_tf=False, use_idf=True)"
      ]
     },
     "execution_count": 62,
     "metadata": {},
     "output_type": "execute_result"
    }
   ],
   "source": [
    "### Computing TF-IDF\n",
    "from sklearn.feature_extraction.text import TfidfTransformer\n",
    "tfidf = TfidfTransformer()\n",
    "tfidf.fit(polarity_train_dtm)"
   ]
  },
  {
   "cell_type": "code",
   "execution_count": 63,
   "metadata": {},
   "outputs": [
    {
     "data": {
      "text/plain": [
       "<1500x35363 sparse matrix of type '<class 'numpy.float64'>'\n",
       "\twith 500561 stored elements in Compressed Sparse Row format>"
      ]
     },
     "execution_count": 63,
     "metadata": {},
     "output_type": "execute_result"
    }
   ],
   "source": [
    "# transform training data into a \"document-term matrix'\n",
    "polarity_IDF_train_dtm = tfidf.transform(polarity_train_dtm)\n",
    "polarity_IDF_train_dtm"
   ]
  },
  {
   "cell_type": "code",
   "execution_count": 64,
   "metadata": {
    "scrolled": true
   },
   "outputs": [
    {
     "data": {
      "text/plain": [
       "<500x35363 sparse matrix of type '<class 'numpy.float64'>'\n",
       "\twith 161480 stored elements in Compressed Sparse Row format>"
      ]
     },
     "execution_count": 64,
     "metadata": {},
     "output_type": "execute_result"
    }
   ],
   "source": [
    "# transform training data into a \"document-term matrix'\n",
    "polarity_IDF_test_dtm = tfidf.transform(polarity_test_dtm)\n",
    "polarity_IDF_test_dtm"
   ]
  },
  {
   "cell_type": "code",
   "execution_count": 65,
   "metadata": {},
   "outputs": [],
   "source": [
    "polarity_mperf_accu_idf = {}"
   ]
  },
  {
   "cell_type": "markdown",
   "metadata": {},
   "source": [
    "#### sklearn - MultinomialNB using TF-IDF"
   ]
  },
  {
   "cell_type": "code",
   "execution_count": 66,
   "metadata": {},
   "outputs": [],
   "source": [
    "# import and instantiate a Multinomial Naive Bayes model\n",
    "from sklearn.naive_bayes import MultinomialNB\n",
    "name = \"MultinomialNB\"\n",
    "nb = MultinomialNB()"
   ]
  },
  {
   "cell_type": "code",
   "execution_count": 67,
   "metadata": {
    "scrolled": true
   },
   "outputs": [
    {
     "name": "stdout",
     "output_type": "stream",
     "text": [
      "8.5 ms ± 0 ns per loop (mean ± std. dev. of 1 run, 1 loop each)\n"
     ]
    }
   ],
   "source": [
    "result = %timeit -r 1 -n 1 -o nb.fit(polarity_IDF_train_dtm, polarity_train_Y)\n",
    "fit_dur=result.average"
   ]
  },
  {
   "cell_type": "code",
   "execution_count": 68,
   "metadata": {},
   "outputs": [
    {
     "name": "stdout",
     "output_type": "stream",
     "text": [
      "2.06 ms ± 0 ns per loop (mean ± std. dev. of 1 run, 1 loop each)\n"
     ]
    }
   ],
   "source": [
    "result = %timeit -r 1 -n 1 -o nb.predict(polarity_IDF_test_dtm)\n",
    "y_pred_class = nb.predict(polarity_IDF_test_dtm)\n",
    "predict_dur=result.average"
   ]
  },
  {
   "cell_type": "code",
   "execution_count": 69,
   "metadata": {},
   "outputs": [
    {
     "data": {
      "text/html": [
       "<div>\n",
       "<style scoped>\n",
       "    .dataframe tbody tr th:only-of-type {\n",
       "        vertical-align: middle;\n",
       "    }\n",
       "\n",
       "    .dataframe tbody tr th {\n",
       "        vertical-align: top;\n",
       "    }\n",
       "\n",
       "    .dataframe thead th {\n",
       "        text-align: right;\n",
       "    }\n",
       "</style>\n",
       "<table border=\"1\" class=\"dataframe\">\n",
       "  <thead>\n",
       "    <tr style=\"text-align: right;\">\n",
       "      <th></th>\n",
       "      <th>0</th>\n",
       "    </tr>\n",
       "  </thead>\n",
       "  <tbody>\n",
       "    <tr>\n",
       "      <th>115</th>\n",
       "      <td>oh god how many john grisham lawyer films we h...</td>\n",
       "    </tr>\n",
       "    <tr>\n",
       "      <th>35</th>\n",
       "      <td>when _star wars_ came out some twenty years ag...</td>\n",
       "    </tr>\n",
       "    <tr>\n",
       "      <th>108</th>\n",
       "      <td>susan granger's review of \" american outlaws \"...</td>\n",
       "    </tr>\n",
       "    <tr>\n",
       "      <th>64</th>\n",
       "      <td>a slight romantic comedy with a feminist bent ...</td>\n",
       "    </tr>\n",
       "    <tr>\n",
       "      <th>20</th>\n",
       "      <td>october sky is a rare oddity in cinema : a sel...</td>\n",
       "    </tr>\n",
       "    <tr>\n",
       "      <th>201</th>\n",
       "      <td>call me crazy , but i don't see saving private...</td>\n",
       "    </tr>\n",
       "    <tr>\n",
       "      <th>118</th>\n",
       "      <td>i want to correct what i wrote last year in my...</td>\n",
       "    </tr>\n",
       "    <tr>\n",
       "      <th>212</th>\n",
       "      <td>lauded as a genius by many , stanley kubrick c...</td>\n",
       "    </tr>\n",
       "    <tr>\n",
       "      <th>43</th>\n",
       "      <td>eric rohmer's \" pauline at the beach , \" is on...</td>\n",
       "    </tr>\n",
       "    <tr>\n",
       "      <th>166</th>\n",
       "      <td>\" the fugitive \" is probably one of the great...</td>\n",
       "    </tr>\n",
       "    <tr>\n",
       "      <th>95</th>\n",
       "      <td>out of sight director steven sorderbergh baffl...</td>\n",
       "    </tr>\n",
       "    <tr>\n",
       "      <th>33</th>\n",
       "      <td>it's probably inevitable that the popular virt...</td>\n",
       "    </tr>\n",
       "    <tr>\n",
       "      <th>89</th>\n",
       "      <td>ingredients : james bond , scuba scene , car c...</td>\n",
       "    </tr>\n",
       "    <tr>\n",
       "      <th>65</th>\n",
       "      <td>there are certain people in the world who have...</td>\n",
       "    </tr>\n",
       "    <tr>\n",
       "      <th>168</th>\n",
       "      <td>scream 2 isn't quite as clever as its predeces...</td>\n",
       "    </tr>\n",
       "    <tr>\n",
       "      <th>104</th>\n",
       "      <td>eight years after its release , disney has dec...</td>\n",
       "    </tr>\n",
       "    <tr>\n",
       "      <th>186</th>\n",
       "      <td>`run lola run' , a german import that gained a...</td>\n",
       "    </tr>\n",
       "    <tr>\n",
       "      <th>50</th>\n",
       "      <td>men in black is an explosive mix of science fi...</td>\n",
       "    </tr>\n",
       "    <tr>\n",
       "      <th>151</th>\n",
       "      <td>it is simply amazing how \" the green mile \" de...</td>\n",
       "    </tr>\n",
       "    <tr>\n",
       "      <th>70</th>\n",
       "      <td>i'll be the first to admit i didn't expect muc...</td>\n",
       "    </tr>\n",
       "  </tbody>\n",
       "</table>\n",
       "</div>"
      ],
      "text/plain": [
       "                                                     0\n",
       "115  oh god how many john grisham lawyer films we h...\n",
       "35   when _star wars_ came out some twenty years ag...\n",
       "108  susan granger's review of \" american outlaws \"...\n",
       "64   a slight romantic comedy with a feminist bent ...\n",
       "20   october sky is a rare oddity in cinema : a sel...\n",
       "201  call me crazy , but i don't see saving private...\n",
       "118  i want to correct what i wrote last year in my...\n",
       "212  lauded as a genius by many , stanley kubrick c...\n",
       "43   eric rohmer's \" pauline at the beach , \" is on...\n",
       "166   \" the fugitive \" is probably one of the great...\n",
       "95   out of sight director steven sorderbergh baffl...\n",
       "33   it's probably inevitable that the popular virt...\n",
       "89   ingredients : james bond , scuba scene , car c...\n",
       "65   there are certain people in the world who have...\n",
       "168  scream 2 isn't quite as clever as its predeces...\n",
       "104  eight years after its release , disney has dec...\n",
       "186  `run lola run' , a german import that gained a...\n",
       "50   men in black is an explosive mix of science fi...\n",
       "151  it is simply amazing how \" the green mile \" de...\n",
       "70   i'll be the first to admit i didn't expect muc..."
      ]
     },
     "execution_count": 69,
     "metadata": {},
     "output_type": "execute_result"
    }
   ],
   "source": [
    "# some film predicted as good\n",
    "pd.DataFrame(polarity_test_X[y_pred_class==1]).sample(20)"
   ]
  },
  {
   "cell_type": "code",
   "execution_count": 70,
   "metadata": {
    "scrolled": true
   },
   "outputs": [
    {
     "data": {
      "text/plain": [
       "{'fit_duration': 0.008504790999978695,\n",
       " 'predict_duration': 0.0020582310000065718,\n",
       " 'accuracy': 0.804,\n",
       " 'recall': 0.7294117647058823}"
      ]
     },
     "execution_count": 70,
     "metadata": {},
     "output_type": "execute_result"
    }
   ],
   "source": [
    "compute_model_perf(polarity_mperf_accu_idf,polarity_test_Y, y_pred_class,name,fit_dur,predict_dur)"
   ]
  },
  {
   "cell_type": "code",
   "execution_count": 71,
   "metadata": {
    "scrolled": false
   },
   "outputs": [
    {
     "data": {
      "image/png": "[encoded data removed]",
      "text/plain": [
       "<Figure size 576x432 with 2 Axes>"
      ]
     },
     "metadata": {
      "needs_background": "light"
     },
     "output_type": "display_data"
    }
   ],
   "source": [
    "# print the confusion matrix\n",
    "plot_confusion_matrix(metrics.confusion_matrix(polarity_test_Y, y_pred_class),['good','bad'],name)"
   ]
  },
  {
   "cell_type": "markdown",
   "metadata": {},
   "source": [
    "#### sklearn - Perceptron using TF-IDF"
   ]
  },
  {
   "cell_type": "code",
   "execution_count": 72,
   "metadata": {},
   "outputs": [],
   "source": [
    "from sklearn.linear_model import Perceptron\n",
    "name = \"Perceptron\"\n",
    "nb = Perceptron(tol=1e-3)"
   ]
  },
  {
   "cell_type": "code",
   "execution_count": 73,
   "metadata": {
    "scrolled": false
   },
   "outputs": [
    {
     "name": "stdout",
     "output_type": "stream",
     "text": [
      "17.2 ms ± 0 ns per loop (mean ± std. dev. of 1 run, 1 loop each)\n"
     ]
    }
   ],
   "source": [
    "result = %timeit -r 1 -n 1 -o nb.fit(polarity_IDF_train_dtm, polarity_train_Y)\n",
    "fit_dur=result.average"
   ]
  },
  {
   "cell_type": "code",
   "execution_count": 74,
   "metadata": {},
   "outputs": [
    {
     "name": "stdout",
     "output_type": "stream",
     "text": [
      "1.18 ms ± 0 ns per loop (mean ± std. dev. of 1 run, 1 loop each)\n"
     ]
    }
   ],
   "source": [
    "result = %timeit -r 1 -n 1 -o nb.predict(polarity_test_dtm)\n",
    "y_pred_class = nb.predict(polarity_IDF_test_dtm)\n",
    "predict_dur=result.average"
   ]
  },
  {
   "cell_type": "code",
   "execution_count": 75,
   "metadata": {},
   "outputs": [
    {
     "data": {
      "text/plain": [
       "{'fit_duration': 0.017206987000008667,\n",
       " 'predict_duration': 0.001181029999997918,\n",
       " 'accuracy': 0.85,\n",
       " 'recall': 0.8705882352941177}"
      ]
     },
     "execution_count": 75,
     "metadata": {},
     "output_type": "execute_result"
    }
   ],
   "source": [
    "compute_model_perf(polarity_mperf_accu_idf,polarity_test_Y, y_pred_class,name,fit_dur,predict_dur)"
   ]
  },
  {
   "cell_type": "code",
   "execution_count": 76,
   "metadata": {
    "scrolled": false
   },
   "outputs": [
    {
     "data": {
      "image/png": "[encoded data removed]",
      "text/plain": [
       "<Figure size 576x432 with 2 Axes>"
      ]
     },
     "metadata": {
      "needs_background": "light"
     },
     "output_type": "display_data"
    }
   ],
   "source": [
    "# print the confusion matrix\n",
    "plot_confusion_matrix(metrics.confusion_matrix(polarity_test_Y, y_pred_class),['good','bad'],name)"
   ]
  },
  {
   "cell_type": "markdown",
   "metadata": {},
   "source": [
    "#### sklearn - Random Forest using TF-IDF"
   ]
  },
  {
   "cell_type": "code",
   "execution_count": 77,
   "metadata": {},
   "outputs": [],
   "source": [
    "from sklearn.ensemble import RandomForestClassifier\n",
    "name = \"RandomForestClassifier\"\n",
    "nb = RandomForestClassifier(max_depth=20, n_estimators=20, max_features=\"auto\")"
   ]
  },
  {
   "cell_type": "code",
   "execution_count": 78,
   "metadata": {
    "scrolled": false
   },
   "outputs": [
    {
     "name": "stdout",
     "output_type": "stream",
     "text": [
      "163 ms ± 0 ns per loop (mean ± std. dev. of 1 run, 1 loop each)\n"
     ]
    }
   ],
   "source": [
    "result = %timeit -r 1 -n 1 -o nb.fit(polarity_IDF_train_dtm, polarity_train_Y)\n",
    "fit_dur=result.average"
   ]
  },
  {
   "cell_type": "code",
   "execution_count": 79,
   "metadata": {},
   "outputs": [
    {
     "name": "stdout",
     "output_type": "stream",
     "text": [
      "23 ms ± 0 ns per loop (mean ± std. dev. of 1 run, 1 loop each)\n"
     ]
    }
   ],
   "source": [
    "result = %timeit -r 1 -n 1 -o nb.predict(polarity_IDF_test_dtm)\n",
    "y_pred_class = nb.predict(polarity_IDF_test_dtm)\n",
    "predict_dur=result.average"
   ]
  },
  {
   "cell_type": "code",
   "execution_count": 80,
   "metadata": {},
   "outputs": [
    {
     "data": {
      "text/plain": [
       "{'fit_duration': 0.16251366700001313,\n",
       " 'predict_duration': 0.023040685000012218,\n",
       " 'accuracy': 0.71,\n",
       " 'recall': 0.6588235294117647}"
      ]
     },
     "execution_count": 80,
     "metadata": {},
     "output_type": "execute_result"
    }
   ],
   "source": [
    "compute_model_perf(polarity_mperf_accu_idf,polarity_test_Y, y_pred_class,name,fit_dur,predict_dur)"
   ]
  },
  {
   "cell_type": "code",
   "execution_count": 81,
   "metadata": {
    "scrolled": true
   },
   "outputs": [
    {
     "data": {
      "image/png": "[encoded data removed]",
      "text/plain": [
       "<Figure size 576x432 with 2 Axes>"
      ]
     },
     "metadata": {
      "needs_background": "light"
     },
     "output_type": "display_data"
    }
   ],
   "source": [
    "# print the confusion matrix\n",
    "plot_confusion_matrix(metrics.confusion_matrix(polarity_test_Y, y_pred_class),['good','bad'],name)"
   ]
  },
  {
   "cell_type": "markdown",
   "metadata": {},
   "source": [
    "#### sklearn - AdaBoost using TF-IDF"
   ]
  },
  {
   "cell_type": "code",
   "execution_count": 82,
   "metadata": {},
   "outputs": [],
   "source": [
    "from sklearn.ensemble import AdaBoostClassifier\n",
    "name = \"AdaBoostClassifier\"\n",
    "nb = AdaBoostClassifier()"
   ]
  },
  {
   "cell_type": "code",
   "execution_count": 83,
   "metadata": {
    "scrolled": false
   },
   "outputs": [
    {
     "name": "stdout",
     "output_type": "stream",
     "text": [
      "2.57 s ± 0 ns per loop (mean ± std. dev. of 1 run, 1 loop each)\n"
     ]
    }
   ],
   "source": [
    "result = %timeit -r 1 -n 1 -o nb.fit(polarity_IDF_train_dtm, polarity_train_Y)\n",
    "fit_dur=result.average"
   ]
  },
  {
   "cell_type": "code",
   "execution_count": 84,
   "metadata": {},
   "outputs": [
    {
     "name": "stdout",
     "output_type": "stream",
     "text": [
      "46.1 ms ± 0 ns per loop (mean ± std. dev. of 1 run, 1 loop each)\n"
     ]
    }
   ],
   "source": [
    "result = %timeit -r 1 -n 1 -o nb.predict(polarity_IDF_test_dtm)\n",
    "y_pred_class = nb.predict(polarity_IDF_test_dtm)\n",
    "predict_dur=result.average"
   ]
  },
  {
   "cell_type": "code",
   "execution_count": 85,
   "metadata": {},
   "outputs": [
    {
     "data": {
      "text/plain": [
       "{'fit_duration': 2.5700838409999847,\n",
       " 'predict_duration': 0.0460617509999679,\n",
       " 'accuracy': 0.768,\n",
       " 'recall': 0.7607843137254902}"
      ]
     },
     "execution_count": 85,
     "metadata": {},
     "output_type": "execute_result"
    }
   ],
   "source": [
    "compute_model_perf(polarity_mperf_accu_idf,polarity_test_Y, y_pred_class,name,fit_dur,predict_dur)"
   ]
  },
  {
   "cell_type": "code",
   "execution_count": 86,
   "metadata": {
    "scrolled": true
   },
   "outputs": [
    {
     "data": {
      "image/png": "[encoded data removed]",
      "text/plain": [
       "<Figure size 576x432 with 2 Axes>"
      ]
     },
     "metadata": {
      "needs_background": "light"
     },
     "output_type": "display_data"
    }
   ],
   "source": [
    "# print the confusion matrix\n",
    "plot_confusion_matrix(metrics.confusion_matrix(polarity_test_Y, y_pred_class),['good','bad'],name)"
   ]
  },
  {
   "cell_type": "markdown",
   "metadata": {},
   "source": [
    "#### sklearn - Linear SVM using TF-IDF"
   ]
  },
  {
   "cell_type": "code",
   "execution_count": 189,
   "metadata": {},
   "outputs": [],
   "source": [
    "from sklearn.svm import SVC\n",
    "name = \"LinearSVM\"\n",
    "nb = SVC(kernel=\"linear\", C=0.025)"
   ]
  },
  {
   "cell_type": "code",
   "execution_count": 190,
   "metadata": {
    "scrolled": false
   },
   "outputs": [
    {
     "name": "stdout",
     "output_type": "stream",
     "text": [
      "6.32 s ± 0 ns per loop (mean ± std. dev. of 1 run, 1 loop each)\n"
     ]
    }
   ],
   "source": [
    "result = %timeit -r 1 -n 1 -o nb.fit(polarity_IDF_train_dtm, polarity_train_Y)\n",
    "fit_dur=result.average"
   ]
  },
  {
   "cell_type": "code",
   "execution_count": 191,
   "metadata": {},
   "outputs": [
    {
     "name": "stdout",
     "output_type": "stream",
     "text": [
      "2.17 s ± 0 ns per loop (mean ± std. dev. of 1 run, 1 loop each)\n"
     ]
    }
   ],
   "source": [
    "result = %timeit -r 1 -n 1 -o nb.predict(polarity_IDF_test_dtm)\n",
    "y_pred_class = nb.predict(polarity_IDF_test_dtm)\n",
    "predict_dur=result.average"
   ]
  },
  {
   "cell_type": "code",
   "execution_count": 192,
   "metadata": {},
   "outputs": [
    {
     "data": {
      "text/plain": [
       "{'fit_duration': 6.321795851999923,\n",
       " 'predict_duration': 2.171805698999833,\n",
       " 'accuracy': 0.49,\n",
       " 'recall': 0.0}"
      ]
     },
     "execution_count": 192,
     "metadata": {},
     "output_type": "execute_result"
    }
   ],
   "source": [
    "# calculate accuracy of class predictions\n",
    "from sklearn import metrics\n",
    "compute_model_perf(polarity_mperf_accu_idf,polarity_test_Y, y_pred_class,name,fit_dur,predict_dur)"
   ]
  },
  {
   "cell_type": "code",
   "execution_count": 193,
   "metadata": {
    "scrolled": false
   },
   "outputs": [
    {
     "data": {
      "image/png": "[encoded data removed]",
      "text/plain": [
       "<Figure size 576x432 with 2 Axes>"
      ]
     },
     "metadata": {
      "needs_background": "light"
     },
     "output_type": "display_data"
    }
   ],
   "source": [
    "# print the confusion matrix\n",
    "plot_confusion_matrix(metrics.confusion_matrix(polarity_test_Y, y_pred_class),['good','bad'],name)"
   ]
  },
  {
   "cell_type": "markdown",
   "metadata": {},
   "source": [
    "#### sklearn - RBF SVM using TF-IDF"
   ]
  },
  {
   "cell_type": "code",
   "execution_count": 194,
   "metadata": {},
   "outputs": [],
   "source": [
    "from sklearn.svm import SVC\n",
    "name = \"SVM\"\n",
    "nb = SVC(gamma=5, C=3)"
   ]
  },
  {
   "cell_type": "code",
   "execution_count": 195,
   "metadata": {
    "scrolled": false
   },
   "outputs": [
    {
     "name": "stdout",
     "output_type": "stream",
     "text": [
      "6.63 s ± 0 ns per loop (mean ± std. dev. of 1 run, 1 loop each)\n"
     ]
    }
   ],
   "source": [
    "result = %timeit -r 1 -n 1 -o nb.fit(polarity_IDF_train_dtm, polarity_train_Y)\n",
    "fit_dur=result.average"
   ]
  },
  {
   "cell_type": "code",
   "execution_count": 196,
   "metadata": {},
   "outputs": [
    {
     "name": "stdout",
     "output_type": "stream",
     "text": [
      "1.99 s ± 0 ns per loop (mean ± std. dev. of 1 run, 1 loop each)\n"
     ]
    }
   ],
   "source": [
    "result = %timeit -r 1 -n 1 -o nb.predict(polarity_IDF_test_dtm)\n",
    "y_pred_class = nb.predict(polarity_IDF_test_dtm)\n",
    "predict_dur=result.average"
   ]
  },
  {
   "cell_type": "code",
   "execution_count": 197,
   "metadata": {},
   "outputs": [
    {
     "data": {
      "text/plain": [
       "{'fit_duration': 6.6319640330002585,\n",
       " 'predict_duration': 1.986473190000197,\n",
       " 'accuracy': 0.694,\n",
       " 'recall': 0.5372549019607843}"
      ]
     },
     "execution_count": 197,
     "metadata": {},
     "output_type": "execute_result"
    }
   ],
   "source": [
    "# calculate accuracy of class predictions\n",
    "from sklearn import metrics\n",
    "compute_model_perf(polarity_mperf_accu_idf,polarity_test_Y, y_pred_class,name,fit_dur,predict_dur)"
   ]
  },
  {
   "cell_type": "code",
   "execution_count": 198,
   "metadata": {
    "scrolled": false
   },
   "outputs": [
    {
     "data": {
      "image/png": "[encoded data removed]",
      "text/plain": [
       "<Figure size 576x432 with 2 Axes>"
      ]
     },
     "metadata": {
      "needs_background": "light"
     },
     "output_type": "display_data"
    }
   ],
   "source": [
    "# print the confusion matrix\n",
    "plot_confusion_matrix(metrics.confusion_matrix(polarity_test_Y, y_pred_class),['good','bad'],name)"
   ]
  },
  {
   "cell_type": "markdown",
   "metadata": {},
   "source": [
    "#### sklearn - KNN using TF-IDF"
   ]
  },
  {
   "cell_type": "code",
   "execution_count": 97,
   "metadata": {},
   "outputs": [],
   "source": [
    "from sklearn.neighbors import KNeighborsClassifier\n",
    "name = \"KNN\"\n",
    "nb = KNeighborsClassifier(5)"
   ]
  },
  {
   "cell_type": "code",
   "execution_count": 98,
   "metadata": {
    "scrolled": false
   },
   "outputs": [
    {
     "name": "stdout",
     "output_type": "stream",
     "text": [
      "3.97 ms ± 0 ns per loop (mean ± std. dev. of 1 run, 1 loop each)\n"
     ]
    }
   ],
   "source": [
    "result = %timeit -r 1 -n 1 -o nb.fit(polarity_IDF_train_dtm, polarity_train_Y)\n",
    "fit_dur=result.average"
   ]
  },
  {
   "cell_type": "code",
   "execution_count": 99,
   "metadata": {},
   "outputs": [
    {
     "name": "stdout",
     "output_type": "stream",
     "text": [
      "164 ms ± 0 ns per loop (mean ± std. dev. of 1 run, 1 loop each)\n"
     ]
    }
   ],
   "source": [
    "result = %timeit -r 1 -n 1 -o nb.predict(polarity_IDF_test_dtm)\n",
    "y_pred_class = nb.predict(polarity_IDF_test_dtm)\n",
    "predict_dur=result.average"
   ]
  },
  {
   "cell_type": "code",
   "execution_count": 100,
   "metadata": {},
   "outputs": [
    {
     "data": {
      "text/plain": [
       "{'fit_duration': 0.003970332999983839,\n",
       " 'predict_duration': 0.1635458360000257,\n",
       " 'accuracy': 0.584,\n",
       " 'recall': 0.9411764705882353}"
      ]
     },
     "execution_count": 100,
     "metadata": {},
     "output_type": "execute_result"
    }
   ],
   "source": [
    "# calculate accuracy of class predictions\n",
    "from sklearn import metrics\n",
    "compute_model_perf(polarity_mperf_accu_idf,polarity_test_Y, y_pred_class,name,fit_dur,predict_dur)"
   ]
  },
  {
   "cell_type": "code",
   "execution_count": 101,
   "metadata": {
    "scrolled": false
   },
   "outputs": [
    {
     "data": {
      "image/png": "[encoded data removed]",
      "text/plain": [
       "<Figure size 576x432 with 2 Axes>"
      ]
     },
     "metadata": {
      "needs_background": "light"
     },
     "output_type": "display_data"
    }
   ],
   "source": [
    "# print the confusion matrix\n",
    "plot_confusion_matrix(metrics.confusion_matrix(polarity_test_Y, y_pred_class),['good','bad'],name)"
   ]
  },
  {
   "cell_type": "markdown",
   "metadata": {},
   "source": [
    "#### sklearn - NN using TF-IDF"
   ]
  },
  {
   "cell_type": "code",
   "execution_count": 102,
   "metadata": {},
   "outputs": [],
   "source": [
    "from sklearn.neural_network import MLPClassifier\n",
    "name = \"NN\"\n",
    "nb = MLPClassifier(alpha=1)"
   ]
  },
  {
   "cell_type": "code",
   "execution_count": 103,
   "metadata": {
    "scrolled": false
   },
   "outputs": [
    {
     "name": "stdout",
     "output_type": "stream",
     "text": [
      "2min 50s ± 0 ns per loop (mean ± std. dev. of 1 run, 1 loop each)\n"
     ]
    }
   ],
   "source": [
    "result = %timeit -r 1 -n 1 -o nb.fit(polarity_IDF_train_dtm, polarity_train_Y)\n",
    "fit_dur=result.average"
   ]
  },
  {
   "cell_type": "code",
   "execution_count": 104,
   "metadata": {},
   "outputs": [
    {
     "name": "stdout",
     "output_type": "stream",
     "text": [
      "23.8 ms ± 0 ns per loop (mean ± std. dev. of 1 run, 1 loop each)\n"
     ]
    }
   ],
   "source": [
    "result = %timeit -r 1 -n 1 -o nb.predict(polarity_IDF_test_dtm)\n",
    "y_pred_class = nb.predict(polarity_IDF_test_dtm)\n",
    "predict_dur=result.average"
   ]
  },
  {
   "cell_type": "code",
   "execution_count": 105,
   "metadata": {},
   "outputs": [
    {
     "data": {
      "text/plain": [
       "{'fit_duration': 170.64819333400004,\n",
       " 'predict_duration': 0.02379764500000192,\n",
       " 'accuracy': 0.844,\n",
       " 'recall': 0.9137254901960784}"
      ]
     },
     "execution_count": 105,
     "metadata": {},
     "output_type": "execute_result"
    }
   ],
   "source": [
    "# calculate accuracy of class predictions\n",
    "from sklearn import metrics\n",
    "compute_model_perf(polarity_mperf_accu_idf,polarity_test_Y, y_pred_class,name,fit_dur,predict_dur)"
   ]
  },
  {
   "cell_type": "code",
   "execution_count": 106,
   "metadata": {
    "scrolled": true
   },
   "outputs": [
    {
     "data": {
      "image/png": "[encoded data removed]",
      "text/plain": [
       "<Figure size 576x432 with 2 Axes>"
      ]
     },
     "metadata": {
      "needs_background": "light"
     },
     "output_type": "display_data"
    }
   ],
   "source": [
    "# print the confusion matrix\n",
    "plot_confusion_matrix(metrics.confusion_matrix(polarity_test_Y, y_pred_class),['good','bad'],name)"
   ]
  },
  {
   "cell_type": "markdown",
   "metadata": {},
   "source": [
    "####  sklearn Logisitic Regression using TF-IDF"
   ]
  },
  {
   "cell_type": "code",
   "execution_count": 239,
   "metadata": {},
   "outputs": [],
   "source": [
    "# import and instantiate a logistic regression model \n",
    "from sklearn.linear_model import LogisticRegression\n",
    "name = \"LogisticRegression\"\n",
    "logreg = LogisticRegression()"
   ]
  },
  {
   "cell_type": "code",
   "execution_count": 240,
   "metadata": {
    "scrolled": false
   },
   "outputs": [
    {
     "name": "stdout",
     "output_type": "stream",
     "text": [
      "75.6 ms ± 0 ns per loop (mean ± std. dev. of 1 run, 1 loop each)\n"
     ]
    },
    {
     "name": "stderr",
     "output_type": "stream",
     "text": [
      "/usr/lib/python3.7/site-packages/sklearn/linear_model/logistic.py:432: FutureWarning: Default solver will be changed to 'lbfgs' in 0.22. Specify a solver to silence this warning.\n",
      "  FutureWarning)\n"
     ]
    }
   ],
   "source": [
    "result = %timeit -r 1 -n 1 -o logreg.fit(polarity_IDF_train_dtm, polarity_train_Y)\n",
    "fit_dur=result.average"
   ]
  },
  {
   "cell_type": "code",
   "execution_count": 241,
   "metadata": {},
   "outputs": [
    {
     "name": "stdout",
     "output_type": "stream",
     "text": [
      "912 µs ± 0 ns per loop (mean ± std. dev. of 1 run, 1 loop each)\n"
     ]
    }
   ],
   "source": [
    "result = %timeit -r 1 -n 1 -o y_pred_class = logreg.predict(polarity_IDF_test_dtm)\n",
    "predict_dur=result.average"
   ]
  },
  {
   "cell_type": "code",
   "execution_count": 242,
   "metadata": {},
   "outputs": [
    {
     "data": {
      "text/plain": [
       "array([0.64784627, 0.47568784, 0.40027116, 0.44721712, 0.38290936,\n",
       "       0.35141289, 0.70536211, 0.56466361, 0.32218966, 0.61096623,\n",
       "       0.30309784, 0.42377814, 0.51852486, 0.35723469, 0.76344955,\n",
       "       0.42139232, 0.49740505, 0.48134474, 0.6049958 , 0.3466669 ])"
      ]
     },
     "execution_count": 242,
     "metadata": {},
     "output_type": "execute_result"
    }
   ],
   "source": [
    "y_pred_prob = logreg.predict_proba(polarity_IDF_test_dtm)[:, 1]\n",
    "y_pred_prob[:20]"
   ]
  },
  {
   "cell_type": "code",
   "execution_count": 111,
   "metadata": {},
   "outputs": [
    {
     "data": {
      "text/plain": [
       "Text(0.5, 1.0, '2-class Precision-Recall curve: AP=0.78')"
      ]
     },
     "execution_count": 111,
     "metadata": {},
     "output_type": "execute_result"
    },
    {
     "data": {
      "image/png": "[encoded data removed]",
      "text/plain": [
       "<Figure size 432x288 with 1 Axes>"
      ]
     },
     "metadata": {
      "needs_background": "light"
     },
     "output_type": "display_data"
    }
   ],
   "source": [
    "# calculate accuracy\n",
    "average_precision = metrics.average_precision_score(polarity_test_Y, y_pred_class)\n",
    "precision, recall, _ = metrics.precision_recall_curve(polarity_test_Y, y_pred_class)\n",
    "from sklearn.metrics import precision_recall_curve\n",
    "import matplotlib.pyplot as plt\n",
    "from sklearn.utils.fixes import signature\n",
    "\n",
    "# In matplotlib < 1.5, plt.fill_between does not have a 'step' argument\n",
    "step_kwargs = ({'step': 'post'}\n",
    "               if 'step' in signature(plt.fill_between).parameters\n",
    "               else {})\n",
    "plt.step(recall, precision, color='b', alpha=0.2,\n",
    "         where='post')\n",
    "plt.fill_between(recall, precision, alpha=0.2, color='b', **step_kwargs)\n",
    "\n",
    "plt.xlabel('Recall')\n",
    "plt.ylabel('Precision')\n",
    "plt.title('2-class Precision-Recall curve: AP={0:0.2f}'.format(\n",
    "          average_precision))"
   ]
  },
  {
   "cell_type": "code",
   "execution_count": 112,
   "metadata": {},
   "outputs": [
    {
     "data": {
      "text/plain": [
       "{'fit_duration': 0.06570529499998656,\n",
       " 'predict_duration': 0.0011588059999780853,\n",
       " 'accuracy': 0.844,\n",
       " 'recall': 0.9137254901960784}"
      ]
     },
     "execution_count": 112,
     "metadata": {},
     "output_type": "execute_result"
    }
   ],
   "source": [
    "compute_model_perf(polarity_mperf_accu_idf,polarity_test_Y, y_pred_class,name,fit_dur,predict_dur)"
   ]
  },
  {
   "cell_type": "code",
   "execution_count": 113,
   "metadata": {
    "scrolled": true
   },
   "outputs": [
    {
     "data": {
      "image/png": "[encoded data removed]",
      "text/plain": [
       "<Figure size 576x432 with 2 Axes>"
      ]
     },
     "metadata": {
      "needs_background": "light"
     },
     "output_type": "display_data"
    }
   ],
   "source": [
    "# print the confusion matrix\n",
    "plot_confusion_matrix(metrics.confusion_matrix(polarity_test_Y, y_pred_class),['good','bad'],name)"
   ]
  },
  {
   "cell_type": "code",
   "execution_count": 114,
   "metadata": {
    "scrolled": true
   },
   "outputs": [
    {
     "data": {
      "text/plain": [
       "0.9077871148459384"
      ]
     },
     "execution_count": 114,
     "metadata": {},
     "output_type": "execute_result"
    }
   ],
   "source": [
    "# calculate AUC\n",
    "metrics.roc_auc_score(polarity_test_Y, y_pred_prob)"
   ]
  },
  {
   "cell_type": "markdown",
   "metadata": {},
   "source": [
    "#### Lexicon Normalization\n",
    "##### Stemming (\"racinisation\")\n",
    "Stemming is the process for reducing inflected (or sometimes derived) words to their stem, base or root form—generally a written word form. "
   ]
  },
  {
   "cell_type": "markdown",
   "metadata": {},
   "source": [
    "##### Lemmatizing\n",
    "Lemmatization reduces words to their base word, which is linguistically correct lemmas (canonical form for unit of meaning)."
   ]
  },
  {
   "cell_type": "markdown",
   "metadata": {},
   "source": [
    "##### POS (Part of speech) tagging"
   ]
  },
  {
   "cell_type": "markdown",
   "metadata": {},
   "source": [
    "#### Now using pipelines to combine methods\n",
    "\n",
    "> In order to make the vectorizer => transformer => classifier easier to work with, scikit-learn provides a Pipeline class that behaves like a compound classifier:"
   ]
  },
  {
   "cell_type": "code",
   "execution_count": 187,
   "metadata": {},
   "outputs": [
    {
     "data": {
      "text/html": [
       "<div>\n",
       "<style scoped>\n",
       "    .dataframe tbody tr th:only-of-type {\n",
       "        vertical-align: middle;\n",
       "    }\n",
       "\n",
       "    .dataframe tbody tr th {\n",
       "        vertical-align: top;\n",
       "    }\n",
       "\n",
       "    .dataframe thead th {\n",
       "        text-align: right;\n",
       "    }\n",
       "</style>\n",
       "<table border=\"1\" class=\"dataframe\">\n",
       "  <thead>\n",
       "    <tr style=\"text-align: right;\">\n",
       "      <th></th>\n",
       "      <th>MultinomialNB</th>\n",
       "      <th>Perceptron</th>\n",
       "      <th>RandomForestClassifier</th>\n",
       "      <th>AdaBoostClassifier</th>\n",
       "      <th>LinearSVM</th>\n",
       "      <th>SVM</th>\n",
       "      <th>KNN</th>\n",
       "      <th>NN</th>\n",
       "      <th>LogisticRegression</th>\n",
       "    </tr>\n",
       "  </thead>\n",
       "  <tbody>\n",
       "    <tr>\n",
       "      <th>accuracy</th>\n",
       "      <td>0.810000</td>\n",
       "      <td>0.832000</td>\n",
       "      <td>0.754000</td>\n",
       "      <td>0.782000</td>\n",
       "      <td>0.844000</td>\n",
       "      <td>0.490000</td>\n",
       "      <td>0.630000</td>\n",
       "      <td>0.852000</td>\n",
       "      <td>0.852000</td>\n",
       "    </tr>\n",
       "    <tr>\n",
       "      <th>fit_duration</th>\n",
       "      <td>0.007883</td>\n",
       "      <td>0.029966</td>\n",
       "      <td>0.132379</td>\n",
       "      <td>1.142169</td>\n",
       "      <td>5.090613</td>\n",
       "      <td>6.070232</td>\n",
       "      <td>0.002836</td>\n",
       "      <td>83.044325</td>\n",
       "      <td>0.392695</td>\n",
       "    </tr>\n",
       "    <tr>\n",
       "      <th>predict_duration</th>\n",
       "      <td>0.001783</td>\n",
       "      <td>0.001245</td>\n",
       "      <td>0.018702</td>\n",
       "      <td>0.044731</td>\n",
       "      <td>1.155148</td>\n",
       "      <td>1.964415</td>\n",
       "      <td>0.193663</td>\n",
       "      <td>0.020705</td>\n",
       "      <td>0.001386</td>\n",
       "    </tr>\n",
       "    <tr>\n",
       "      <th>recall</th>\n",
       "      <td>0.796078</td>\n",
       "      <td>0.937255</td>\n",
       "      <td>0.717647</td>\n",
       "      <td>0.792157</td>\n",
       "      <td>0.827451</td>\n",
       "      <td>0.000000</td>\n",
       "      <td>0.611765</td>\n",
       "      <td>0.854902</td>\n",
       "      <td>0.854902</td>\n",
       "    </tr>\n",
       "  </tbody>\n",
       "</table>\n",
       "</div>"
      ],
      "text/plain": [
       "                  MultinomialNB  Perceptron  RandomForestClassifier  \\\n",
       "accuracy               0.810000    0.832000                0.754000   \n",
       "fit_duration           0.007883    0.029966                0.132379   \n",
       "predict_duration       0.001783    0.001245                0.018702   \n",
       "recall                 0.796078    0.937255                0.717647   \n",
       "\n",
       "                  AdaBoostClassifier  LinearSVM       SVM       KNN  \\\n",
       "accuracy                    0.782000   0.844000  0.490000  0.630000   \n",
       "fit_duration                1.142169   5.090613  6.070232  0.002836   \n",
       "predict_duration            0.044731   1.155148  1.964415  0.193663   \n",
       "recall                      0.792157   0.827451  0.000000  0.611765   \n",
       "\n",
       "                         NN  LogisticRegression  \n",
       "accuracy           0.852000            0.852000  \n",
       "fit_duration      83.044325            0.392695  \n",
       "predict_duration   0.020705            0.001386  \n",
       "recall             0.854902            0.854902  "
      ]
     },
     "execution_count": 187,
     "metadata": {},
     "output_type": "execute_result"
    },
    {
     "data": {
      "image/png": "[encoded data removed]",
      "text/plain": [
       "<Figure size 1440x576 with 1 Axes>"
      ]
     },
     "metadata": {
      "needs_background": "light"
     },
     "output_type": "display_data"
    },
    {
     "data": {
      "image/png": "[encoded data removed]",
      "text/plain": [
       "<Figure size 1440x576 with 1 Axes>"
      ]
     },
     "metadata": {
      "needs_background": "light"
     },
     "output_type": "display_data"
    }
   ],
   "source": [
    "df = pd.DataFrame(polarity_mperf_accu_cv)\n",
    "#df[\"type\"]=df.index\n",
    "#df.melt(id_vars=\"type\")\n",
    "df.T[['accuracy', 'recall']].plot.barh(rot=0,figsize=(20,8),fontsize=20, width=0.9,logx=False)\n",
    "df.T[['fit_duration', 'predict_duration']].plot.barh(rot=0,figsize=(20,8),fontsize=20, width=0.9,logx=False)\n",
    "df"
   ]
  },
  {
   "cell_type": "code",
   "execution_count": 185,
   "metadata": {},
   "outputs": [
    {
     "data": {
      "text/html": [
       "<div>\n",
       "<style scoped>\n",
       "    .dataframe tbody tr th:only-of-type {\n",
       "        vertical-align: middle;\n",
       "    }\n",
       "\n",
       "    .dataframe tbody tr th {\n",
       "        vertical-align: top;\n",
       "    }\n",
       "\n",
       "    .dataframe thead th {\n",
       "        text-align: right;\n",
       "    }\n",
       "</style>\n",
       "<table border=\"1\" class=\"dataframe\">\n",
       "  <thead>\n",
       "    <tr style=\"text-align: right;\">\n",
       "      <th></th>\n",
       "      <th>MultinomialNB</th>\n",
       "      <th>Perceptron</th>\n",
       "      <th>RandomForestClassifier</th>\n",
       "      <th>AdaBoostClassifier</th>\n",
       "      <th>LinearSVM</th>\n",
       "      <th>SVM</th>\n",
       "      <th>KNN</th>\n",
       "      <th>NN</th>\n",
       "      <th>LogisticRegression</th>\n",
       "    </tr>\n",
       "  </thead>\n",
       "  <tbody>\n",
       "    <tr>\n",
       "      <th>accuracy</th>\n",
       "      <td>0.804000</td>\n",
       "      <td>0.850000</td>\n",
       "      <td>0.710000</td>\n",
       "      <td>0.768000</td>\n",
       "      <td>0.490000</td>\n",
       "      <td>0.694000</td>\n",
       "      <td>0.584000</td>\n",
       "      <td>0.844000</td>\n",
       "      <td>0.844000</td>\n",
       "    </tr>\n",
       "    <tr>\n",
       "      <th>fit_duration</th>\n",
       "      <td>0.008505</td>\n",
       "      <td>0.017207</td>\n",
       "      <td>0.162514</td>\n",
       "      <td>2.570084</td>\n",
       "      <td>6.174848</td>\n",
       "      <td>6.130353</td>\n",
       "      <td>0.003970</td>\n",
       "      <td>170.648193</td>\n",
       "      <td>0.065705</td>\n",
       "    </tr>\n",
       "    <tr>\n",
       "      <th>predict_duration</th>\n",
       "      <td>0.002058</td>\n",
       "      <td>0.001181</td>\n",
       "      <td>0.023041</td>\n",
       "      <td>0.046062</td>\n",
       "      <td>2.034849</td>\n",
       "      <td>1.958369</td>\n",
       "      <td>0.163546</td>\n",
       "      <td>0.023798</td>\n",
       "      <td>0.001159</td>\n",
       "    </tr>\n",
       "    <tr>\n",
       "      <th>recall</th>\n",
       "      <td>0.729412</td>\n",
       "      <td>0.870588</td>\n",
       "      <td>0.658824</td>\n",
       "      <td>0.760784</td>\n",
       "      <td>0.000000</td>\n",
       "      <td>0.537255</td>\n",
       "      <td>0.941176</td>\n",
       "      <td>0.913725</td>\n",
       "      <td>0.913725</td>\n",
       "    </tr>\n",
       "  </tbody>\n",
       "</table>\n",
       "</div>"
      ],
      "text/plain": [
       "                  MultinomialNB  Perceptron  RandomForestClassifier  \\\n",
       "accuracy               0.804000    0.850000                0.710000   \n",
       "fit_duration           0.008505    0.017207                0.162514   \n",
       "predict_duration       0.002058    0.001181                0.023041   \n",
       "recall                 0.729412    0.870588                0.658824   \n",
       "\n",
       "                  AdaBoostClassifier  LinearSVM       SVM       KNN  \\\n",
       "accuracy                    0.768000   0.490000  0.694000  0.584000   \n",
       "fit_duration                2.570084   6.174848  6.130353  0.003970   \n",
       "predict_duration            0.046062   2.034849  1.958369  0.163546   \n",
       "recall                      0.760784   0.000000  0.537255  0.941176   \n",
       "\n",
       "                          NN  LogisticRegression  \n",
       "accuracy            0.844000            0.844000  \n",
       "fit_duration      170.648193            0.065705  \n",
       "predict_duration    0.023798            0.001159  \n",
       "recall              0.913725            0.913725  "
      ]
     },
     "execution_count": 185,
     "metadata": {},
     "output_type": "execute_result"
    },
    {
     "data": {
      "image/png": "[encoded data removed]",
      "text/plain": [
       "<Figure size 1440x576 with 1 Axes>"
      ]
     },
     "metadata": {
      "needs_background": "light"
     },
     "output_type": "display_data"
    },
    {
     "data": {
      "image/png": "[encoded data removed]",
      "text/plain": [
       "<Figure size 1440x576 with 1 Axes>"
      ]
     },
     "metadata": {
      "needs_background": "light"
     },
     "output_type": "display_data"
    }
   ],
   "source": [
    "df1 = pd.DataFrame(polarity_mperf_accu_idf)\n",
    "#df[\"type\"]=df.index\n",
    "#df.melt(id_vars=\"type\")\n",
    "df1.T[['accuracy', 'recall']].plot.barh(rot=0,figsize=(20,8),fontsize=20, width=0.9,logx=False)\n",
    "df1.T[['fit_duration', 'predict_duration']].plot.barh(rot=0,figsize=(20,8),fontsize=20, width=0.9,logx=False)\n",
    "df1"
   ]
  },
  {
   "cell_type": "code",
   "execution_count": 188,
   "metadata": {},
   "outputs": [
    {
     "data": {
      "text/html": [
       "<div>\n",
       "<style scoped>\n",
       "    .dataframe tbody tr th:only-of-type {\n",
       "        vertical-align: middle;\n",
       "    }\n",
       "\n",
       "    .dataframe tbody tr th {\n",
       "        vertical-align: top;\n",
       "    }\n",
       "\n",
       "    .dataframe thead th {\n",
       "        text-align: right;\n",
       "    }\n",
       "</style>\n",
       "<table border=\"1\" class=\"dataframe\">\n",
       "  <thead>\n",
       "    <tr style=\"text-align: right;\">\n",
       "      <th></th>\n",
       "      <th>MultinomialNB</th>\n",
       "      <th>Perceptron</th>\n",
       "      <th>RandomForestClassifier</th>\n",
       "      <th>AdaBoostClassifier</th>\n",
       "      <th>LinearSVM</th>\n",
       "      <th>SVM</th>\n",
       "      <th>KNN</th>\n",
       "      <th>NN</th>\n",
       "      <th>LogisticRegression</th>\n",
       "    </tr>\n",
       "  </thead>\n",
       "  <tbody>\n",
       "    <tr>\n",
       "      <th>accuracy</th>\n",
       "      <td>0.006000</td>\n",
       "      <td>-0.018000</td>\n",
       "      <td>0.044000</td>\n",
       "      <td>0.014000</td>\n",
       "      <td>0.354000</td>\n",
       "      <td>-0.204000</td>\n",
       "      <td>0.046000</td>\n",
       "      <td>0.008000</td>\n",
       "      <td>0.008000</td>\n",
       "    </tr>\n",
       "    <tr>\n",
       "      <th>fit_duration</th>\n",
       "      <td>-0.000621</td>\n",
       "      <td>0.012759</td>\n",
       "      <td>-0.030134</td>\n",
       "      <td>-1.427914</td>\n",
       "      <td>-1.084236</td>\n",
       "      <td>-0.060121</td>\n",
       "      <td>-0.001135</td>\n",
       "      <td>-87.603869</td>\n",
       "      <td>0.326990</td>\n",
       "    </tr>\n",
       "    <tr>\n",
       "      <th>predict_duration</th>\n",
       "      <td>-0.000275</td>\n",
       "      <td>0.000064</td>\n",
       "      <td>-0.004339</td>\n",
       "      <td>-0.001330</td>\n",
       "      <td>-0.879701</td>\n",
       "      <td>0.006046</td>\n",
       "      <td>0.030117</td>\n",
       "      <td>-0.003093</td>\n",
       "      <td>0.000227</td>\n",
       "    </tr>\n",
       "    <tr>\n",
       "      <th>recall</th>\n",
       "      <td>0.066667</td>\n",
       "      <td>0.066667</td>\n",
       "      <td>0.058824</td>\n",
       "      <td>0.031373</td>\n",
       "      <td>0.827451</td>\n",
       "      <td>-0.537255</td>\n",
       "      <td>-0.329412</td>\n",
       "      <td>-0.058824</td>\n",
       "      <td>-0.058824</td>\n",
       "    </tr>\n",
       "  </tbody>\n",
       "</table>\n",
       "</div>"
      ],
      "text/plain": [
       "                  MultinomialNB  Perceptron  RandomForestClassifier  \\\n",
       "accuracy               0.006000   -0.018000                0.044000   \n",
       "fit_duration          -0.000621    0.012759               -0.030134   \n",
       "predict_duration      -0.000275    0.000064               -0.004339   \n",
       "recall                 0.066667    0.066667                0.058824   \n",
       "\n",
       "                  AdaBoostClassifier  LinearSVM       SVM       KNN  \\\n",
       "accuracy                    0.014000   0.354000 -0.204000  0.046000   \n",
       "fit_duration               -1.427914  -1.084236 -0.060121 -0.001135   \n",
       "predict_duration           -0.001330  -0.879701  0.006046  0.030117   \n",
       "recall                      0.031373   0.827451 -0.537255 -0.329412   \n",
       "\n",
       "                         NN  LogisticRegression  \n",
       "accuracy           0.008000            0.008000  \n",
       "fit_duration     -87.603869            0.326990  \n",
       "predict_duration  -0.003093            0.000227  \n",
       "recall            -0.058824           -0.058824  "
      ]
     },
     "execution_count": 188,
     "metadata": {},
     "output_type": "execute_result"
    },
    {
     "data": {
      "image/png": "[encoded data removed]",
      "text/plain": [
       "<Figure size 1440x576 with 1 Axes>"
      ]
     },
     "metadata": {
      "needs_background": "light"
     },
     "output_type": "display_data"
    },
    {
     "data": {
      "image/png": "[encoded data removed]",
      "text/plain": [
       "<Figure size 1440x576 with 1 Axes>"
      ]
     },
     "metadata": {
      "needs_background": "light"
     },
     "output_type": "display_data"
    }
   ],
   "source": [
    "df2 = pd.DataFrame({k:v for k,v in polarity_mperf_accu_cv.items() if k in polarity_mperf_accu_idf.keys()}) - pd.DataFrame(polarity_mperf_accu_idf)\n",
    "#df[\"type\"]=df.index\n",
    "#df.melt(id_vars=\"type\")\n",
    "df2.T[['accuracy', 'recall']].plot.barh(rot=0,figsize=(20,8),fontsize=20, width=0.9,logx=False)\n",
    "df2.T[['fit_duration', 'predict_duration']].plot.barh(rot=0,figsize=(20,8),fontsize=20, width=0.9,logx=False)\n",
    "df2"
   ]
  },
  {
   "cell_type": "markdown",
   "metadata": {},
   "source": [
    "### acl Imdb\n",
    "\n",
    "+ train/test\n",
    "+ \\[id\\]_\\[rating\\].txt with id the id of the film and rating the rating given by this review\n",
    "\n",
    "review -> positive/negative rating"
   ]
  },
  {
   "cell_type": "code",
   "execution_count": 117,
   "metadata": {},
   "outputs": [
    {
     "name": "stdout",
     "output_type": "stream",
     "text": [
      "number of positives:  12500\n",
      "number of negatives:  12500\n",
      "number of positives in test:  12500\n",
      "number of negatives in test:  12500\n"
     ]
    }
   ],
   "source": [
    "from glob import glob\n",
    "acl_files_train_pos = glob(\"data/aclImdb_v1/aclImdb/train/pos/*\")\n",
    "acl_files_train_neg = glob(\"data/aclImdb_v1/aclImdb/train/neg/*\")\n",
    "print(\"number of positives: \", len(acl_files_train_pos))\n",
    "print(\"number of negatives: \", len(acl_files_train_neg))\n",
    "acl_files_test_pos = glob(\"data/aclImdb_v1/aclImdb/test/pos/*\")\n",
    "acl_files_test_neg = glob(\"data/aclImdb_v1/aclImdb/test/neg/*\")\n",
    "print(\"number of positives in test: \", len(acl_files_test_pos))\n",
    "print(\"number of negatives in test: \", len(acl_files_test_neg))\n",
    "acl_files_pos = acl_files_train_pos + acl_files_test_pos\n",
    "acl_files_neg = acl_files_train_neg + acl_files_test_neg"
   ]
  },
  {
   "cell_type": "code",
   "execution_count": 118,
   "metadata": {},
   "outputs": [
    {
     "data": {
      "text/html": [
       "<div>\n",
       "<style scoped>\n",
       "    .dataframe tbody tr th:only-of-type {\n",
       "        vertical-align: middle;\n",
       "    }\n",
       "\n",
       "    .dataframe tbody tr th {\n",
       "        vertical-align: top;\n",
       "    }\n",
       "\n",
       "    .dataframe thead th {\n",
       "        text-align: right;\n",
       "    }\n",
       "</style>\n",
       "<table border=\"1\" class=\"dataframe\">\n",
       "  <thead>\n",
       "    <tr style=\"text-align: right;\">\n",
       "      <th></th>\n",
       "      <th>label</th>\n",
       "      <th>file</th>\n",
       "      <th>label_num</th>\n",
       "    </tr>\n",
       "  </thead>\n",
       "  <tbody>\n",
       "    <tr>\n",
       "      <th>35403</th>\n",
       "      <td>neg</td>\n",
       "      <td>data/aclImdb_v1/aclImdb/train/neg/1032_1.txt</td>\n",
       "      <td>0</td>\n",
       "    </tr>\n",
       "    <tr>\n",
       "      <th>5161</th>\n",
       "      <td>pos</td>\n",
       "      <td>data/aclImdb_v1/aclImdb/train/pos/4847_9.txt</td>\n",
       "      <td>1</td>\n",
       "    </tr>\n",
       "    <tr>\n",
       "      <th>41257</th>\n",
       "      <td>neg</td>\n",
       "      <td>data/aclImdb_v1/aclImdb/test/neg/3440_2.txt</td>\n",
       "      <td>0</td>\n",
       "    </tr>\n",
       "    <tr>\n",
       "      <th>3427</th>\n",
       "      <td>pos</td>\n",
       "      <td>data/aclImdb_v1/aclImdb/train/pos/3030_9.txt</td>\n",
       "      <td>1</td>\n",
       "    </tr>\n",
       "    <tr>\n",
       "      <th>19871</th>\n",
       "      <td>pos</td>\n",
       "      <td>data/aclImdb_v1/aclImdb/test/pos/70_8.txt</td>\n",
       "      <td>1</td>\n",
       "    </tr>\n",
       "    <tr>\n",
       "      <th>45801</th>\n",
       "      <td>neg</td>\n",
       "      <td>data/aclImdb_v1/aclImdb/test/neg/8161_3.txt</td>\n",
       "      <td>0</td>\n",
       "    </tr>\n",
       "    <tr>\n",
       "      <th>42150</th>\n",
       "      <td>neg</td>\n",
       "      <td>data/aclImdb_v1/aclImdb/test/neg/4309_3.txt</td>\n",
       "      <td>0</td>\n",
       "    </tr>\n",
       "    <tr>\n",
       "      <th>8033</th>\n",
       "      <td>pos</td>\n",
       "      <td>data/aclImdb_v1/aclImdb/train/pos/7935_8.txt</td>\n",
       "      <td>1</td>\n",
       "    </tr>\n",
       "    <tr>\n",
       "      <th>12247</th>\n",
       "      <td>pos</td>\n",
       "      <td>data/aclImdb_v1/aclImdb/train/pos/12257_8.txt</td>\n",
       "      <td>1</td>\n",
       "    </tr>\n",
       "    <tr>\n",
       "      <th>22460</th>\n",
       "      <td>pos</td>\n",
       "      <td>data/aclImdb_v1/aclImdb/test/pos/9984_9.txt</td>\n",
       "      <td>1</td>\n",
       "    </tr>\n",
       "  </tbody>\n",
       "</table>\n",
       "</div>"
      ],
      "text/plain": [
       "      label                                           file  label_num\n",
       "35403   neg   data/aclImdb_v1/aclImdb/train/neg/1032_1.txt          0\n",
       "5161    pos   data/aclImdb_v1/aclImdb/train/pos/4847_9.txt          1\n",
       "41257   neg    data/aclImdb_v1/aclImdb/test/neg/3440_2.txt          0\n",
       "3427    pos   data/aclImdb_v1/aclImdb/train/pos/3030_9.txt          1\n",
       "19871   pos      data/aclImdb_v1/aclImdb/test/pos/70_8.txt          1\n",
       "45801   neg    data/aclImdb_v1/aclImdb/test/neg/8161_3.txt          0\n",
       "42150   neg    data/aclImdb_v1/aclImdb/test/neg/4309_3.txt          0\n",
       "8033    pos   data/aclImdb_v1/aclImdb/train/pos/7935_8.txt          1\n",
       "12247   pos  data/aclImdb_v1/aclImdb/train/pos/12257_8.txt          1\n",
       "22460   pos    data/aclImdb_v1/aclImdb/test/pos/9984_9.txt          1"
      ]
     },
     "execution_count": 118,
     "metadata": {},
     "output_type": "execute_result"
    }
   ],
   "source": [
    "import pandas as pd\n",
    "acl_files_df = pd.DataFrame({'pos':acl_files_pos,'neg':acl_files_neg})\n",
    "acl_files_df = pd.melt(acl_files_df, value_vars=['pos','neg'],value_name=\"file\",var_name=\"label\")\n",
    "acl_files_df[\"label_num\"] = acl_files_df.label.map({\"neg\":0, \"pos\":1})\n",
    "acl_files_df.sample(10)"
   ]
  },
  {
   "cell_type": "code",
   "execution_count": 119,
   "metadata": {
    "scrolled": true
   },
   "outputs": [],
   "source": [
    "# splitting into test & train\n",
    "from sklearn.model_selection import train_test_split\n",
    "import numpy as np\n",
    "sample = acl_files_df #.sample(200)\n",
    "acl_X = sample[\"file\"]\n",
    "acl_Y = sample[\"label_num\"]\n",
    "acl_train_X, acl_test_X, acl_train_Y, acl_test_Y = train_test_split(acl_X, acl_Y, random_state=1)"
   ]
  },
  {
   "cell_type": "code",
   "execution_count": 120,
   "metadata": {},
   "outputs": [],
   "source": [
    "from sklearn.feature_extraction.text import CountVectorizer\n",
    "vect = CountVectorizer(max_features=20000)\n",
    "vect.fit((open(e).read() for e in acl_train_X))\n",
    "acl_train_dtm = vect.transform((open(e).read() for e in acl_train_X))"
   ]
  },
  {
   "cell_type": "code",
   "execution_count": 121,
   "metadata": {},
   "outputs": [],
   "source": [
    "from sklearn.feature_extraction.text import TfidfTransformer\n",
    "tfidf = TfidfTransformer()\n",
    "tfidf.fit(acl_train_dtm)\n",
    "acl_train_dtm = tfidf.transform(acl_train_dtm)"
   ]
  },
  {
   "cell_type": "code",
   "execution_count": 122,
   "metadata": {},
   "outputs": [],
   "source": [
    "#from sklearn.feature_extraction.text import HashingVectorizer\n",
    "#hvect = HashingVectorizer()\n",
    "#acl_train_dtm = hvect.fit((open(e).read() for e in acl_train_X))\n",
    "#acl_train_dtm = hvect.transform((open(e).read() for e in acl_train_X))\n",
    "\n",
    "#from sklearn.decomposition import MiniBatchDictionaryLearning\n",
    "#nmf = MiniBatchDictionaryLearning() #(n_components=2, init='random', random_state=0)\n",
    "#nmf.fit(acl_train_dtm)\n",
    "#acl_train_dtm = nmf.transform(acl_train_dtm)"
   ]
  },
  {
   "cell_type": "code",
   "execution_count": 123,
   "metadata": {
    "scrolled": false
   },
   "outputs": [
    {
     "data": {
      "text/plain": [
       "['00',\n",
       " '000',\n",
       " '007',\n",
       " '01',\n",
       " '02',\n",
       " '05',\n",
       " '06',\n",
       " '08',\n",
       " '10',\n",
       " '100',\n",
       " '1000',\n",
       " '100th',\n",
       " '101',\n",
       " '102',\n",
       " '105',\n",
       " '10th',\n",
       " '11',\n",
       " '110',\n",
       " '117',\n",
       " '11th']"
      ]
     },
     "execution_count": 123,
     "metadata": {},
     "output_type": "execute_result"
    }
   ],
   "source": [
    "# examine the fitted vocabulary\n",
    "vect.get_feature_names()[:20]"
   ]
  },
  {
   "cell_type": "code",
   "execution_count": 124,
   "metadata": {
    "scrolled": false
   },
   "outputs": [],
   "source": [
    "acl_test_dtm = vect.transform((open(e).read() for e in acl_test_X))\n",
    "\n",
    "#acl_test_dtm = hvect.transform((open(e).read() for e in acl_test_X))\n",
    "\n",
    "acl_test_dtm = tfidf.transform(acl_test_dtm)\n",
    "\n",
    "#acl_test_dtm = nmf.transform(acl_test_dtm)"
   ]
  },
  {
   "cell_type": "code",
   "execution_count": 125,
   "metadata": {
    "scrolled": false
   },
   "outputs": [],
   "source": [
    "acl_mperf_accu_idf = {}"
   ]
  },
  {
   "cell_type": "markdown",
   "metadata": {},
   "source": [
    "#### sklearn - MultinomialNB using TF-IDF"
   ]
  },
  {
   "cell_type": "code",
   "execution_count": 126,
   "metadata": {},
   "outputs": [],
   "source": [
    "# import and instantiate a Multinomial Naive Bayes model\n",
    "from sklearn.naive_bayes import MultinomialNB\n",
    "name = \"MultinomialNB\"\n",
    "nb = MultinomialNB()"
   ]
  },
  {
   "cell_type": "code",
   "execution_count": 127,
   "metadata": {
    "scrolled": true
   },
   "outputs": [
    {
     "name": "stdout",
     "output_type": "stream",
     "text": [
      "35.2 ms ± 0 ns per loop (mean ± std. dev. of 1 run, 1 loop each)\n"
     ]
    }
   ],
   "source": [
    "result = %timeit -r 1 -n 1 -o nb.fit(acl_train_dtm, acl_train_Y)\n",
    "fit_dur=result.average"
   ]
  },
  {
   "cell_type": "code",
   "execution_count": 128,
   "metadata": {},
   "outputs": [
    {
     "name": "stdout",
     "output_type": "stream",
     "text": [
      "12.6 ms ± 0 ns per loop (mean ± std. dev. of 1 run, 1 loop each)\n"
     ]
    },
    {
     "data": {
      "text/plain": [
       "array([0, 0, 1, ..., 0, 1, 0])"
      ]
     },
     "execution_count": 128,
     "metadata": {},
     "output_type": "execute_result"
    }
   ],
   "source": [
    "result = %timeit -r 1 -n 1 -o nb.predict(acl_test_dtm)\n",
    "predict_dur=result.average\n",
    "y_pred_class = nb.predict(acl_test_dtm)\n",
    "y_pred_class"
   ]
  },
  {
   "cell_type": "code",
   "execution_count": 129,
   "metadata": {},
   "outputs": [
    {
     "name": "stdout",
     "output_type": "stream",
     "text": [
      "[False False  True ... False  True False]\n"
     ]
    }
   ],
   "source": [
    "# tranformation into a boolean array\n",
    "print(y_pred_class==1)"
   ]
  },
  {
   "cell_type": "code",
   "execution_count": 130,
   "metadata": {},
   "outputs": [
    {
     "data": {
      "text/html": [
       "<div>\n",
       "<style scoped>\n",
       "    .dataframe tbody tr th:only-of-type {\n",
       "        vertical-align: middle;\n",
       "    }\n",
       "\n",
       "    .dataframe tbody tr th {\n",
       "        vertical-align: top;\n",
       "    }\n",
       "\n",
       "    .dataframe thead th {\n",
       "        text-align: right;\n",
       "    }\n",
       "</style>\n",
       "<table border=\"1\" class=\"dataframe\">\n",
       "  <thead>\n",
       "    <tr style=\"text-align: right;\">\n",
       "      <th></th>\n",
       "      <th>file</th>\n",
       "    </tr>\n",
       "  </thead>\n",
       "  <tbody>\n",
       "    <tr>\n",
       "      <th>19621</th>\n",
       "      <td>data/aclImdb_v1/aclImdb/test/pos/682_9.txt</td>\n",
       "    </tr>\n",
       "    <tr>\n",
       "      <th>19360</th>\n",
       "      <td>data/aclImdb_v1/aclImdb/test/pos/6562_8.txt</td>\n",
       "    </tr>\n",
       "    <tr>\n",
       "      <th>1264</th>\n",
       "      <td>data/aclImdb_v1/aclImdb/train/pos/9881_8.txt</td>\n",
       "    </tr>\n",
       "    <tr>\n",
       "      <th>16773</th>\n",
       "      <td>data/aclImdb_v1/aclImdb/test/pos/3988_7.txt</td>\n",
       "    </tr>\n",
       "    <tr>\n",
       "      <th>10613</th>\n",
       "      <td>data/aclImdb_v1/aclImdb/train/pos/10634_10.txt</td>\n",
       "    </tr>\n",
       "    <tr>\n",
       "      <th>5734</th>\n",
       "      <td>data/aclImdb_v1/aclImdb/train/pos/5483_10.txt</td>\n",
       "    </tr>\n",
       "    <tr>\n",
       "      <th>16842</th>\n",
       "      <td>data/aclImdb_v1/aclImdb/test/pos/3875_9.txt</td>\n",
       "    </tr>\n",
       "    <tr>\n",
       "      <th>11221</th>\n",
       "      <td>data/aclImdb_v1/aclImdb/train/pos/11284_8.txt</td>\n",
       "    </tr>\n",
       "    <tr>\n",
       "      <th>2124</th>\n",
       "      <td>data/aclImdb_v1/aclImdb/train/pos/176_7.txt</td>\n",
       "    </tr>\n",
       "    <tr>\n",
       "      <th>17330</th>\n",
       "      <td>data/aclImdb_v1/aclImdb/test/pos/4389_10.txt</td>\n",
       "    </tr>\n",
       "    <tr>\n",
       "      <th>16516</th>\n",
       "      <td>data/aclImdb_v1/aclImdb/test/pos/3681_10.txt</td>\n",
       "    </tr>\n",
       "    <tr>\n",
       "      <th>2018</th>\n",
       "      <td>data/aclImdb_v1/aclImdb/train/pos/1640_10.txt</td>\n",
       "    </tr>\n",
       "    <tr>\n",
       "      <th>7577</th>\n",
       "      <td>data/aclImdb_v1/aclImdb/train/pos/7367_7.txt</td>\n",
       "    </tr>\n",
       "    <tr>\n",
       "      <th>11596</th>\n",
       "      <td>data/aclImdb_v1/aclImdb/train/pos/11654_9.txt</td>\n",
       "    </tr>\n",
       "    <tr>\n",
       "      <th>21968</th>\n",
       "      <td>data/aclImdb_v1/aclImdb/test/pos/93_9.txt</td>\n",
       "    </tr>\n",
       "    <tr>\n",
       "      <th>8793</th>\n",
       "      <td>data/aclImdb_v1/aclImdb/train/pos/8688_8.txt</td>\n",
       "    </tr>\n",
       "    <tr>\n",
       "      <th>5421</th>\n",
       "      <td>data/aclImdb_v1/aclImdb/train/pos/5042_9.txt</td>\n",
       "    </tr>\n",
       "    <tr>\n",
       "      <th>5416</th>\n",
       "      <td>data/aclImdb_v1/aclImdb/train/pos/5038_10.txt</td>\n",
       "    </tr>\n",
       "    <tr>\n",
       "      <th>20458</th>\n",
       "      <td>data/aclImdb_v1/aclImdb/test/pos/7782_10.txt</td>\n",
       "    </tr>\n",
       "    <tr>\n",
       "      <th>15186</th>\n",
       "      <td>data/aclImdb_v1/aclImdb/test/pos/2263_10.txt</td>\n",
       "    </tr>\n",
       "  </tbody>\n",
       "</table>\n",
       "</div>"
      ],
      "text/plain": [
       "                                                 file\n",
       "19621      data/aclImdb_v1/aclImdb/test/pos/682_9.txt\n",
       "19360     data/aclImdb_v1/aclImdb/test/pos/6562_8.txt\n",
       "1264     data/aclImdb_v1/aclImdb/train/pos/9881_8.txt\n",
       "16773     data/aclImdb_v1/aclImdb/test/pos/3988_7.txt\n",
       "10613  data/aclImdb_v1/aclImdb/train/pos/10634_10.txt\n",
       "5734    data/aclImdb_v1/aclImdb/train/pos/5483_10.txt\n",
       "16842     data/aclImdb_v1/aclImdb/test/pos/3875_9.txt\n",
       "11221   data/aclImdb_v1/aclImdb/train/pos/11284_8.txt\n",
       "2124      data/aclImdb_v1/aclImdb/train/pos/176_7.txt\n",
       "17330    data/aclImdb_v1/aclImdb/test/pos/4389_10.txt\n",
       "16516    data/aclImdb_v1/aclImdb/test/pos/3681_10.txt\n",
       "2018    data/aclImdb_v1/aclImdb/train/pos/1640_10.txt\n",
       "7577     data/aclImdb_v1/aclImdb/train/pos/7367_7.txt\n",
       "11596   data/aclImdb_v1/aclImdb/train/pos/11654_9.txt\n",
       "21968       data/aclImdb_v1/aclImdb/test/pos/93_9.txt\n",
       "8793     data/aclImdb_v1/aclImdb/train/pos/8688_8.txt\n",
       "5421     data/aclImdb_v1/aclImdb/train/pos/5042_9.txt\n",
       "5416    data/aclImdb_v1/aclImdb/train/pos/5038_10.txt\n",
       "20458    data/aclImdb_v1/aclImdb/test/pos/7782_10.txt\n",
       "15186    data/aclImdb_v1/aclImdb/test/pos/2263_10.txt"
      ]
     },
     "execution_count": 130,
     "metadata": {},
     "output_type": "execute_result"
    }
   ],
   "source": [
    "# some film predicted as good\n",
    "pd.DataFrame(acl_test_X[y_pred_class==1]).sample(20)"
   ]
  },
  {
   "cell_type": "code",
   "execution_count": 131,
   "metadata": {},
   "outputs": [
    {
     "data": {
      "text/plain": [
       "{'fit_duration': 0.03524996500004818,\n",
       " 'predict_duration': 0.012567012000033628,\n",
       " 'accuracy': 0.85848,\n",
       " 'recall': 0.8443255155044861}"
      ]
     },
     "execution_count": 131,
     "metadata": {},
     "output_type": "execute_result"
    }
   ],
   "source": [
    "compute_model_perf(acl_mperf_accu_idf,acl_test_Y, y_pred_class,name,fit_dur,predict_dur)"
   ]
  },
  {
   "cell_type": "code",
   "execution_count": 132,
   "metadata": {
    "scrolled": true
   },
   "outputs": [
    {
     "data": {
      "image/png": "[encoded data removed]",
      "text/plain": [
       "<Figure size 576x432 with 2 Axes>"
      ]
     },
     "metadata": {
      "needs_background": "light"
     },
     "output_type": "display_data"
    }
   ],
   "source": [
    "# print the confusion matrix\n",
    "plot_confusion_matrix(metrics.confusion_matrix(acl_test_Y, y_pred_class),['good','bad'],name)"
   ]
  },
  {
   "cell_type": "markdown",
   "metadata": {},
   "source": [
    "#### sklearn - PassiveAggressive using TF-IDF"
   ]
  },
  {
   "cell_type": "code",
   "execution_count": 133,
   "metadata": {},
   "outputs": [],
   "source": [
    "from sklearn.linear_model import PassiveAggressiveClassifier\n",
    "name = \"PassiveAggressive\"\n",
    "nb = PassiveAggressiveClassifier(random_state=0)"
   ]
  },
  {
   "cell_type": "code",
   "execution_count": 134,
   "metadata": {
    "scrolled": true
   },
   "outputs": [
    {
     "name": "stdout",
     "output_type": "stream",
     "text": [
      "145 ms ± 0 ns per loop (mean ± std. dev. of 1 run, 1 loop each)\n"
     ]
    },
    {
     "name": "stderr",
     "output_type": "stream",
     "text": [
      "/usr/lib/python3.7/site-packages/sklearn/linear_model/stochastic_gradient.py:144: FutureWarning: max_iter and tol parameters have been added in PassiveAggressiveClassifier in 0.19. If both are left unset, they default to max_iter=5 and tol=None. If tol is not None, max_iter defaults to max_iter=1000. From 0.21, default max_iter will be 1000, and default tol will be 1e-3.\n",
      "  FutureWarning)\n"
     ]
    }
   ],
   "source": [
    "result = %timeit -r 1 -n 1 -o nb.fit(acl_train_dtm, acl_train_Y)\n",
    "fit_dur=result.average"
   ]
  },
  {
   "cell_type": "code",
   "execution_count": 135,
   "metadata": {},
   "outputs": [
    {
     "name": "stdout",
     "output_type": "stream",
     "text": [
      "5.61 ms ± 0 ns per loop (mean ± std. dev. of 1 run, 1 loop each)\n"
     ]
    },
    {
     "data": {
      "text/plain": [
       "array([0, 1, 0, ..., 0, 1, 0])"
      ]
     },
     "execution_count": 135,
     "metadata": {},
     "output_type": "execute_result"
    }
   ],
   "source": [
    "result = %timeit -r 1 -n 1 -o nb.predict(acl_test_dtm)\n",
    "predict_dur=result.average\n",
    "y_pred_class = nb.predict(acl_test_dtm)\n",
    "y_pred_class"
   ]
  },
  {
   "cell_type": "code",
   "execution_count": 136,
   "metadata": {},
   "outputs": [
    {
     "name": "stdout",
     "output_type": "stream",
     "text": [
      "[False  True False ... False  True False]\n"
     ]
    }
   ],
   "source": [
    "# tranformation into a boolean array\n",
    "print(y_pred_class==1)"
   ]
  },
  {
   "cell_type": "code",
   "execution_count": 137,
   "metadata": {},
   "outputs": [
    {
     "data": {
      "text/html": [
       "<div>\n",
       "<style scoped>\n",
       "    .dataframe tbody tr th:only-of-type {\n",
       "        vertical-align: middle;\n",
       "    }\n",
       "\n",
       "    .dataframe tbody tr th {\n",
       "        vertical-align: top;\n",
       "    }\n",
       "\n",
       "    .dataframe thead th {\n",
       "        text-align: right;\n",
       "    }\n",
       "</style>\n",
       "<table border=\"1\" class=\"dataframe\">\n",
       "  <thead>\n",
       "    <tr style=\"text-align: right;\">\n",
       "      <th></th>\n",
       "      <th>file</th>\n",
       "    </tr>\n",
       "  </thead>\n",
       "  <tbody>\n",
       "    <tr>\n",
       "      <th>34919</th>\n",
       "      <td>data/aclImdb_v1/aclImdb/train/neg/9775_4.txt</td>\n",
       "    </tr>\n",
       "    <tr>\n",
       "      <th>192</th>\n",
       "      <td>data/aclImdb_v1/aclImdb/train/pos/2217_7.txt</td>\n",
       "    </tr>\n",
       "    <tr>\n",
       "      <th>4318</th>\n",
       "      <td>data/aclImdb_v1/aclImdb/train/pos/3888_10.txt</td>\n",
       "    </tr>\n",
       "    <tr>\n",
       "      <th>15560</th>\n",
       "      <td>data/aclImdb_v1/aclImdb/test/pos/2642_8.txt</td>\n",
       "    </tr>\n",
       "    <tr>\n",
       "      <th>15324</th>\n",
       "      <td>data/aclImdb_v1/aclImdb/test/pos/237_8.txt</td>\n",
       "    </tr>\n",
       "    <tr>\n",
       "      <th>13909</th>\n",
       "      <td>data/aclImdb_v1/aclImdb/test/pos/11424_8.txt</td>\n",
       "    </tr>\n",
       "    <tr>\n",
       "      <th>9060</th>\n",
       "      <td>data/aclImdb_v1/aclImdb/train/pos/8907_8.txt</td>\n",
       "    </tr>\n",
       "    <tr>\n",
       "      <th>14151</th>\n",
       "      <td>data/aclImdb_v1/aclImdb/test/pos/12382_9.txt</td>\n",
       "    </tr>\n",
       "    <tr>\n",
       "      <th>2516</th>\n",
       "      <td>data/aclImdb_v1/aclImdb/train/pos/2117_10.txt</td>\n",
       "    </tr>\n",
       "    <tr>\n",
       "      <th>15449</th>\n",
       "      <td>data/aclImdb_v1/aclImdb/test/pos/2495_7.txt</td>\n",
       "    </tr>\n",
       "    <tr>\n",
       "      <th>35906</th>\n",
       "      <td>data/aclImdb_v1/aclImdb/train/neg/1083_1.txt</td>\n",
       "    </tr>\n",
       "    <tr>\n",
       "      <th>18649</th>\n",
       "      <td>data/aclImdb_v1/aclImdb/test/pos/5798_10.txt</td>\n",
       "    </tr>\n",
       "    <tr>\n",
       "      <th>8540</th>\n",
       "      <td>data/aclImdb_v1/aclImdb/train/pos/8462_9.txt</td>\n",
       "    </tr>\n",
       "    <tr>\n",
       "      <th>19395</th>\n",
       "      <td>data/aclImdb_v1/aclImdb/test/pos/6560_10.txt</td>\n",
       "    </tr>\n",
       "    <tr>\n",
       "      <th>24232</th>\n",
       "      <td>data/aclImdb_v1/aclImdb/test/pos/11786_10.txt</td>\n",
       "    </tr>\n",
       "    <tr>\n",
       "      <th>40487</th>\n",
       "      <td>data/aclImdb_v1/aclImdb/test/neg/2464_4.txt</td>\n",
       "    </tr>\n",
       "    <tr>\n",
       "      <th>3480</th>\n",
       "      <td>data/aclImdb_v1/aclImdb/train/pos/297_10.txt</td>\n",
       "    </tr>\n",
       "    <tr>\n",
       "      <th>18791</th>\n",
       "      <td>data/aclImdb_v1/aclImdb/test/pos/5913_10.txt</td>\n",
       "    </tr>\n",
       "    <tr>\n",
       "      <th>9194</th>\n",
       "      <td>data/aclImdb_v1/aclImdb/train/pos/9034_10.txt</td>\n",
       "    </tr>\n",
       "    <tr>\n",
       "      <th>17684</th>\n",
       "      <td>data/aclImdb_v1/aclImdb/test/pos/47_10.txt</td>\n",
       "    </tr>\n",
       "  </tbody>\n",
       "</table>\n",
       "</div>"
      ],
      "text/plain": [
       "                                                file\n",
       "34919   data/aclImdb_v1/aclImdb/train/neg/9775_4.txt\n",
       "192     data/aclImdb_v1/aclImdb/train/pos/2217_7.txt\n",
       "4318   data/aclImdb_v1/aclImdb/train/pos/3888_10.txt\n",
       "15560    data/aclImdb_v1/aclImdb/test/pos/2642_8.txt\n",
       "15324     data/aclImdb_v1/aclImdb/test/pos/237_8.txt\n",
       "13909   data/aclImdb_v1/aclImdb/test/pos/11424_8.txt\n",
       "9060    data/aclImdb_v1/aclImdb/train/pos/8907_8.txt\n",
       "14151   data/aclImdb_v1/aclImdb/test/pos/12382_9.txt\n",
       "2516   data/aclImdb_v1/aclImdb/train/pos/2117_10.txt\n",
       "15449    data/aclImdb_v1/aclImdb/test/pos/2495_7.txt\n",
       "35906   data/aclImdb_v1/aclImdb/train/neg/1083_1.txt\n",
       "18649   data/aclImdb_v1/aclImdb/test/pos/5798_10.txt\n",
       "8540    data/aclImdb_v1/aclImdb/train/pos/8462_9.txt\n",
       "19395   data/aclImdb_v1/aclImdb/test/pos/6560_10.txt\n",
       "24232  data/aclImdb_v1/aclImdb/test/pos/11786_10.txt\n",
       "40487    data/aclImdb_v1/aclImdb/test/neg/2464_4.txt\n",
       "3480    data/aclImdb_v1/aclImdb/train/pos/297_10.txt\n",
       "18791   data/aclImdb_v1/aclImdb/test/pos/5913_10.txt\n",
       "9194   data/aclImdb_v1/aclImdb/train/pos/9034_10.txt\n",
       "17684     data/aclImdb_v1/aclImdb/test/pos/47_10.txt"
      ]
     },
     "execution_count": 137,
     "metadata": {},
     "output_type": "execute_result"
    }
   ],
   "source": [
    "# some film predicted as good\n",
    "pd.DataFrame(acl_test_X[y_pred_class==1]).sample(20)"
   ]
  },
  {
   "cell_type": "code",
   "execution_count": 138,
   "metadata": {},
   "outputs": [
    {
     "data": {
      "text/plain": [
       "{'fit_duration': 0.14502837800000634,\n",
       " 'predict_duration': 0.005611222000027283,\n",
       " 'accuracy': 0.88656,\n",
       " 'recall': 0.8830473791909335}"
      ]
     },
     "execution_count": 138,
     "metadata": {},
     "output_type": "execute_result"
    }
   ],
   "source": [
    "compute_model_perf(acl_mperf_accu_idf,acl_test_Y, y_pred_class,name,fit_dur,predict_dur)"
   ]
  },
  {
   "cell_type": "code",
   "execution_count": 139,
   "metadata": {
    "scrolled": true
   },
   "outputs": [
    {
     "data": {
      "image/png": "[encoded data removed]",
      "text/plain": [
       "<Figure size 576x432 with 2 Axes>"
      ]
     },
     "metadata": {
      "needs_background": "light"
     },
     "output_type": "display_data"
    }
   ],
   "source": [
    "# print the confusion matrix\n",
    "plot_confusion_matrix(metrics.confusion_matrix(acl_test_Y, y_pred_class),['good','bad'],name)"
   ]
  },
  {
   "cell_type": "markdown",
   "metadata": {},
   "source": [
    "#### sklearn - PassiveAggressive using TF-IDF"
   ]
  },
  {
   "cell_type": "code",
   "execution_count": 140,
   "metadata": {},
   "outputs": [],
   "source": [
    "from sklearn.linear_model import Perceptron\n",
    "name = \"Perceptron\"\n",
    "nb = Perceptron(tol=1e-3)"
   ]
  },
  {
   "cell_type": "code",
   "execution_count": 141,
   "metadata": {
    "scrolled": true
   },
   "outputs": [
    {
     "name": "stdout",
     "output_type": "stream",
     "text": [
      "259 ms ± 0 ns per loop (mean ± std. dev. of 1 run, 1 loop each)\n"
     ]
    }
   ],
   "source": [
    "result = %timeit -r 1 -n 1 -o nb.fit(acl_train_dtm, acl_train_Y)\n",
    "fit_dur=result.average"
   ]
  },
  {
   "cell_type": "code",
   "execution_count": 142,
   "metadata": {},
   "outputs": [
    {
     "name": "stdout",
     "output_type": "stream",
     "text": [
      "6.53 ms ± 0 ns per loop (mean ± std. dev. of 1 run, 1 loop each)\n"
     ]
    },
    {
     "data": {
      "text/plain": [
       "array([0, 1, 0, ..., 0, 1, 0])"
      ]
     },
     "execution_count": 142,
     "metadata": {},
     "output_type": "execute_result"
    }
   ],
   "source": [
    "result = %timeit -r 1 -n 1 -o nb.predict(acl_test_dtm)\n",
    "predict_dur=result.average\n",
    "y_pred_class = nb.predict(acl_test_dtm)\n",
    "y_pred_class"
   ]
  },
  {
   "cell_type": "code",
   "execution_count": 143,
   "metadata": {},
   "outputs": [
    {
     "name": "stdout",
     "output_type": "stream",
     "text": [
      "[False  True False ... False  True False]\n"
     ]
    }
   ],
   "source": [
    "# tranformation into a boolean array\n",
    "print(y_pred_class==1)"
   ]
  },
  {
   "cell_type": "code",
   "execution_count": 144,
   "metadata": {},
   "outputs": [
    {
     "data": {
      "text/html": [
       "<div>\n",
       "<style scoped>\n",
       "    .dataframe tbody tr th:only-of-type {\n",
       "        vertical-align: middle;\n",
       "    }\n",
       "\n",
       "    .dataframe tbody tr th {\n",
       "        vertical-align: top;\n",
       "    }\n",
       "\n",
       "    .dataframe thead th {\n",
       "        text-align: right;\n",
       "    }\n",
       "</style>\n",
       "<table border=\"1\" class=\"dataframe\">\n",
       "  <thead>\n",
       "    <tr style=\"text-align: right;\">\n",
       "      <th></th>\n",
       "      <th>file</th>\n",
       "    </tr>\n",
       "  </thead>\n",
       "  <tbody>\n",
       "    <tr>\n",
       "      <th>21713</th>\n",
       "      <td>data/aclImdb_v1/aclImdb/test/pos/8990_8.txt</td>\n",
       "    </tr>\n",
       "    <tr>\n",
       "      <th>5809</th>\n",
       "      <td>data/aclImdb_v1/aclImdb/train/pos/5607_7.txt</td>\n",
       "    </tr>\n",
       "    <tr>\n",
       "      <th>21797</th>\n",
       "      <td>data/aclImdb_v1/aclImdb/test/pos/9196_8.txt</td>\n",
       "    </tr>\n",
       "    <tr>\n",
       "      <th>13763</th>\n",
       "      <td>data/aclImdb_v1/aclImdb/test/pos/9880_8.txt</td>\n",
       "    </tr>\n",
       "    <tr>\n",
       "      <th>38029</th>\n",
       "      <td>data/aclImdb_v1/aclImdb/test/neg/490_2.txt</td>\n",
       "    </tr>\n",
       "    <tr>\n",
       "      <th>9898</th>\n",
       "      <td>data/aclImdb_v1/aclImdb/train/pos/9789_10.txt</td>\n",
       "    </tr>\n",
       "    <tr>\n",
       "      <th>4540</th>\n",
       "      <td>data/aclImdb_v1/aclImdb/train/pos/4025_9.txt</td>\n",
       "    </tr>\n",
       "    <tr>\n",
       "      <th>15015</th>\n",
       "      <td>data/aclImdb_v1/aclImdb/test/pos/2115_10.txt</td>\n",
       "    </tr>\n",
       "    <tr>\n",
       "      <th>12116</th>\n",
       "      <td>data/aclImdb_v1/aclImdb/train/pos/12117_7.txt</td>\n",
       "    </tr>\n",
       "    <tr>\n",
       "      <th>31691</th>\n",
       "      <td>data/aclImdb_v1/aclImdb/train/neg/6473_3.txt</td>\n",
       "    </tr>\n",
       "    <tr>\n",
       "      <th>12119</th>\n",
       "      <td>data/aclImdb_v1/aclImdb/train/pos/1211_7.txt</td>\n",
       "    </tr>\n",
       "    <tr>\n",
       "      <th>18430</th>\n",
       "      <td>data/aclImdb_v1/aclImdb/test/pos/5714_10.txt</td>\n",
       "    </tr>\n",
       "    <tr>\n",
       "      <th>24437</th>\n",
       "      <td>data/aclImdb_v1/aclImdb/test/pos/12042_9.txt</td>\n",
       "    </tr>\n",
       "    <tr>\n",
       "      <th>8493</th>\n",
       "      <td>data/aclImdb_v1/aclImdb/train/pos/830_10.txt</td>\n",
       "    </tr>\n",
       "    <tr>\n",
       "      <th>4921</th>\n",
       "      <td>data/aclImdb_v1/aclImdb/train/pos/4525_8.txt</td>\n",
       "    </tr>\n",
       "    <tr>\n",
       "      <th>6595</th>\n",
       "      <td>data/aclImdb_v1/aclImdb/train/pos/6375_8.txt</td>\n",
       "    </tr>\n",
       "    <tr>\n",
       "      <th>22842</th>\n",
       "      <td>data/aclImdb_v1/aclImdb/test/pos/10388_10.txt</td>\n",
       "    </tr>\n",
       "    <tr>\n",
       "      <th>20750</th>\n",
       "      <td>data/aclImdb_v1/aclImdb/test/pos/7990_9.txt</td>\n",
       "    </tr>\n",
       "    <tr>\n",
       "      <th>24171</th>\n",
       "      <td>data/aclImdb_v1/aclImdb/test/pos/11596_10.txt</td>\n",
       "    </tr>\n",
       "    <tr>\n",
       "      <th>10949</th>\n",
       "      <td>data/aclImdb_v1/aclImdb/train/pos/10810_8.txt</td>\n",
       "    </tr>\n",
       "  </tbody>\n",
       "</table>\n",
       "</div>"
      ],
      "text/plain": [
       "                                                file\n",
       "21713    data/aclImdb_v1/aclImdb/test/pos/8990_8.txt\n",
       "5809    data/aclImdb_v1/aclImdb/train/pos/5607_7.txt\n",
       "21797    data/aclImdb_v1/aclImdb/test/pos/9196_8.txt\n",
       "13763    data/aclImdb_v1/aclImdb/test/pos/9880_8.txt\n",
       "38029     data/aclImdb_v1/aclImdb/test/neg/490_2.txt\n",
       "9898   data/aclImdb_v1/aclImdb/train/pos/9789_10.txt\n",
       "4540    data/aclImdb_v1/aclImdb/train/pos/4025_9.txt\n",
       "15015   data/aclImdb_v1/aclImdb/test/pos/2115_10.txt\n",
       "12116  data/aclImdb_v1/aclImdb/train/pos/12117_7.txt\n",
       "31691   data/aclImdb_v1/aclImdb/train/neg/6473_3.txt\n",
       "12119   data/aclImdb_v1/aclImdb/train/pos/1211_7.txt\n",
       "18430   data/aclImdb_v1/aclImdb/test/pos/5714_10.txt\n",
       "24437   data/aclImdb_v1/aclImdb/test/pos/12042_9.txt\n",
       "8493    data/aclImdb_v1/aclImdb/train/pos/830_10.txt\n",
       "4921    data/aclImdb_v1/aclImdb/train/pos/4525_8.txt\n",
       "6595    data/aclImdb_v1/aclImdb/train/pos/6375_8.txt\n",
       "22842  data/aclImdb_v1/aclImdb/test/pos/10388_10.txt\n",
       "20750    data/aclImdb_v1/aclImdb/test/pos/7990_9.txt\n",
       "24171  data/aclImdb_v1/aclImdb/test/pos/11596_10.txt\n",
       "10949  data/aclImdb_v1/aclImdb/train/pos/10810_8.txt"
      ]
     },
     "execution_count": 144,
     "metadata": {},
     "output_type": "execute_result"
    }
   ],
   "source": [
    "# some film predicted as good\n",
    "pd.DataFrame(acl_test_X[y_pred_class==1]).sample(20)"
   ]
  },
  {
   "cell_type": "code",
   "execution_count": 145,
   "metadata": {},
   "outputs": [
    {
     "data": {
      "text/plain": [
       "{'fit_duration': 0.2593243530000109,\n",
       " 'predict_duration': 0.006533379000018158,\n",
       " 'accuracy': 0.86776,\n",
       " 'recall': 0.8981583503856446}"
      ]
     },
     "execution_count": 145,
     "metadata": {},
     "output_type": "execute_result"
    }
   ],
   "source": [
    "compute_model_perf(acl_mperf_accu_idf,acl_test_Y, y_pred_class,name,fit_dur,predict_dur)"
   ]
  },
  {
   "cell_type": "code",
   "execution_count": 146,
   "metadata": {
    "scrolled": true
   },
   "outputs": [
    {
     "data": {
      "image/png": "[encoded data removed]",
      "text/plain": [
       "<Figure size 576x432 with 2 Axes>"
      ]
     },
     "metadata": {
      "needs_background": "light"
     },
     "output_type": "display_data"
    }
   ],
   "source": [
    "# print the confusion matrix\n",
    "plot_confusion_matrix(metrics.confusion_matrix(acl_test_Y, y_pred_class),['good','bad'],name)"
   ]
  },
  {
   "cell_type": "markdown",
   "metadata": {},
   "source": [
    "#### sklearn - KNN using CountVectorizer"
   ]
  },
  {
   "cell_type": "code",
   "execution_count": 147,
   "metadata": {},
   "outputs": [],
   "source": [
    "from sklearn.neighbors import KNeighborsClassifier\n",
    "nb = KNeighborsClassifier(3)"
   ]
  },
  {
   "cell_type": "code",
   "execution_count": 148,
   "metadata": {
    "scrolled": true
   },
   "outputs": [
    {
     "name": "stdout",
     "output_type": "stream",
     "text": [
      "CPU times: user 29.7 ms, sys: 0 ns, total: 29.7 ms\n",
      "Wall time: 28.7 ms\n"
     ]
    },
    {
     "data": {
      "text/plain": [
       "KNeighborsClassifier(algorithm='auto', leaf_size=30, metric='minkowski',\n",
       "           metric_params=None, n_jobs=None, n_neighbors=3, p=2,\n",
       "           weights='uniform')"
      ]
     },
     "execution_count": 148,
     "metadata": {},
     "output_type": "execute_result"
    }
   ],
   "source": [
    "# train the model using X_train_dtm (timing it with an IPython \"magic command\")\n",
    "%time nb.fit(acl_train_dtm, acl_train_Y)"
   ]
  },
  {
   "cell_type": "code",
   "execution_count": 149,
   "metadata": {},
   "outputs": [],
   "source": [
    "y_pred_class=nb.predict(acl_test_dtm)"
   ]
  },
  {
   "cell_type": "code",
   "execution_count": 150,
   "metadata": {},
   "outputs": [
    {
     "data": {
      "text/plain": [
       "0.75096"
      ]
     },
     "execution_count": 150,
     "metadata": {},
     "output_type": "execute_result"
    }
   ],
   "source": [
    "# calculate accuracy of class predictions\n",
    "from sklearn import metrics\n",
    "metrics.accuracy_score(acl_test_Y, y_pred_class)"
   ]
  },
  {
   "cell_type": "code",
   "execution_count": 151,
   "metadata": {
    "scrolled": false
   },
   "outputs": [
    {
     "data": {
      "image/png": "[encoded data removed]",
      "text/plain": [
       "<Figure size 576x432 with 2 Axes>"
      ]
     },
     "metadata": {
      "needs_background": "light"
     },
     "output_type": "display_data"
    }
   ],
   "source": [
    "# print the confusion matrix\n",
    "plot_confusion_matrix(metrics.confusion_matrix(acl_test_Y, y_pred_class),['good','bad'])"
   ]
  },
  {
   "cell_type": "code",
   "execution_count": 152,
   "metadata": {},
   "outputs": [
    {
     "data": {
      "text/plain": [
       "<matplotlib.axes._subplots.AxesSubplot at 0x7effe5aa4588>"
      ]
     },
     "execution_count": 152,
     "metadata": {},
     "output_type": "execute_result"
    },
    {
     "data": {
      "image/png": "[encoded data removed]",
      "text/plain": [
       "<Figure size 1440x576 with 1 Axes>"
      ]
     },
     "metadata": {
      "needs_background": "light"
     },
     "output_type": "display_data"
    },
    {
     "data": {
      "image/png": "[encoded data removed]",
      "text/plain": [
       "<Figure size 1440x576 with 1 Axes>"
      ]
     },
     "metadata": {
      "needs_background": "light"
     },
     "output_type": "display_data"
    }
   ],
   "source": [
    "df = pd.DataFrame(acl_mperf_accu_idf)\n",
    "#df[\"type\"]=df.index\n",
    "#df.melt(id_vars=\"type\")\n",
    "df.T[['accuracy', 'recall']].plot.barh(rot=0,figsize=(20,8),fontsize=20, width=0.9,logx=False)\n",
    "df.T[['fit_duration', 'predict_duration']].plot.barh(rot=0,figsize=(20,8),fontsize=20, width=0.9,logx=False)"
   ]
  }
 ],
 "metadata": {
  "kernelspec": {
   "display_name": "Python 2",
   "language": "python",
   "name": "python2"
  },
  "language_info": {
   "codemirror_mode": {
    "name": "ipython",
    "version": 2
   },
   "file_extension": ".py",
   "mimetype": "text/x-python",
   "name": "python",
   "nbconvert_exporter": "python",
   "pygments_lexer": "ipython2",
   "version": "2.7.12"
  }
 },
 "nbformat": 4,
 "nbformat_minor": 1
}
